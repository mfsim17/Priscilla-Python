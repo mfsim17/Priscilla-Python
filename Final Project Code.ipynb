{
 "cells": [
  {
   "cell_type": "raw",
   "metadata": {},
   "source": [
    "1) Preprocess\n",
    "2) Modelling with different models > Compare metrics > select best model\n",
    "3) Try many ways to further improve the best model (Tuning)"
   ]
  },
  {
   "cell_type": "markdown",
   "metadata": {},
   "source": [
    "# 1) Libraries"
   ]
  },
  {
   "cell_type": "code",
   "execution_count": 3,
   "metadata": {},
   "outputs": [],
   "source": [
    "import pandas as pd\n",
    "# import geopandas as gpd\n",
    "# import folium\n",
    "import matplotlib.pyplot as plt\n",
    "%matplotlib inline\n",
    "import seaborn as sns\n",
    "import datetime as dt\n",
    "from pathlib import Path\n",
    "from sklearn.metrics import roc_curve\n",
    "from sklearn.metrics import roc_auc_score\n",
    "from sklearn.metrics import precision_score\n",
    "from sklearn.metrics import recall_score\n",
    "from sklearn.metrics import confusion_matrix"
   ]
  },
  {
   "cell_type": "markdown",
   "metadata": {},
   "source": [
    "# 2) Datasets "
   ]
  },
  {
   "cell_type": "raw",
   "metadata": {},
   "source": [
    "i) US Department of Transportation Flight Data\n",
    "ii) Federal USA Holidays (usholidays.csv)\n",
    "iii) NYC Weather datasets for JFK,LGA,EWR"
   ]
  },
  {
   "cell_type": "markdown",
   "metadata": {},
   "source": [
    "# 3) Preprocessing"
   ]
  },
  {
   "cell_type": "markdown",
   "metadata": {},
   "source": [
    "## i) Flight Dataframe"
   ]
  },
  {
   "cell_type": "code",
   "execution_count": 4,
   "metadata": {
    "scrolled": true
   },
   "outputs": [
    {
     "data": {
      "text/html": [
       "<div>\n",
       "<style scoped>\n",
       "    .dataframe tbody tr th:only-of-type {\n",
       "        vertical-align: middle;\n",
       "    }\n",
       "\n",
       "    .dataframe tbody tr th {\n",
       "        vertical-align: top;\n",
       "    }\n",
       "\n",
       "    .dataframe thead th {\n",
       "        text-align: right;\n",
       "    }\n",
       "</style>\n",
       "<table border=\"1\" class=\"dataframe\">\n",
       "  <thead>\n",
       "    <tr style=\"text-align: right;\">\n",
       "      <th></th>\n",
       "      <th>Unnamed: 0</th>\n",
       "      <th>MONTH</th>\n",
       "      <th>DAY_OF_WEEK</th>\n",
       "      <th>Date</th>\n",
       "      <th>OP_CARRIER</th>\n",
       "      <th>ORIGIN</th>\n",
       "      <th>ORIGIN_STATE_ABR</th>\n",
       "      <th>DEST</th>\n",
       "      <th>DEST_STATE_ABR</th>\n",
       "      <th>CRS_DEP_TIME</th>\n",
       "      <th>DEP_DELAY</th>\n",
       "      <th>DEP_DEL15</th>\n",
       "      <th>CRS_ELAPSED_TIME</th>\n",
       "      <th>DISTANCE</th>\n",
       "      <th>V14</th>\n",
       "    </tr>\n",
       "  </thead>\n",
       "  <tbody>\n",
       "    <tr>\n",
       "      <th>0</th>\n",
       "      <td>1</td>\n",
       "      <td>11</td>\n",
       "      <td>4</td>\n",
       "      <td>2019-11-28</td>\n",
       "      <td>WN</td>\n",
       "      <td>STL</td>\n",
       "      <td>MO</td>\n",
       "      <td>LGA</td>\n",
       "      <td>NY</td>\n",
       "      <td>1310</td>\n",
       "      <td>0.0</td>\n",
       "      <td>0.0</td>\n",
       "      <td>140.0</td>\n",
       "      <td>888</td>\n",
       "      <td>NaN</td>\n",
       "    </tr>\n",
       "    <tr>\n",
       "      <th>1</th>\n",
       "      <td>2</td>\n",
       "      <td>11</td>\n",
       "      <td>4</td>\n",
       "      <td>2019-11-28</td>\n",
       "      <td>WN</td>\n",
       "      <td>STL</td>\n",
       "      <td>MO</td>\n",
       "      <td>LGA</td>\n",
       "      <td>NY</td>\n",
       "      <td>825</td>\n",
       "      <td>-4.0</td>\n",
       "      <td>0.0</td>\n",
       "      <td>140.0</td>\n",
       "      <td>888</td>\n",
       "      <td>NaN</td>\n",
       "    </tr>\n",
       "    <tr>\n",
       "      <th>2</th>\n",
       "      <td>3</td>\n",
       "      <td>11</td>\n",
       "      <td>4</td>\n",
       "      <td>2019-11-28</td>\n",
       "      <td>WN</td>\n",
       "      <td>TPA</td>\n",
       "      <td>FL</td>\n",
       "      <td>ALB</td>\n",
       "      <td>NY</td>\n",
       "      <td>1155</td>\n",
       "      <td>-8.0</td>\n",
       "      <td>0.0</td>\n",
       "      <td>165.0</td>\n",
       "      <td>1130</td>\n",
       "      <td>NaN</td>\n",
       "    </tr>\n",
       "    <tr>\n",
       "      <th>3</th>\n",
       "      <td>4</td>\n",
       "      <td>11</td>\n",
       "      <td>4</td>\n",
       "      <td>2019-11-28</td>\n",
       "      <td>WN</td>\n",
       "      <td>TPA</td>\n",
       "      <td>FL</td>\n",
       "      <td>BUF</td>\n",
       "      <td>NY</td>\n",
       "      <td>900</td>\n",
       "      <td>42.0</td>\n",
       "      <td>1.0</td>\n",
       "      <td>155.0</td>\n",
       "      <td>1053</td>\n",
       "      <td>NaN</td>\n",
       "    </tr>\n",
       "    <tr>\n",
       "      <th>4</th>\n",
       "      <td>5</td>\n",
       "      <td>11</td>\n",
       "      <td>4</td>\n",
       "      <td>2019-11-28</td>\n",
       "      <td>WN</td>\n",
       "      <td>TPA</td>\n",
       "      <td>FL</td>\n",
       "      <td>ISP</td>\n",
       "      <td>NY</td>\n",
       "      <td>605</td>\n",
       "      <td>-3.0</td>\n",
       "      <td>0.0</td>\n",
       "      <td>150.0</td>\n",
       "      <td>1034</td>\n",
       "      <td>NaN</td>\n",
       "    </tr>\n",
       "  </tbody>\n",
       "</table>\n",
       "</div>"
      ],
      "text/plain": [
       "   Unnamed: 0  MONTH  DAY_OF_WEEK        Date OP_CARRIER ORIGIN  \\\n",
       "0           1     11            4  2019-11-28         WN    STL   \n",
       "1           2     11            4  2019-11-28         WN    STL   \n",
       "2           3     11            4  2019-11-28         WN    TPA   \n",
       "3           4     11            4  2019-11-28         WN    TPA   \n",
       "4           5     11            4  2019-11-28         WN    TPA   \n",
       "\n",
       "  ORIGIN_STATE_ABR DEST DEST_STATE_ABR  CRS_DEP_TIME  DEP_DELAY  DEP_DEL15  \\\n",
       "0               MO  LGA             NY          1310        0.0        0.0   \n",
       "1               MO  LGA             NY           825       -4.0        0.0   \n",
       "2               FL  ALB             NY          1155       -8.0        0.0   \n",
       "3               FL  BUF             NY           900       42.0        1.0   \n",
       "4               FL  ISP             NY           605       -3.0        0.0   \n",
       "\n",
       "   CRS_ELAPSED_TIME  DISTANCE  V14  \n",
       "0             140.0       888  NaN  \n",
       "1             140.0       888  NaN  \n",
       "2             165.0      1130  NaN  \n",
       "3             155.0      1053  NaN  \n",
       "4             150.0      1034  NaN  "
      ]
     },
     "execution_count": 4,
     "metadata": {},
     "output_type": "execute_result"
    }
   ],
   "source": [
    "flight_data = Path(r'C:\\Users\\miows\\Downloads\\final_flight_data.csv')\n",
    "#flight_df = pd.read_csv(\"~/Desktop/flight_data.csv\")\n",
    "#flight_data = Path(r'C:\\Users\\Xulei Guo\\Desktop\\flight_data.csv')\n",
    "\n",
    "# Loading flight dataset into dataframe\n",
    "flight_df = pd.read_csv(flight_data)\n",
    "\n",
    "# Renaming date column \n",
    "flight_df.rename(columns = {'FL_DATE':'Date'}, inplace = True)\n",
    "\n",
    "# Changing format of date column to yyyy-mm-dd\n",
    "flight_df['Date']= pd.to_datetime(flight_df['Date']).dt.strftime('%Y-%m-%d')\n",
    "\n",
    "flight_df.head()"
   ]
  },
  {
   "cell_type": "code",
   "execution_count": 5,
   "metadata": {},
   "outputs": [
    {
     "data": {
      "text/html": [
       "<div>\n",
       "<style scoped>\n",
       "    .dataframe tbody tr th:only-of-type {\n",
       "        vertical-align: middle;\n",
       "    }\n",
       "\n",
       "    .dataframe tbody tr th {\n",
       "        vertical-align: top;\n",
       "    }\n",
       "\n",
       "    .dataframe thead th {\n",
       "        text-align: right;\n",
       "    }\n",
       "</style>\n",
       "<table border=\"1\" class=\"dataframe\">\n",
       "  <thead>\n",
       "    <tr style=\"text-align: right;\">\n",
       "      <th></th>\n",
       "      <th>Unnamed: 0</th>\n",
       "      <th>MONTH</th>\n",
       "      <th>DAY_OF_WEEK</th>\n",
       "      <th>Date</th>\n",
       "      <th>OP_CARRIER</th>\n",
       "      <th>ORIGIN</th>\n",
       "      <th>ORIGIN_STATE_ABR</th>\n",
       "      <th>DEST</th>\n",
       "      <th>DEST_STATE_ABR</th>\n",
       "      <th>CRS_DEP_TIME</th>\n",
       "      <th>DEP_DELAY</th>\n",
       "      <th>DEP_DEL15</th>\n",
       "      <th>CRS_ELAPSED_TIME</th>\n",
       "      <th>DISTANCE</th>\n",
       "      <th>V14</th>\n",
       "    </tr>\n",
       "  </thead>\n",
       "  <tbody>\n",
       "    <tr>\n",
       "      <th>0</th>\n",
       "      <td>1</td>\n",
       "      <td>11</td>\n",
       "      <td>4</td>\n",
       "      <td>2019-11-28</td>\n",
       "      <td>WN</td>\n",
       "      <td>STL</td>\n",
       "      <td>MO</td>\n",
       "      <td>LGA</td>\n",
       "      <td>NY</td>\n",
       "      <td>13</td>\n",
       "      <td>0.0</td>\n",
       "      <td>0.0</td>\n",
       "      <td>140.0</td>\n",
       "      <td>888</td>\n",
       "      <td>NaN</td>\n",
       "    </tr>\n",
       "    <tr>\n",
       "      <th>1</th>\n",
       "      <td>2</td>\n",
       "      <td>11</td>\n",
       "      <td>4</td>\n",
       "      <td>2019-11-28</td>\n",
       "      <td>WN</td>\n",
       "      <td>STL</td>\n",
       "      <td>MO</td>\n",
       "      <td>LGA</td>\n",
       "      <td>NY</td>\n",
       "      <td>08</td>\n",
       "      <td>-4.0</td>\n",
       "      <td>0.0</td>\n",
       "      <td>140.0</td>\n",
       "      <td>888</td>\n",
       "      <td>NaN</td>\n",
       "    </tr>\n",
       "    <tr>\n",
       "      <th>2</th>\n",
       "      <td>3</td>\n",
       "      <td>11</td>\n",
       "      <td>4</td>\n",
       "      <td>2019-11-28</td>\n",
       "      <td>WN</td>\n",
       "      <td>TPA</td>\n",
       "      <td>FL</td>\n",
       "      <td>ALB</td>\n",
       "      <td>NY</td>\n",
       "      <td>11</td>\n",
       "      <td>-8.0</td>\n",
       "      <td>0.0</td>\n",
       "      <td>165.0</td>\n",
       "      <td>1130</td>\n",
       "      <td>NaN</td>\n",
       "    </tr>\n",
       "    <tr>\n",
       "      <th>3</th>\n",
       "      <td>4</td>\n",
       "      <td>11</td>\n",
       "      <td>4</td>\n",
       "      <td>2019-11-28</td>\n",
       "      <td>WN</td>\n",
       "      <td>TPA</td>\n",
       "      <td>FL</td>\n",
       "      <td>BUF</td>\n",
       "      <td>NY</td>\n",
       "      <td>09</td>\n",
       "      <td>42.0</td>\n",
       "      <td>1.0</td>\n",
       "      <td>155.0</td>\n",
       "      <td>1053</td>\n",
       "      <td>NaN</td>\n",
       "    </tr>\n",
       "    <tr>\n",
       "      <th>4</th>\n",
       "      <td>5</td>\n",
       "      <td>11</td>\n",
       "      <td>4</td>\n",
       "      <td>2019-11-28</td>\n",
       "      <td>WN</td>\n",
       "      <td>TPA</td>\n",
       "      <td>FL</td>\n",
       "      <td>ISP</td>\n",
       "      <td>NY</td>\n",
       "      <td>06</td>\n",
       "      <td>-3.0</td>\n",
       "      <td>0.0</td>\n",
       "      <td>150.0</td>\n",
       "      <td>1034</td>\n",
       "      <td>NaN</td>\n",
       "    </tr>\n",
       "  </tbody>\n",
       "</table>\n",
       "</div>"
      ],
      "text/plain": [
       "   Unnamed: 0  MONTH  DAY_OF_WEEK        Date OP_CARRIER ORIGIN  \\\n",
       "0           1     11            4  2019-11-28         WN    STL   \n",
       "1           2     11            4  2019-11-28         WN    STL   \n",
       "2           3     11            4  2019-11-28         WN    TPA   \n",
       "3           4     11            4  2019-11-28         WN    TPA   \n",
       "4           5     11            4  2019-11-28         WN    TPA   \n",
       "\n",
       "  ORIGIN_STATE_ABR DEST DEST_STATE_ABR CRS_DEP_TIME  DEP_DELAY  DEP_DEL15  \\\n",
       "0               MO  LGA             NY           13        0.0        0.0   \n",
       "1               MO  LGA             NY           08       -4.0        0.0   \n",
       "2               FL  ALB             NY           11       -8.0        0.0   \n",
       "3               FL  BUF             NY           09       42.0        1.0   \n",
       "4               FL  ISP             NY           06       -3.0        0.0   \n",
       "\n",
       "   CRS_ELAPSED_TIME  DISTANCE  V14  \n",
       "0             140.0       888  NaN  \n",
       "1             140.0       888  NaN  \n",
       "2             165.0      1130  NaN  \n",
       "3             155.0      1053  NaN  \n",
       "4             150.0      1034  NaN  "
      ]
     },
     "execution_count": 5,
     "metadata": {},
     "output_type": "execute_result"
    }
   ],
   "source": [
    "# Convert departure time to 4-digit format\n",
    "flight_df['CRS_DEP_TIME']= flight_df['CRS_DEP_TIME'].astype(str).str.zfill(4)\n",
    "\n",
    "# Extract hour\n",
    "flight_df['CRS_DEP_TIME'] = flight_df['CRS_DEP_TIME'].str[0:2]\n",
    "flight_df.head()"
   ]
  },
  {
   "cell_type": "code",
   "execution_count": 6,
   "metadata": {},
   "outputs": [
    {
     "data": {
      "text/html": [
       "<div>\n",
       "<style scoped>\n",
       "    .dataframe tbody tr th:only-of-type {\n",
       "        vertical-align: middle;\n",
       "    }\n",
       "\n",
       "    .dataframe tbody tr th {\n",
       "        vertical-align: top;\n",
       "    }\n",
       "\n",
       "    .dataframe thead th {\n",
       "        text-align: right;\n",
       "    }\n",
       "</style>\n",
       "<table border=\"1\" class=\"dataframe\">\n",
       "  <thead>\n",
       "    <tr style=\"text-align: right;\">\n",
       "      <th></th>\n",
       "      <th>MONTH</th>\n",
       "      <th>DAY_OF_WEEK</th>\n",
       "      <th>Date</th>\n",
       "      <th>OP_CARRIER</th>\n",
       "      <th>ORIGIN</th>\n",
       "      <th>ORIGIN_STATE_ABR</th>\n",
       "      <th>DEST</th>\n",
       "      <th>DEST_STATE_ABR</th>\n",
       "      <th>CRS_DEP_TIME</th>\n",
       "      <th>DEP_DELAY</th>\n",
       "      <th>DEP_DEL15</th>\n",
       "      <th>CRS_ELAPSED_TIME</th>\n",
       "      <th>DISTANCE</th>\n",
       "    </tr>\n",
       "  </thead>\n",
       "  <tbody>\n",
       "    <tr>\n",
       "      <th>0</th>\n",
       "      <td>11</td>\n",
       "      <td>4</td>\n",
       "      <td>2019-11-28</td>\n",
       "      <td>WN</td>\n",
       "      <td>STL</td>\n",
       "      <td>MO</td>\n",
       "      <td>LGA</td>\n",
       "      <td>NY</td>\n",
       "      <td>13</td>\n",
       "      <td>0.0</td>\n",
       "      <td>0.0</td>\n",
       "      <td>140.0</td>\n",
       "      <td>888</td>\n",
       "    </tr>\n",
       "    <tr>\n",
       "      <th>1</th>\n",
       "      <td>11</td>\n",
       "      <td>4</td>\n",
       "      <td>2019-11-28</td>\n",
       "      <td>WN</td>\n",
       "      <td>STL</td>\n",
       "      <td>MO</td>\n",
       "      <td>LGA</td>\n",
       "      <td>NY</td>\n",
       "      <td>08</td>\n",
       "      <td>-4.0</td>\n",
       "      <td>0.0</td>\n",
       "      <td>140.0</td>\n",
       "      <td>888</td>\n",
       "    </tr>\n",
       "    <tr>\n",
       "      <th>2</th>\n",
       "      <td>11</td>\n",
       "      <td>4</td>\n",
       "      <td>2019-11-28</td>\n",
       "      <td>WN</td>\n",
       "      <td>TPA</td>\n",
       "      <td>FL</td>\n",
       "      <td>ALB</td>\n",
       "      <td>NY</td>\n",
       "      <td>11</td>\n",
       "      <td>-8.0</td>\n",
       "      <td>0.0</td>\n",
       "      <td>165.0</td>\n",
       "      <td>1130</td>\n",
       "    </tr>\n",
       "    <tr>\n",
       "      <th>3</th>\n",
       "      <td>11</td>\n",
       "      <td>4</td>\n",
       "      <td>2019-11-28</td>\n",
       "      <td>WN</td>\n",
       "      <td>TPA</td>\n",
       "      <td>FL</td>\n",
       "      <td>BUF</td>\n",
       "      <td>NY</td>\n",
       "      <td>09</td>\n",
       "      <td>42.0</td>\n",
       "      <td>1.0</td>\n",
       "      <td>155.0</td>\n",
       "      <td>1053</td>\n",
       "    </tr>\n",
       "    <tr>\n",
       "      <th>4</th>\n",
       "      <td>11</td>\n",
       "      <td>4</td>\n",
       "      <td>2019-11-28</td>\n",
       "      <td>WN</td>\n",
       "      <td>TPA</td>\n",
       "      <td>FL</td>\n",
       "      <td>ISP</td>\n",
       "      <td>NY</td>\n",
       "      <td>06</td>\n",
       "      <td>-3.0</td>\n",
       "      <td>0.0</td>\n",
       "      <td>150.0</td>\n",
       "      <td>1034</td>\n",
       "    </tr>\n",
       "  </tbody>\n",
       "</table>\n",
       "</div>"
      ],
      "text/plain": [
       "   MONTH  DAY_OF_WEEK        Date OP_CARRIER ORIGIN ORIGIN_STATE_ABR DEST  \\\n",
       "0     11            4  2019-11-28         WN    STL               MO  LGA   \n",
       "1     11            4  2019-11-28         WN    STL               MO  LGA   \n",
       "2     11            4  2019-11-28         WN    TPA               FL  ALB   \n",
       "3     11            4  2019-11-28         WN    TPA               FL  BUF   \n",
       "4     11            4  2019-11-28         WN    TPA               FL  ISP   \n",
       "\n",
       "  DEST_STATE_ABR CRS_DEP_TIME  DEP_DELAY  DEP_DEL15  CRS_ELAPSED_TIME  \\\n",
       "0             NY           13        0.0        0.0             140.0   \n",
       "1             NY           08       -4.0        0.0             140.0   \n",
       "2             NY           11       -8.0        0.0             165.0   \n",
       "3             NY           09       42.0        1.0             155.0   \n",
       "4             NY           06       -3.0        0.0             150.0   \n",
       "\n",
       "   DISTANCE  \n",
       "0       888  \n",
       "1       888  \n",
       "2      1130  \n",
       "3      1053  \n",
       "4      1034  "
      ]
     },
     "execution_count": 6,
     "metadata": {},
     "output_type": "execute_result"
    }
   ],
   "source": [
    "# Drop useless columns\n",
    "flight_df.drop('Unnamed: 0', axis = 1, inplace = True)\n",
    "flight_df.drop('V14', axis = 1, inplace = True)\n",
    "\n",
    "flight_df.head()"
   ]
  },
  {
   "cell_type": "code",
   "execution_count": 7,
   "metadata": {},
   "outputs": [
    {
     "data": {
      "text/plain": [
       "NY    1276292\n",
       "FL     237915\n",
       "IL     107200\n",
       "CA     102914\n",
       "NC      82762\n",
       "GA      82526\n",
       "VA      72065\n",
       "MA      69021\n",
       "TX      64360\n",
       "MI      52048\n",
       "OH      32346\n",
       "MD      29217\n",
       "CO      23516\n",
       "PA      21118\n",
       "TN      20822\n",
       "MN      20207\n",
       "NV      19629\n",
       "SC      17176\n",
       "PR      16712\n",
       "MO      16594\n",
       "ME      12862\n",
       "KY      12467\n",
       "AZ      12421\n",
       "WA      11872\n",
       "NJ      10086\n",
       "LA       9987\n",
       "UT       8352\n",
       "WI       8326\n",
       "IN       8128\n",
       "VT       7996\n",
       "OR       4500\n",
       "AL       2316\n",
       "AR       2298\n",
       "NE       1780\n",
       "HI       1558\n",
       "VI       1501\n",
       "NM       1252\n",
       "IA        913\n",
       "NH        908\n",
       "WY         74\n",
       "MT         42\n",
       "Name: ORIGIN_STATE_ABR, dtype: int64"
      ]
     },
     "execution_count": 7,
     "metadata": {},
     "output_type": "execute_result"
    }
   ],
   "source": [
    "flight_df['ORIGIN_STATE_ABR'].value_counts(ascending = False)"
   ]
  },
  {
   "cell_type": "markdown",
   "metadata": {},
   "source": [
    "## ii) US Holidays Dataframe"
   ]
  },
  {
   "cell_type": "code",
   "execution_count": 8,
   "metadata": {},
   "outputs": [],
   "source": [
    "# Loading US holiday dataset into dataframe\n",
    "usholidays_df = pd.read_csv(\"usholidays.csv\")"
   ]
  },
  {
   "cell_type": "code",
   "execution_count": 9,
   "metadata": {},
   "outputs": [
    {
     "data": {
      "text/html": [
       "<div>\n",
       "<style scoped>\n",
       "    .dataframe tbody tr th:only-of-type {\n",
       "        vertical-align: middle;\n",
       "    }\n",
       "\n",
       "    .dataframe tbody tr th {\n",
       "        vertical-align: top;\n",
       "    }\n",
       "\n",
       "    .dataframe thead th {\n",
       "        text-align: right;\n",
       "    }\n",
       "</style>\n",
       "<table border=\"1\" class=\"dataframe\">\n",
       "  <thead>\n",
       "    <tr style=\"text-align: right;\">\n",
       "      <th></th>\n",
       "      <th>Unnamed: 0</th>\n",
       "      <th>Date</th>\n",
       "      <th>Holiday</th>\n",
       "    </tr>\n",
       "  </thead>\n",
       "  <tbody>\n",
       "    <tr>\n",
       "      <th>0</th>\n",
       "      <td>0</td>\n",
       "      <td>2010-12-31</td>\n",
       "      <td>New Year's Day</td>\n",
       "    </tr>\n",
       "    <tr>\n",
       "      <th>1</th>\n",
       "      <td>1</td>\n",
       "      <td>2011-01-17</td>\n",
       "      <td>Birthday of Martin Luther King, Jr.</td>\n",
       "    </tr>\n",
       "    <tr>\n",
       "      <th>2</th>\n",
       "      <td>2</td>\n",
       "      <td>2011-02-21</td>\n",
       "      <td>Washington's Birthday</td>\n",
       "    </tr>\n",
       "    <tr>\n",
       "      <th>3</th>\n",
       "      <td>3</td>\n",
       "      <td>2011-05-30</td>\n",
       "      <td>Memorial Day</td>\n",
       "    </tr>\n",
       "    <tr>\n",
       "      <th>4</th>\n",
       "      <td>4</td>\n",
       "      <td>2011-07-04</td>\n",
       "      <td>Independence Day</td>\n",
       "    </tr>\n",
       "  </tbody>\n",
       "</table>\n",
       "</div>"
      ],
      "text/plain": [
       "   Unnamed: 0        Date                              Holiday\n",
       "0           0  2010-12-31                       New Year's Day\n",
       "1           1  2011-01-17  Birthday of Martin Luther King, Jr.\n",
       "2           2  2011-02-21                Washington's Birthday\n",
       "3           3  2011-05-30                         Memorial Day\n",
       "4           4  2011-07-04                     Independence Day"
      ]
     },
     "execution_count": 9,
     "metadata": {},
     "output_type": "execute_result"
    }
   ],
   "source": [
    "usholidays_df.head()"
   ]
  },
  {
   "cell_type": "code",
   "execution_count": 10,
   "metadata": {},
   "outputs": [],
   "source": [
    "# Drop Unnamed: 0 column\n",
    "usholidays_df.drop('Unnamed: 0', axis = 1, inplace = True)"
   ]
  },
  {
   "cell_type": "code",
   "execution_count": 11,
   "metadata": {},
   "outputs": [
    {
     "data": {
      "text/html": [
       "<div>\n",
       "<style scoped>\n",
       "    .dataframe tbody tr th:only-of-type {\n",
       "        vertical-align: middle;\n",
       "    }\n",
       "\n",
       "    .dataframe tbody tr th {\n",
       "        vertical-align: top;\n",
       "    }\n",
       "\n",
       "    .dataframe thead th {\n",
       "        text-align: right;\n",
       "    }\n",
       "</style>\n",
       "<table border=\"1\" class=\"dataframe\">\n",
       "  <thead>\n",
       "    <tr style=\"text-align: right;\">\n",
       "      <th></th>\n",
       "      <th>Date</th>\n",
       "      <th>Holiday</th>\n",
       "    </tr>\n",
       "  </thead>\n",
       "  <tbody>\n",
       "    <tr>\n",
       "      <th>0</th>\n",
       "      <td>2010-12-31</td>\n",
       "      <td>New Year's Day</td>\n",
       "    </tr>\n",
       "    <tr>\n",
       "      <th>1</th>\n",
       "      <td>2011-01-17</td>\n",
       "      <td>Birthday of Martin Luther King, Jr.</td>\n",
       "    </tr>\n",
       "    <tr>\n",
       "      <th>2</th>\n",
       "      <td>2011-02-21</td>\n",
       "      <td>Washington's Birthday</td>\n",
       "    </tr>\n",
       "    <tr>\n",
       "      <th>3</th>\n",
       "      <td>2011-05-30</td>\n",
       "      <td>Memorial Day</td>\n",
       "    </tr>\n",
       "    <tr>\n",
       "      <th>4</th>\n",
       "      <td>2011-07-04</td>\n",
       "      <td>Independence Day</td>\n",
       "    </tr>\n",
       "  </tbody>\n",
       "</table>\n",
       "</div>"
      ],
      "text/plain": [
       "         Date                              Holiday\n",
       "0  2010-12-31                       New Year's Day\n",
       "1  2011-01-17  Birthday of Martin Luther King, Jr.\n",
       "2  2011-02-21                Washington's Birthday\n",
       "3  2011-05-30                         Memorial Day\n",
       "4  2011-07-04                     Independence Day"
      ]
     },
     "execution_count": 11,
     "metadata": {},
     "output_type": "execute_result"
    }
   ],
   "source": [
    "usholidays_df.head()"
   ]
  },
  {
   "cell_type": "code",
   "execution_count": 12,
   "metadata": {},
   "outputs": [
    {
     "data": {
      "text/plain": [
       "(485, 2)"
      ]
     },
     "execution_count": 12,
     "metadata": {},
     "output_type": "execute_result"
    }
   ],
   "source": [
    "usholidays_df.shape"
   ]
  },
  {
   "cell_type": "code",
   "execution_count": 13,
   "metadata": {},
   "outputs": [
    {
     "data": {
      "text/plain": [
       "str"
      ]
     },
     "execution_count": 13,
     "metadata": {},
     "output_type": "execute_result"
    }
   ],
   "source": [
    "type(usholidays_df['Date'][0])"
   ]
  },
  {
   "cell_type": "code",
   "execution_count": 14,
   "metadata": {},
   "outputs": [
    {
     "data": {
      "text/html": [
       "<div>\n",
       "<style scoped>\n",
       "    .dataframe tbody tr th:only-of-type {\n",
       "        vertical-align: middle;\n",
       "    }\n",
       "\n",
       "    .dataframe tbody tr th {\n",
       "        vertical-align: top;\n",
       "    }\n",
       "\n",
       "    .dataframe thead th {\n",
       "        text-align: right;\n",
       "    }\n",
       "</style>\n",
       "<table border=\"1\" class=\"dataframe\">\n",
       "  <thead>\n",
       "    <tr style=\"text-align: right;\">\n",
       "      <th></th>\n",
       "      <th>Date</th>\n",
       "      <th>Holiday</th>\n",
       "    </tr>\n",
       "  </thead>\n",
       "  <tbody>\n",
       "    <tr>\n",
       "      <th>50</th>\n",
       "      <td>2016-01-01</td>\n",
       "      <td>New Year's Day</td>\n",
       "    </tr>\n",
       "  </tbody>\n",
       "</table>\n",
       "</div>"
      ],
      "text/plain": [
       "          Date         Holiday\n",
       "50  2016-01-01  New Year's Day"
      ]
     },
     "execution_count": 14,
     "metadata": {},
     "output_type": "execute_result"
    }
   ],
   "source": [
    "usholidays_df[usholidays_df['Date'] == '2016-01-01']"
   ]
  },
  {
   "cell_type": "code",
   "execution_count": 15,
   "metadata": {},
   "outputs": [
    {
     "data": {
      "text/html": [
       "<div>\n",
       "<style scoped>\n",
       "    .dataframe tbody tr th:only-of-type {\n",
       "        vertical-align: middle;\n",
       "    }\n",
       "\n",
       "    .dataframe tbody tr th {\n",
       "        vertical-align: top;\n",
       "    }\n",
       "\n",
       "    .dataframe thead th {\n",
       "        text-align: right;\n",
       "    }\n",
       "</style>\n",
       "<table border=\"1\" class=\"dataframe\">\n",
       "  <thead>\n",
       "    <tr style=\"text-align: right;\">\n",
       "      <th></th>\n",
       "      <th>Date</th>\n",
       "      <th>Holiday</th>\n",
       "    </tr>\n",
       "  </thead>\n",
       "  <tbody>\n",
       "    <tr>\n",
       "      <th>89</th>\n",
       "      <td>2019-12-25</td>\n",
       "      <td>Christmas Day</td>\n",
       "    </tr>\n",
       "  </tbody>\n",
       "</table>\n",
       "</div>"
      ],
      "text/plain": [
       "          Date        Holiday\n",
       "89  2019-12-25  Christmas Day"
      ]
     },
     "execution_count": 15,
     "metadata": {},
     "output_type": "execute_result"
    }
   ],
   "source": [
    "usholidays_df[usholidays_df['Date'] == '2019-12-25']"
   ]
  },
  {
   "cell_type": "code",
   "execution_count": 16,
   "metadata": {},
   "outputs": [],
   "source": [
    "usholidays_df = usholidays_df[50:90]"
   ]
  },
  {
   "cell_type": "code",
   "execution_count": 17,
   "metadata": {},
   "outputs": [
    {
     "data": {
      "text/plain": [
       "(40, 2)"
      ]
     },
     "execution_count": 17,
     "metadata": {},
     "output_type": "execute_result"
    }
   ],
   "source": [
    "usholidays_df.shape"
   ]
  },
  {
   "cell_type": "code",
   "execution_count": 18,
   "metadata": {},
   "outputs": [],
   "source": [
    "# Reset index\n",
    "usholidays_df = usholidays_df.reset_index(drop = True)"
   ]
  },
  {
   "cell_type": "code",
   "execution_count": 19,
   "metadata": {},
   "outputs": [],
   "source": [
    "# Replace Holiday column with 1's\n",
    "usholidays_df['Holiday'] = 1"
   ]
  },
  {
   "cell_type": "code",
   "execution_count": 20,
   "metadata": {},
   "outputs": [
    {
     "data": {
      "text/html": [
       "<div>\n",
       "<style scoped>\n",
       "    .dataframe tbody tr th:only-of-type {\n",
       "        vertical-align: middle;\n",
       "    }\n",
       "\n",
       "    .dataframe tbody tr th {\n",
       "        vertical-align: top;\n",
       "    }\n",
       "\n",
       "    .dataframe thead th {\n",
       "        text-align: right;\n",
       "    }\n",
       "</style>\n",
       "<table border=\"1\" class=\"dataframe\">\n",
       "  <thead>\n",
       "    <tr style=\"text-align: right;\">\n",
       "      <th></th>\n",
       "      <th>Date</th>\n",
       "      <th>Holiday</th>\n",
       "    </tr>\n",
       "  </thead>\n",
       "  <tbody>\n",
       "    <tr>\n",
       "      <th>0</th>\n",
       "      <td>2016-01-01</td>\n",
       "      <td>1</td>\n",
       "    </tr>\n",
       "    <tr>\n",
       "      <th>1</th>\n",
       "      <td>2016-01-18</td>\n",
       "      <td>1</td>\n",
       "    </tr>\n",
       "    <tr>\n",
       "      <th>2</th>\n",
       "      <td>2016-02-15</td>\n",
       "      <td>1</td>\n",
       "    </tr>\n",
       "    <tr>\n",
       "      <th>3</th>\n",
       "      <td>2016-05-30</td>\n",
       "      <td>1</td>\n",
       "    </tr>\n",
       "    <tr>\n",
       "      <th>4</th>\n",
       "      <td>2016-07-04</td>\n",
       "      <td>1</td>\n",
       "    </tr>\n",
       "    <tr>\n",
       "      <th>5</th>\n",
       "      <td>2016-09-05</td>\n",
       "      <td>1</td>\n",
       "    </tr>\n",
       "    <tr>\n",
       "      <th>6</th>\n",
       "      <td>2016-10-10</td>\n",
       "      <td>1</td>\n",
       "    </tr>\n",
       "    <tr>\n",
       "      <th>7</th>\n",
       "      <td>2016-11-11</td>\n",
       "      <td>1</td>\n",
       "    </tr>\n",
       "    <tr>\n",
       "      <th>8</th>\n",
       "      <td>2016-11-24</td>\n",
       "      <td>1</td>\n",
       "    </tr>\n",
       "    <tr>\n",
       "      <th>9</th>\n",
       "      <td>2016-12-26</td>\n",
       "      <td>1</td>\n",
       "    </tr>\n",
       "    <tr>\n",
       "      <th>10</th>\n",
       "      <td>2017-01-02</td>\n",
       "      <td>1</td>\n",
       "    </tr>\n",
       "    <tr>\n",
       "      <th>11</th>\n",
       "      <td>2017-01-16</td>\n",
       "      <td>1</td>\n",
       "    </tr>\n",
       "    <tr>\n",
       "      <th>12</th>\n",
       "      <td>2017-02-20</td>\n",
       "      <td>1</td>\n",
       "    </tr>\n",
       "    <tr>\n",
       "      <th>13</th>\n",
       "      <td>2017-05-29</td>\n",
       "      <td>1</td>\n",
       "    </tr>\n",
       "    <tr>\n",
       "      <th>14</th>\n",
       "      <td>2017-07-04</td>\n",
       "      <td>1</td>\n",
       "    </tr>\n",
       "    <tr>\n",
       "      <th>15</th>\n",
       "      <td>2017-09-04</td>\n",
       "      <td>1</td>\n",
       "    </tr>\n",
       "    <tr>\n",
       "      <th>16</th>\n",
       "      <td>2017-10-09</td>\n",
       "      <td>1</td>\n",
       "    </tr>\n",
       "    <tr>\n",
       "      <th>17</th>\n",
       "      <td>2017-11-10</td>\n",
       "      <td>1</td>\n",
       "    </tr>\n",
       "    <tr>\n",
       "      <th>18</th>\n",
       "      <td>2017-11-23</td>\n",
       "      <td>1</td>\n",
       "    </tr>\n",
       "    <tr>\n",
       "      <th>19</th>\n",
       "      <td>2017-12-25</td>\n",
       "      <td>1</td>\n",
       "    </tr>\n",
       "    <tr>\n",
       "      <th>20</th>\n",
       "      <td>2018-01-01</td>\n",
       "      <td>1</td>\n",
       "    </tr>\n",
       "    <tr>\n",
       "      <th>21</th>\n",
       "      <td>2018-01-15</td>\n",
       "      <td>1</td>\n",
       "    </tr>\n",
       "    <tr>\n",
       "      <th>22</th>\n",
       "      <td>2018-02-19</td>\n",
       "      <td>1</td>\n",
       "    </tr>\n",
       "    <tr>\n",
       "      <th>23</th>\n",
       "      <td>2018-05-28</td>\n",
       "      <td>1</td>\n",
       "    </tr>\n",
       "    <tr>\n",
       "      <th>24</th>\n",
       "      <td>2018-07-04</td>\n",
       "      <td>1</td>\n",
       "    </tr>\n",
       "    <tr>\n",
       "      <th>25</th>\n",
       "      <td>2018-09-03</td>\n",
       "      <td>1</td>\n",
       "    </tr>\n",
       "    <tr>\n",
       "      <th>26</th>\n",
       "      <td>2018-10-08</td>\n",
       "      <td>1</td>\n",
       "    </tr>\n",
       "    <tr>\n",
       "      <th>27</th>\n",
       "      <td>2018-11-12</td>\n",
       "      <td>1</td>\n",
       "    </tr>\n",
       "    <tr>\n",
       "      <th>28</th>\n",
       "      <td>2018-11-22</td>\n",
       "      <td>1</td>\n",
       "    </tr>\n",
       "    <tr>\n",
       "      <th>29</th>\n",
       "      <td>2018-12-25</td>\n",
       "      <td>1</td>\n",
       "    </tr>\n",
       "    <tr>\n",
       "      <th>30</th>\n",
       "      <td>2019-01-01</td>\n",
       "      <td>1</td>\n",
       "    </tr>\n",
       "    <tr>\n",
       "      <th>31</th>\n",
       "      <td>2019-01-21</td>\n",
       "      <td>1</td>\n",
       "    </tr>\n",
       "    <tr>\n",
       "      <th>32</th>\n",
       "      <td>2019-02-18</td>\n",
       "      <td>1</td>\n",
       "    </tr>\n",
       "    <tr>\n",
       "      <th>33</th>\n",
       "      <td>2019-05-27</td>\n",
       "      <td>1</td>\n",
       "    </tr>\n",
       "    <tr>\n",
       "      <th>34</th>\n",
       "      <td>2019-07-04</td>\n",
       "      <td>1</td>\n",
       "    </tr>\n",
       "    <tr>\n",
       "      <th>35</th>\n",
       "      <td>2019-09-02</td>\n",
       "      <td>1</td>\n",
       "    </tr>\n",
       "    <tr>\n",
       "      <th>36</th>\n",
       "      <td>2019-10-14</td>\n",
       "      <td>1</td>\n",
       "    </tr>\n",
       "    <tr>\n",
       "      <th>37</th>\n",
       "      <td>2019-11-11</td>\n",
       "      <td>1</td>\n",
       "    </tr>\n",
       "    <tr>\n",
       "      <th>38</th>\n",
       "      <td>2019-11-28</td>\n",
       "      <td>1</td>\n",
       "    </tr>\n",
       "    <tr>\n",
       "      <th>39</th>\n",
       "      <td>2019-12-25</td>\n",
       "      <td>1</td>\n",
       "    </tr>\n",
       "  </tbody>\n",
       "</table>\n",
       "</div>"
      ],
      "text/plain": [
       "          Date  Holiday\n",
       "0   2016-01-01        1\n",
       "1   2016-01-18        1\n",
       "2   2016-02-15        1\n",
       "3   2016-05-30        1\n",
       "4   2016-07-04        1\n",
       "5   2016-09-05        1\n",
       "6   2016-10-10        1\n",
       "7   2016-11-11        1\n",
       "8   2016-11-24        1\n",
       "9   2016-12-26        1\n",
       "10  2017-01-02        1\n",
       "11  2017-01-16        1\n",
       "12  2017-02-20        1\n",
       "13  2017-05-29        1\n",
       "14  2017-07-04        1\n",
       "15  2017-09-04        1\n",
       "16  2017-10-09        1\n",
       "17  2017-11-10        1\n",
       "18  2017-11-23        1\n",
       "19  2017-12-25        1\n",
       "20  2018-01-01        1\n",
       "21  2018-01-15        1\n",
       "22  2018-02-19        1\n",
       "23  2018-05-28        1\n",
       "24  2018-07-04        1\n",
       "25  2018-09-03        1\n",
       "26  2018-10-08        1\n",
       "27  2018-11-12        1\n",
       "28  2018-11-22        1\n",
       "29  2018-12-25        1\n",
       "30  2019-01-01        1\n",
       "31  2019-01-21        1\n",
       "32  2019-02-18        1\n",
       "33  2019-05-27        1\n",
       "34  2019-07-04        1\n",
       "35  2019-09-02        1\n",
       "36  2019-10-14        1\n",
       "37  2019-11-11        1\n",
       "38  2019-11-28        1\n",
       "39  2019-12-25        1"
      ]
     },
     "execution_count": 20,
     "metadata": {},
     "output_type": "execute_result"
    }
   ],
   "source": [
    "usholidays_df"
   ]
  },
  {
   "cell_type": "markdown",
   "metadata": {},
   "source": [
    "## iii) Weather Dataframe"
   ]
  },
  {
   "cell_type": "code",
   "execution_count": 21,
   "metadata": {},
   "outputs": [],
   "source": [
    "# Loading Weather dataset into dataframe\n",
    "weather_df = pd.read_csv(\"weather.csv\")\n",
    "\n",
    "# Taking 3 columns of dataframe \n",
    "weather_df = pd.DataFrame(weather_df[[\"Name\", \"Date time\", \"Conditions\"]])"
   ]
  },
  {
   "cell_type": "code",
   "execution_count": 22,
   "metadata": {},
   "outputs": [],
   "source": [
    "# Changing the format of date to yyyy-mm-dd\n",
    "weather_df['Date time'] = pd.to_datetime(weather_df['Date time']).dt.strftime('%Y-%m-%d')\n",
    "\n",
    "# Renaming column 'Date time' to 'Date'\n",
    "weather_df.rename(columns = {'Date time':'Date'}, inplace = True)"
   ]
  },
  {
   "cell_type": "code",
   "execution_count": 23,
   "metadata": {},
   "outputs": [],
   "source": [
    "# Simplifying values in column 'Name'\n",
    "\n",
    "weather_df['Name'].unique()\n",
    "weather_df['Name'] = weather_df['Name'].replace(['Central Park, New York, NY, United States', \n",
    "                                            'JFK Expy, New York, NY 11430, United States'],['LGA', 'JFK'])\n",
    "\n",
    "# Renaming 'Name' column to 'ORIGIN' so it matches the column of flight_df \n",
    "weather_df.rename(columns = {'Name':'ORIGIN'}, inplace = True)"
   ]
  },
  {
   "cell_type": "code",
   "execution_count": 24,
   "metadata": {},
   "outputs": [
    {
     "data": {
      "text/html": [
       "<div>\n",
       "<style scoped>\n",
       "    .dataframe tbody tr th:only-of-type {\n",
       "        vertical-align: middle;\n",
       "    }\n",
       "\n",
       "    .dataframe tbody tr th {\n",
       "        vertical-align: top;\n",
       "    }\n",
       "\n",
       "    .dataframe thead th {\n",
       "        text-align: right;\n",
       "    }\n",
       "</style>\n",
       "<table border=\"1\" class=\"dataframe\">\n",
       "  <thead>\n",
       "    <tr style=\"text-align: right;\">\n",
       "      <th></th>\n",
       "      <th>ORIGIN</th>\n",
       "      <th>Date</th>\n",
       "      <th>Conditions</th>\n",
       "    </tr>\n",
       "  </thead>\n",
       "  <tbody>\n",
       "    <tr>\n",
       "      <th>0</th>\n",
       "      <td>LGA</td>\n",
       "      <td>2016-01-01</td>\n",
       "      <td>Partially cloudy</td>\n",
       "    </tr>\n",
       "    <tr>\n",
       "      <th>1</th>\n",
       "      <td>LGA</td>\n",
       "      <td>2016-01-02</td>\n",
       "      <td>Partially cloudy</td>\n",
       "    </tr>\n",
       "    <tr>\n",
       "      <th>2</th>\n",
       "      <td>LGA</td>\n",
       "      <td>2016-01-03</td>\n",
       "      <td>Clear</td>\n",
       "    </tr>\n",
       "    <tr>\n",
       "      <th>3</th>\n",
       "      <td>LGA</td>\n",
       "      <td>2016-01-04</td>\n",
       "      <td>Partially cloudy</td>\n",
       "    </tr>\n",
       "    <tr>\n",
       "      <th>4</th>\n",
       "      <td>LGA</td>\n",
       "      <td>2016-01-05</td>\n",
       "      <td>Clear</td>\n",
       "    </tr>\n",
       "  </tbody>\n",
       "</table>\n",
       "</div>"
      ],
      "text/plain": [
       "  ORIGIN        Date        Conditions\n",
       "0    LGA  2016-01-01  Partially cloudy\n",
       "1    LGA  2016-01-02  Partially cloudy\n",
       "2    LGA  2016-01-03             Clear\n",
       "3    LGA  2016-01-04  Partially cloudy\n",
       "4    LGA  2016-01-05             Clear"
      ]
     },
     "execution_count": 24,
     "metadata": {},
     "output_type": "execute_result"
    }
   ],
   "source": [
    "weather_df.head()"
   ]
  },
  {
   "cell_type": "code",
   "execution_count": 25,
   "metadata": {},
   "outputs": [
    {
     "data": {
      "text/plain": [
       "array(['Partially cloudy', 'Clear', 'Overcast', 'Rain, Overcast',\n",
       "       'Snow, Partially cloudy', 'Rain, Partially cloudy', 'Snow',\n",
       "       'Snow, Overcast', 'Rain'], dtype=object)"
      ]
     },
     "execution_count": 25,
     "metadata": {},
     "output_type": "execute_result"
    }
   ],
   "source": [
    "weather_df['Conditions'].unique()"
   ]
  },
  {
   "cell_type": "code",
   "execution_count": 26,
   "metadata": {},
   "outputs": [
    {
     "data": {
      "text/plain": [
       "9"
      ]
     },
     "execution_count": 26,
     "metadata": {},
     "output_type": "execute_result"
    }
   ],
   "source": [
    "weather_df['Conditions'].nunique()"
   ]
  },
  {
   "cell_type": "code",
   "execution_count": 27,
   "metadata": {},
   "outputs": [
    {
     "data": {
      "text/html": [
       "<div>\n",
       "<style scoped>\n",
       "    .dataframe tbody tr th:only-of-type {\n",
       "        vertical-align: middle;\n",
       "    }\n",
       "\n",
       "    .dataframe tbody tr th {\n",
       "        vertical-align: top;\n",
       "    }\n",
       "\n",
       "    .dataframe thead th {\n",
       "        text-align: right;\n",
       "    }\n",
       "</style>\n",
       "<table border=\"1\" class=\"dataframe\">\n",
       "  <thead>\n",
       "    <tr style=\"text-align: right;\">\n",
       "      <th></th>\n",
       "      <th>MONTH</th>\n",
       "      <th>DAY_OF_WEEK</th>\n",
       "      <th>Date</th>\n",
       "      <th>OP_CARRIER</th>\n",
       "      <th>ORIGIN</th>\n",
       "      <th>ORIGIN_STATE_ABR</th>\n",
       "      <th>DEST</th>\n",
       "      <th>DEST_STATE_ABR</th>\n",
       "      <th>CRS_DEP_TIME</th>\n",
       "      <th>DEP_DELAY</th>\n",
       "      <th>DEP_DEL15</th>\n",
       "      <th>CRS_ELAPSED_TIME</th>\n",
       "      <th>DISTANCE</th>\n",
       "    </tr>\n",
       "  </thead>\n",
       "  <tbody>\n",
       "    <tr>\n",
       "      <th>0</th>\n",
       "      <td>11</td>\n",
       "      <td>4</td>\n",
       "      <td>2019-11-28</td>\n",
       "      <td>WN</td>\n",
       "      <td>STL</td>\n",
       "      <td>MO</td>\n",
       "      <td>LGA</td>\n",
       "      <td>NY</td>\n",
       "      <td>13</td>\n",
       "      <td>0.0</td>\n",
       "      <td>0.0</td>\n",
       "      <td>140.0</td>\n",
       "      <td>888</td>\n",
       "    </tr>\n",
       "    <tr>\n",
       "      <th>1</th>\n",
       "      <td>11</td>\n",
       "      <td>4</td>\n",
       "      <td>2019-11-28</td>\n",
       "      <td>WN</td>\n",
       "      <td>STL</td>\n",
       "      <td>MO</td>\n",
       "      <td>LGA</td>\n",
       "      <td>NY</td>\n",
       "      <td>08</td>\n",
       "      <td>-4.0</td>\n",
       "      <td>0.0</td>\n",
       "      <td>140.0</td>\n",
       "      <td>888</td>\n",
       "    </tr>\n",
       "    <tr>\n",
       "      <th>2</th>\n",
       "      <td>11</td>\n",
       "      <td>4</td>\n",
       "      <td>2019-11-28</td>\n",
       "      <td>WN</td>\n",
       "      <td>TPA</td>\n",
       "      <td>FL</td>\n",
       "      <td>ALB</td>\n",
       "      <td>NY</td>\n",
       "      <td>11</td>\n",
       "      <td>-8.0</td>\n",
       "      <td>0.0</td>\n",
       "      <td>165.0</td>\n",
       "      <td>1130</td>\n",
       "    </tr>\n",
       "    <tr>\n",
       "      <th>3</th>\n",
       "      <td>11</td>\n",
       "      <td>4</td>\n",
       "      <td>2019-11-28</td>\n",
       "      <td>WN</td>\n",
       "      <td>TPA</td>\n",
       "      <td>FL</td>\n",
       "      <td>BUF</td>\n",
       "      <td>NY</td>\n",
       "      <td>09</td>\n",
       "      <td>42.0</td>\n",
       "      <td>1.0</td>\n",
       "      <td>155.0</td>\n",
       "      <td>1053</td>\n",
       "    </tr>\n",
       "    <tr>\n",
       "      <th>4</th>\n",
       "      <td>11</td>\n",
       "      <td>4</td>\n",
       "      <td>2019-11-28</td>\n",
       "      <td>WN</td>\n",
       "      <td>TPA</td>\n",
       "      <td>FL</td>\n",
       "      <td>ISP</td>\n",
       "      <td>NY</td>\n",
       "      <td>06</td>\n",
       "      <td>-3.0</td>\n",
       "      <td>0.0</td>\n",
       "      <td>150.0</td>\n",
       "      <td>1034</td>\n",
       "    </tr>\n",
       "  </tbody>\n",
       "</table>\n",
       "</div>"
      ],
      "text/plain": [
       "   MONTH  DAY_OF_WEEK        Date OP_CARRIER ORIGIN ORIGIN_STATE_ABR DEST  \\\n",
       "0     11            4  2019-11-28         WN    STL               MO  LGA   \n",
       "1     11            4  2019-11-28         WN    STL               MO  LGA   \n",
       "2     11            4  2019-11-28         WN    TPA               FL  ALB   \n",
       "3     11            4  2019-11-28         WN    TPA               FL  BUF   \n",
       "4     11            4  2019-11-28         WN    TPA               FL  ISP   \n",
       "\n",
       "  DEST_STATE_ABR CRS_DEP_TIME  DEP_DELAY  DEP_DEL15  CRS_ELAPSED_TIME  \\\n",
       "0             NY           13        0.0        0.0             140.0   \n",
       "1             NY           08       -4.0        0.0             140.0   \n",
       "2             NY           11       -8.0        0.0             165.0   \n",
       "3             NY           09       42.0        1.0             155.0   \n",
       "4             NY           06       -3.0        0.0             150.0   \n",
       "\n",
       "   DISTANCE  \n",
       "0       888  \n",
       "1       888  \n",
       "2      1130  \n",
       "3      1053  \n",
       "4      1034  "
      ]
     },
     "execution_count": 27,
     "metadata": {},
     "output_type": "execute_result"
    }
   ],
   "source": [
    "flight_df.head()"
   ]
  },
  {
   "cell_type": "code",
   "execution_count": 28,
   "metadata": {},
   "outputs": [
    {
     "data": {
      "text/html": [
       "<div>\n",
       "<style scoped>\n",
       "    .dataframe tbody tr th:only-of-type {\n",
       "        vertical-align: middle;\n",
       "    }\n",
       "\n",
       "    .dataframe tbody tr th {\n",
       "        vertical-align: top;\n",
       "    }\n",
       "\n",
       "    .dataframe thead th {\n",
       "        text-align: right;\n",
       "    }\n",
       "</style>\n",
       "<table border=\"1\" class=\"dataframe\">\n",
       "  <thead>\n",
       "    <tr style=\"text-align: right;\">\n",
       "      <th></th>\n",
       "      <th>MONTH</th>\n",
       "      <th>DAY_OF_WEEK</th>\n",
       "      <th>Date</th>\n",
       "      <th>OP_CARRIER</th>\n",
       "      <th>ORIGIN</th>\n",
       "      <th>DEST</th>\n",
       "      <th>DEST_STATE_ABR</th>\n",
       "      <th>CRS_DEP_TIME</th>\n",
       "      <th>DEP_DELAY</th>\n",
       "      <th>DEP_DEL15</th>\n",
       "      <th>CRS_ELAPSED_TIME</th>\n",
       "      <th>DISTANCE</th>\n",
       "      <th>Holiday</th>\n",
       "      <th>Conditions</th>\n",
       "    </tr>\n",
       "  </thead>\n",
       "  <tbody>\n",
       "    <tr>\n",
       "      <th>0</th>\n",
       "      <td>11</td>\n",
       "      <td>5</td>\n",
       "      <td>2019-11-29</td>\n",
       "      <td>WN</td>\n",
       "      <td>LGA</td>\n",
       "      <td>ATL</td>\n",
       "      <td>GA</td>\n",
       "      <td>11</td>\n",
       "      <td>-1.0</td>\n",
       "      <td>0.0</td>\n",
       "      <td>170.0</td>\n",
       "      <td>762</td>\n",
       "      <td>0.0</td>\n",
       "      <td>Clear</td>\n",
       "    </tr>\n",
       "    <tr>\n",
       "      <th>1</th>\n",
       "      <td>11</td>\n",
       "      <td>5</td>\n",
       "      <td>2019-11-29</td>\n",
       "      <td>WN</td>\n",
       "      <td>LGA</td>\n",
       "      <td>ATL</td>\n",
       "      <td>GA</td>\n",
       "      <td>16</td>\n",
       "      <td>-2.0</td>\n",
       "      <td>0.0</td>\n",
       "      <td>165.0</td>\n",
       "      <td>762</td>\n",
       "      <td>0.0</td>\n",
       "      <td>Clear</td>\n",
       "    </tr>\n",
       "    <tr>\n",
       "      <th>2</th>\n",
       "      <td>11</td>\n",
       "      <td>5</td>\n",
       "      <td>2019-11-29</td>\n",
       "      <td>WN</td>\n",
       "      <td>LGA</td>\n",
       "      <td>ATL</td>\n",
       "      <td>GA</td>\n",
       "      <td>10</td>\n",
       "      <td>-6.0</td>\n",
       "      <td>0.0</td>\n",
       "      <td>170.0</td>\n",
       "      <td>762</td>\n",
       "      <td>0.0</td>\n",
       "      <td>Clear</td>\n",
       "    </tr>\n",
       "    <tr>\n",
       "      <th>3</th>\n",
       "      <td>11</td>\n",
       "      <td>5</td>\n",
       "      <td>2019-11-29</td>\n",
       "      <td>WN</td>\n",
       "      <td>LGA</td>\n",
       "      <td>ATL</td>\n",
       "      <td>GA</td>\n",
       "      <td>06</td>\n",
       "      <td>-2.0</td>\n",
       "      <td>0.0</td>\n",
       "      <td>160.0</td>\n",
       "      <td>762</td>\n",
       "      <td>0.0</td>\n",
       "      <td>Clear</td>\n",
       "    </tr>\n",
       "    <tr>\n",
       "      <th>4</th>\n",
       "      <td>11</td>\n",
       "      <td>5</td>\n",
       "      <td>2019-11-29</td>\n",
       "      <td>WN</td>\n",
       "      <td>LGA</td>\n",
       "      <td>ATL</td>\n",
       "      <td>GA</td>\n",
       "      <td>20</td>\n",
       "      <td>-4.0</td>\n",
       "      <td>0.0</td>\n",
       "      <td>165.0</td>\n",
       "      <td>762</td>\n",
       "      <td>0.0</td>\n",
       "      <td>Clear</td>\n",
       "    </tr>\n",
       "  </tbody>\n",
       "</table>\n",
       "</div>"
      ],
      "text/plain": [
       "   MONTH  DAY_OF_WEEK        Date OP_CARRIER ORIGIN DEST DEST_STATE_ABR  \\\n",
       "0     11            5  2019-11-29         WN    LGA  ATL             GA   \n",
       "1     11            5  2019-11-29         WN    LGA  ATL             GA   \n",
       "2     11            5  2019-11-29         WN    LGA  ATL             GA   \n",
       "3     11            5  2019-11-29         WN    LGA  ATL             GA   \n",
       "4     11            5  2019-11-29         WN    LGA  ATL             GA   \n",
       "\n",
       "  CRS_DEP_TIME  DEP_DELAY  DEP_DEL15  CRS_ELAPSED_TIME  DISTANCE  Holiday  \\\n",
       "0           11       -1.0        0.0             170.0       762      0.0   \n",
       "1           16       -2.0        0.0             165.0       762      0.0   \n",
       "2           10       -6.0        0.0             170.0       762      0.0   \n",
       "3           06       -2.0        0.0             160.0       762      0.0   \n",
       "4           20       -4.0        0.0             165.0       762      0.0   \n",
       "\n",
       "  Conditions  \n",
       "0      Clear  \n",
       "1      Clear  \n",
       "2      Clear  \n",
       "3      Clear  \n",
       "4      Clear  "
      ]
     },
     "execution_count": 28,
     "metadata": {},
     "output_type": "execute_result"
    }
   ],
   "source": [
    "# merge the three dataframe\n",
    "\n",
    "# Merging flight and holiday dataframe\n",
    "flight_n_holidays = pd.merge(flight_df, usholidays_df, left_on = ['Date'], right_on = ['Date'], how = 'left')\n",
    "\n",
    "# Replace the 'NaN's in holiday column with 0\n",
    "flight_n_holidays[\"Holiday\"] = flight_n_holidays[\"Holiday\"].fillna(0)\n",
    "\n",
    "# Joining the above dataframe with weather dataframe\n",
    "full_df = pd.merge(flight_n_holidays, weather_df, left_on = ['Date', 'ORIGIN'], right_on = ['Date', 'ORIGIN'], \n",
    "                   how = 'inner')\n",
    "\n",
    "# Delete columns with delay reasons\n",
    "full_df = full_df.drop(['ORIGIN_STATE_ABR'], axis = 1)\n",
    "full_df.head()"
   ]
  },
  {
   "cell_type": "code",
   "execution_count": 29,
   "metadata": {
    "scrolled": true
   },
   "outputs": [
    {
     "name": "stdout",
     "output_type": "stream",
     "text": [
      "2.635972565593718\n"
     ]
    },
    {
     "data": {
      "text/plain": [
       "(955810, 14)"
      ]
     },
     "execution_count": 29,
     "metadata": {},
     "output_type": "execute_result"
    }
   ],
   "source": [
    "# Preprocessing step\n",
    "\n",
    "# Eliminating rows with missing values\n",
    "print((full_df.shape[0] - full_df.dropna().shape[0])/full_df.shape[0] * 100)\n",
    "full_df = full_df.dropna()\n",
    "full_df.shape"
   ]
  },
  {
   "cell_type": "code",
   "execution_count": 30,
   "metadata": {},
   "outputs": [
    {
     "data": {
      "text/html": [
       "<div>\n",
       "<style scoped>\n",
       "    .dataframe tbody tr th:only-of-type {\n",
       "        vertical-align: middle;\n",
       "    }\n",
       "\n",
       "    .dataframe tbody tr th {\n",
       "        vertical-align: top;\n",
       "    }\n",
       "\n",
       "    .dataframe thead th {\n",
       "        text-align: right;\n",
       "    }\n",
       "</style>\n",
       "<table border=\"1\" class=\"dataframe\">\n",
       "  <thead>\n",
       "    <tr style=\"text-align: right;\">\n",
       "      <th></th>\n",
       "      <th>MONTH</th>\n",
       "      <th>DAY_OF_WEEK</th>\n",
       "      <th>Date</th>\n",
       "      <th>OP_CARRIER</th>\n",
       "      <th>ORIGIN</th>\n",
       "      <th>DEST</th>\n",
       "      <th>DEST_STATE_ABR</th>\n",
       "      <th>CRS_DEP_TIME</th>\n",
       "      <th>DEP_DELAY</th>\n",
       "      <th>DEP_DEL15</th>\n",
       "      <th>CRS_ELAPSED_TIME</th>\n",
       "      <th>DISTANCE</th>\n",
       "      <th>Holiday</th>\n",
       "      <th>Conditions</th>\n",
       "    </tr>\n",
       "  </thead>\n",
       "  <tbody>\n",
       "    <tr>\n",
       "      <th>0</th>\n",
       "      <td>11</td>\n",
       "      <td>5</td>\n",
       "      <td>2019-11-29</td>\n",
       "      <td>WN</td>\n",
       "      <td>LGA</td>\n",
       "      <td>ATL</td>\n",
       "      <td>GA</td>\n",
       "      <td>11</td>\n",
       "      <td>-1.0</td>\n",
       "      <td>0</td>\n",
       "      <td>170</td>\n",
       "      <td>762</td>\n",
       "      <td>0</td>\n",
       "      <td>Clear</td>\n",
       "    </tr>\n",
       "    <tr>\n",
       "      <th>1</th>\n",
       "      <td>11</td>\n",
       "      <td>5</td>\n",
       "      <td>2019-11-29</td>\n",
       "      <td>WN</td>\n",
       "      <td>LGA</td>\n",
       "      <td>ATL</td>\n",
       "      <td>GA</td>\n",
       "      <td>16</td>\n",
       "      <td>-2.0</td>\n",
       "      <td>0</td>\n",
       "      <td>165</td>\n",
       "      <td>762</td>\n",
       "      <td>0</td>\n",
       "      <td>Clear</td>\n",
       "    </tr>\n",
       "    <tr>\n",
       "      <th>2</th>\n",
       "      <td>11</td>\n",
       "      <td>5</td>\n",
       "      <td>2019-11-29</td>\n",
       "      <td>WN</td>\n",
       "      <td>LGA</td>\n",
       "      <td>ATL</td>\n",
       "      <td>GA</td>\n",
       "      <td>10</td>\n",
       "      <td>-6.0</td>\n",
       "      <td>0</td>\n",
       "      <td>170</td>\n",
       "      <td>762</td>\n",
       "      <td>0</td>\n",
       "      <td>Clear</td>\n",
       "    </tr>\n",
       "    <tr>\n",
       "      <th>3</th>\n",
       "      <td>11</td>\n",
       "      <td>5</td>\n",
       "      <td>2019-11-29</td>\n",
       "      <td>WN</td>\n",
       "      <td>LGA</td>\n",
       "      <td>ATL</td>\n",
       "      <td>GA</td>\n",
       "      <td>06</td>\n",
       "      <td>-2.0</td>\n",
       "      <td>0</td>\n",
       "      <td>160</td>\n",
       "      <td>762</td>\n",
       "      <td>0</td>\n",
       "      <td>Clear</td>\n",
       "    </tr>\n",
       "    <tr>\n",
       "      <th>4</th>\n",
       "      <td>11</td>\n",
       "      <td>5</td>\n",
       "      <td>2019-11-29</td>\n",
       "      <td>WN</td>\n",
       "      <td>LGA</td>\n",
       "      <td>ATL</td>\n",
       "      <td>GA</td>\n",
       "      <td>20</td>\n",
       "      <td>-4.0</td>\n",
       "      <td>0</td>\n",
       "      <td>165</td>\n",
       "      <td>762</td>\n",
       "      <td>0</td>\n",
       "      <td>Clear</td>\n",
       "    </tr>\n",
       "  </tbody>\n",
       "</table>\n",
       "</div>"
      ],
      "text/plain": [
       "   MONTH  DAY_OF_WEEK        Date OP_CARRIER ORIGIN DEST DEST_STATE_ABR  \\\n",
       "0     11            5  2019-11-29         WN    LGA  ATL             GA   \n",
       "1     11            5  2019-11-29         WN    LGA  ATL             GA   \n",
       "2     11            5  2019-11-29         WN    LGA  ATL             GA   \n",
       "3     11            5  2019-11-29         WN    LGA  ATL             GA   \n",
       "4     11            5  2019-11-29         WN    LGA  ATL             GA   \n",
       "\n",
       "  CRS_DEP_TIME  DEP_DELAY  DEP_DEL15  CRS_ELAPSED_TIME  DISTANCE  Holiday  \\\n",
       "0           11       -1.0          0               170       762        0   \n",
       "1           16       -2.0          0               165       762        0   \n",
       "2           10       -6.0          0               170       762        0   \n",
       "3           06       -2.0          0               160       762        0   \n",
       "4           20       -4.0          0               165       762        0   \n",
       "\n",
       "  Conditions  \n",
       "0      Clear  \n",
       "1      Clear  \n",
       "2      Clear  \n",
       "3      Clear  \n",
       "4      Clear  "
      ]
     },
     "execution_count": 30,
     "metadata": {},
     "output_type": "execute_result"
    }
   ],
   "source": [
    "full_df['DEP_DEL15'] = pd.to_numeric(full_df['DEP_DEL15'], downcast='integer')\n",
    "full_df['Holiday'] = pd.to_numeric(full_df['Holiday'], downcast='integer')\n",
    "full_df['CRS_ELAPSED_TIME'] = pd.to_numeric(full_df['CRS_ELAPSED_TIME'], downcast='integer')\n",
    "full_df.head()"
   ]
  },
  {
   "cell_type": "code",
   "execution_count": 31,
   "metadata": {},
   "outputs": [
    {
     "name": "stdout",
     "output_type": "stream",
     "text": [
      "12\n",
      "7\n",
      "[0 1]\n"
     ]
    }
   ],
   "source": [
    "# Check the unique numbers of columns\n",
    "print(full_df['MONTH'].nunique())\n",
    "print(full_df['DAY_OF_WEEK'].nunique())\n",
    "print(full_df['DEP_DEL15'].unique())"
   ]
  },
  {
   "cell_type": "markdown",
   "metadata": {},
   "source": [
    "## Outliers detection for Scheduled Flight Duration ('CRS_ELAPSED_TIME')"
   ]
  },
  {
   "cell_type": "code",
   "execution_count": 32,
   "metadata": {
    "scrolled": true
   },
   "outputs": [
    {
     "data": {
      "text/plain": [
       "<matplotlib.axes._subplots.AxesSubplot at 0x285c6e77a90>"
      ]
     },
     "execution_count": 32,
     "metadata": {},
     "output_type": "execute_result"
    },
    {
     "data": {
      "image/png": "[encoded data removed]",
      "text/plain": [
       "<matplotlib.figure.Figure at 0x285cab20080>"
      ]
     },
     "metadata": {},
     "output_type": "display_data"
    }
   ],
   "source": [
    "sns.boxplot(y = full_df['CRS_ELAPSED_TIME'])"
   ]
  },
  {
   "cell_type": "code",
   "execution_count": 33,
   "metadata": {
    "scrolled": true
   },
   "outputs": [
    {
     "data": {
      "text/plain": [
       "count    955810.000000\n",
       "mean        192.304145\n",
       "std          96.838666\n",
       "min          24.000000\n",
       "25%         121.000000\n",
       "50%         170.000000\n",
       "75%         234.000000\n",
       "max         727.000000\n",
       "Name: CRS_ELAPSED_TIME, dtype: float64"
      ]
     },
     "execution_count": 33,
     "metadata": {},
     "output_type": "execute_result"
    }
   ],
   "source": [
    "full_df['CRS_ELAPSED_TIME'].describe()"
   ]
  },
  {
   "cell_type": "code",
   "execution_count": 34,
   "metadata": {},
   "outputs": [
    {
     "data": {
      "text/plain": [
       "1555"
      ]
     },
     "execution_count": 34,
     "metadata": {},
     "output_type": "execute_result"
    }
   ],
   "source": [
    "# Outliers above upper bound\n",
    "duration_stats= full_df['CRS_ELAPSED_TIME'].describe()\n",
    "IQR= duration_stats[6]- duration_stats[4]\n",
    "upper_bound= 3* IQR + duration_stats[6]\n",
    "full_df[full_df['CRS_ELAPSED_TIME']> upper_bound].shape[0]"
   ]
  },
  {
   "cell_type": "code",
   "execution_count": 35,
   "metadata": {},
   "outputs": [
    {
     "data": {
      "text/plain": [
       "0"
      ]
     },
     "execution_count": 35,
     "metadata": {},
     "output_type": "execute_result"
    }
   ],
   "source": [
    "# Outliers below lower bound\n",
    "lower_bound= duration_stats[4] - 3* IQR\n",
    "full_df[full_df['CRS_ELAPSED_TIME']< lower_bound].shape[0]"
   ]
  },
  {
   "cell_type": "code",
   "execution_count": 36,
   "metadata": {
    "scrolled": false
   },
   "outputs": [
    {
     "data": {
      "text/html": [
       "<div>\n",
       "<style scoped>\n",
       "    .dataframe tbody tr th:only-of-type {\n",
       "        vertical-align: middle;\n",
       "    }\n",
       "\n",
       "    .dataframe tbody tr th {\n",
       "        vertical-align: top;\n",
       "    }\n",
       "\n",
       "    .dataframe thead th {\n",
       "        text-align: right;\n",
       "    }\n",
       "</style>\n",
       "<table border=\"1\" class=\"dataframe\">\n",
       "  <thead>\n",
       "    <tr style=\"text-align: right;\">\n",
       "      <th></th>\n",
       "      <th>MONTH</th>\n",
       "      <th>DAY_OF_WEEK</th>\n",
       "      <th>Date</th>\n",
       "      <th>OP_CARRIER</th>\n",
       "      <th>ORIGIN</th>\n",
       "      <th>DEST</th>\n",
       "      <th>DEST_STATE_ABR</th>\n",
       "      <th>CRS_DEP_TIME</th>\n",
       "      <th>DEP_DELAY</th>\n",
       "      <th>DEP_DEL15</th>\n",
       "      <th>CRS_ELAPSED_TIME</th>\n",
       "      <th>DISTANCE</th>\n",
       "      <th>Holiday</th>\n",
       "      <th>Conditions</th>\n",
       "    </tr>\n",
       "  </thead>\n",
       "  <tbody>\n",
       "    <tr>\n",
       "      <th>0</th>\n",
       "      <td>11</td>\n",
       "      <td>5</td>\n",
       "      <td>2019-11-29</td>\n",
       "      <td>WN</td>\n",
       "      <td>LGA</td>\n",
       "      <td>ATL</td>\n",
       "      <td>GA</td>\n",
       "      <td>11</td>\n",
       "      <td>-1.0</td>\n",
       "      <td>0</td>\n",
       "      <td>170</td>\n",
       "      <td>762</td>\n",
       "      <td>0</td>\n",
       "      <td>Clear</td>\n",
       "    </tr>\n",
       "    <tr>\n",
       "      <th>1</th>\n",
       "      <td>11</td>\n",
       "      <td>5</td>\n",
       "      <td>2019-11-29</td>\n",
       "      <td>WN</td>\n",
       "      <td>LGA</td>\n",
       "      <td>ATL</td>\n",
       "      <td>GA</td>\n",
       "      <td>16</td>\n",
       "      <td>-2.0</td>\n",
       "      <td>0</td>\n",
       "      <td>165</td>\n",
       "      <td>762</td>\n",
       "      <td>0</td>\n",
       "      <td>Clear</td>\n",
       "    </tr>\n",
       "    <tr>\n",
       "      <th>2</th>\n",
       "      <td>11</td>\n",
       "      <td>5</td>\n",
       "      <td>2019-11-29</td>\n",
       "      <td>WN</td>\n",
       "      <td>LGA</td>\n",
       "      <td>ATL</td>\n",
       "      <td>GA</td>\n",
       "      <td>10</td>\n",
       "      <td>-6.0</td>\n",
       "      <td>0</td>\n",
       "      <td>170</td>\n",
       "      <td>762</td>\n",
       "      <td>0</td>\n",
       "      <td>Clear</td>\n",
       "    </tr>\n",
       "    <tr>\n",
       "      <th>3</th>\n",
       "      <td>11</td>\n",
       "      <td>5</td>\n",
       "      <td>2019-11-29</td>\n",
       "      <td>WN</td>\n",
       "      <td>LGA</td>\n",
       "      <td>ATL</td>\n",
       "      <td>GA</td>\n",
       "      <td>06</td>\n",
       "      <td>-2.0</td>\n",
       "      <td>0</td>\n",
       "      <td>160</td>\n",
       "      <td>762</td>\n",
       "      <td>0</td>\n",
       "      <td>Clear</td>\n",
       "    </tr>\n",
       "    <tr>\n",
       "      <th>4</th>\n",
       "      <td>11</td>\n",
       "      <td>5</td>\n",
       "      <td>2019-11-29</td>\n",
       "      <td>WN</td>\n",
       "      <td>LGA</td>\n",
       "      <td>ATL</td>\n",
       "      <td>GA</td>\n",
       "      <td>20</td>\n",
       "      <td>-4.0</td>\n",
       "      <td>0</td>\n",
       "      <td>165</td>\n",
       "      <td>762</td>\n",
       "      <td>0</td>\n",
       "      <td>Clear</td>\n",
       "    </tr>\n",
       "  </tbody>\n",
       "</table>\n",
       "</div>"
      ],
      "text/plain": [
       "   MONTH  DAY_OF_WEEK        Date OP_CARRIER ORIGIN DEST DEST_STATE_ABR  \\\n",
       "0     11            5  2019-11-29         WN    LGA  ATL             GA   \n",
       "1     11            5  2019-11-29         WN    LGA  ATL             GA   \n",
       "2     11            5  2019-11-29         WN    LGA  ATL             GA   \n",
       "3     11            5  2019-11-29         WN    LGA  ATL             GA   \n",
       "4     11            5  2019-11-29         WN    LGA  ATL             GA   \n",
       "\n",
       "  CRS_DEP_TIME  DEP_DELAY  DEP_DEL15  CRS_ELAPSED_TIME  DISTANCE  Holiday  \\\n",
       "0           11       -1.0          0               170       762        0   \n",
       "1           16       -2.0          0               165       762        0   \n",
       "2           10       -6.0          0               170       762        0   \n",
       "3           06       -2.0          0               160       762        0   \n",
       "4           20       -4.0          0               165       762        0   \n",
       "\n",
       "  Conditions  \n",
       "0      Clear  \n",
       "1      Clear  \n",
       "2      Clear  \n",
       "3      Clear  \n",
       "4      Clear  "
      ]
     },
     "execution_count": 36,
     "metadata": {},
     "output_type": "execute_result"
    }
   ],
   "source": [
    "full_df= full_df[full_df['CRS_ELAPSED_TIME'] <= upper_bound]\n",
    "full_df.head()"
   ]
  },
  {
   "cell_type": "markdown",
   "metadata": {},
   "source": [
    "## Outliers for 'DISTANCE'"
   ]
  },
  {
   "cell_type": "code",
   "execution_count": 37,
   "metadata": {},
   "outputs": [
    {
     "name": "stdout",
     "output_type": "stream",
     "text": [
      "count    954255.000000\n",
      "mean       1025.684277\n",
      "std         719.473485\n",
      "min          94.000000\n",
      "25%         483.000000\n",
      "50%         765.000000\n",
      "75%        1389.000000\n",
      "max        2586.000000\n",
      "Name: DISTANCE, dtype: float64\n"
     ]
    },
    {
     "data": {
      "image/png": "[encoded data removed]",
      "text/plain": [
       "<matplotlib.figure.Figure at 0x285c6e67390>"
      ]
     },
     "metadata": {},
     "output_type": "display_data"
    }
   ],
   "source": [
    "sns.boxplot(y = full_df['DISTANCE'])\n",
    "print(full_df['DISTANCE'].describe())"
   ]
  },
  {
   "cell_type": "code",
   "execution_count": 38,
   "metadata": {},
   "outputs": [
    {
     "data": {
      "text/plain": [
       "0"
      ]
     },
     "execution_count": 38,
     "metadata": {},
     "output_type": "execute_result"
    }
   ],
   "source": [
    "# Outliers above upper bound\n",
    "distance_stats= full_df['DISTANCE'].describe()\n",
    "IQR= distance_stats[6]- distance_stats[4]\n",
    "upper_bound= 3* IQR + distance_stats[6]\n",
    "full_df[full_df['DISTANCE']> upper_bound].shape[0]"
   ]
  },
  {
   "cell_type": "code",
   "execution_count": 39,
   "metadata": {},
   "outputs": [
    {
     "data": {
      "text/plain": [
       "0"
      ]
     },
     "execution_count": 39,
     "metadata": {},
     "output_type": "execute_result"
    }
   ],
   "source": [
    "# Outliers below lower bound\n",
    "lower_bound= distance_stats[4] - 3* IQR\n",
    "full_df[full_df['DISTANCE'] < lower_bound].shape[0]"
   ]
  },
  {
   "cell_type": "markdown",
   "metadata": {},
   "source": [
    "## Outliers for Departure Delay in Minutes ('DEP_DELAY')"
   ]
  },
  {
   "cell_type": "code",
   "execution_count": 40,
   "metadata": {},
   "outputs": [],
   "source": [
    "delay_stats = full_df['DEP_DELAY'].describe()"
   ]
  },
  {
   "cell_type": "code",
   "execution_count": 41,
   "metadata": {},
   "outputs": [
    {
     "data": {
      "text/plain": [
       "88603"
      ]
     },
     "execution_count": 41,
     "metadata": {},
     "output_type": "execute_result"
    }
   ],
   "source": [
    "# Outliers above upper bound\n",
    "IQR= delay_stats[6]- delay_stats[4]\n",
    "upper_bound= 3* IQR + delay_stats[6]\n",
    "full_df[full_df['DEP_DELAY']> upper_bound].shape[0]"
   ]
  },
  {
   "cell_type": "code",
   "execution_count": 42,
   "metadata": {},
   "outputs": [
    {
     "data": {
      "text/plain": [
       "2"
      ]
     },
     "execution_count": 42,
     "metadata": {},
     "output_type": "execute_result"
    }
   ],
   "source": [
    "# Outliers below lower bound\n",
    "lower_bound= delay_stats[4] - 3* IQR\n",
    "full_df[full_df['DEP_DELAY'] < lower_bound].shape[0]"
   ]
  },
  {
   "cell_type": "code",
   "execution_count": 43,
   "metadata": {},
   "outputs": [
    {
     "data": {
      "text/plain": [
       "9.285253941556503"
      ]
     },
     "execution_count": 43,
     "metadata": {},
     "output_type": "execute_result"
    }
   ],
   "source": [
    "88605/len(full_df) *100"
   ]
  },
  {
   "cell_type": "code",
   "execution_count": 44,
   "metadata": {},
   "outputs": [
    {
     "data": {
      "text/plain": [
       "(954255, 14)"
      ]
     },
     "execution_count": 44,
     "metadata": {},
     "output_type": "execute_result"
    }
   ],
   "source": [
    "full_df.shape"
   ]
  },
  {
   "cell_type": "markdown",
   "metadata": {},
   "source": [
    "# 4) Analysis"
   ]
  },
  {
   "cell_type": "markdown",
   "metadata": {},
   "source": [
    "## i) Descriptive Analysis"
   ]
  },
  {
   "cell_type": "markdown",
   "metadata": {},
   "source": [
    "### a) DEPARTURE DELAY (MINUTES)"
   ]
  },
  {
   "cell_type": "code",
   "execution_count": 45,
   "metadata": {},
   "outputs": [
    {
     "data": {
      "text/plain": [
       "count    954255.000000\n",
       "mean         13.486476\n",
       "std          51.873630\n",
       "min         -84.000000\n",
       "25%          -6.000000\n",
       "50%          -2.000000\n",
       "75%           9.000000\n",
       "max        1669.000000\n",
       "Name: DEP_DELAY, dtype: float64"
      ]
     },
     "execution_count": 45,
     "metadata": {},
     "output_type": "execute_result"
    }
   ],
   "source": [
    "full_df['DEP_DELAY'].describe()"
   ]
  },
  {
   "cell_type": "code",
   "execution_count": 46,
   "metadata": {},
   "outputs": [
    {
     "data": {
      "text/plain": [
       "<matplotlib.axes._subplots.AxesSubplot at 0x285902a8390>"
      ]
     },
     "execution_count": 46,
     "metadata": {},
     "output_type": "execute_result"
    },
    {
     "data": {
      "image/png": "[encoded data removed]",
      "text/plain": [
       "<matplotlib.figure.Figure at 0x28590291940>"
      ]
     },
     "metadata": {},
     "output_type": "display_data"
    }
   ],
   "source": [
    "sns.boxplot(y = full_df['DEP_DELAY'])"
   ]
  },
  {
   "cell_type": "code",
   "execution_count": 47,
   "metadata": {},
   "outputs": [
    {
     "data": {
      "image/png": "[encoded data removed]",
      "text/plain": [
       "<matplotlib.figure.Figure at 0x285902914e0>"
      ]
     },
     "metadata": {},
     "output_type": "display_data"
    }
   ],
   "source": [
    "plt.hist(full_df['DEP_DELAY'], bins = 40)\n",
    "plt.gca().set(title='Frequency Histogram of Departure Delay', xlabel='Departure delay (minutes)', ylabel='Frequency')\n",
    "plt.xlim(-100, 400)\n",
    "plt.show()"
   ]
  },
  {
   "cell_type": "code",
   "execution_count": 48,
   "metadata": {},
   "outputs": [
    {
     "data": {
      "text/plain": [
       "1.0616659069116745"
      ]
     },
     "execution_count": 48,
     "metadata": {},
     "output_type": "execute_result"
    }
   ],
   "source": [
    "# Percentage of flight delays exceeding 3.5 hours (220 minutes)\n",
    "\n",
    "outliers_delayed = full_df[full_df['DEP_DELAY'] >= 220]\n",
    "len(outliers_delayed) / 954255 * 100 \n"
   ]
  },
  {
   "cell_type": "code",
   "execution_count": 53,
   "metadata": {},
   "outputs": [
    {
     "data": {
      "text/plain": [
       "78.9547867184348"
      ]
     },
     "execution_count": 53,
     "metadata": {},
     "output_type": "execute_result"
    }
   ],
   "source": [
    "# Percentage of non-delayed flights \n",
    "non_delayed_df = full_df[full_df['DEP_DELAY'] < 15]\n",
    "percentage_non_delayed = len(non_delayed_df)/ 954255 * 100 \n",
    "percentage_non_delayed"
   ]
  },
  {
   "cell_type": "code",
   "execution_count": 54,
   "metadata": {},
   "outputs": [
    {
     "data": {
      "text/plain": [
       "17.460741625666095"
      ]
     },
     "execution_count": 54,
     "metadata": {},
     "output_type": "execute_result"
    }
   ],
   "source": [
    "# Percentage of delayed flights (> 15 mins only)\n",
    "\n",
    "delayed_df = full_df[full_df['DEP_DELAY'] >= 15]\n",
    "delayed_df = delayed_df[delayed_df['DEP_DELAY'] < 120]            \n",
    "\n",
    "percentage_short_delay = len(delayed_df)/954255 * 100\n",
    "percentage_short_delay"
   ]
  },
  {
   "cell_type": "code",
   "execution_count": 55,
   "metadata": {},
   "outputs": [
    {
     "data": {
      "text/plain": [
       "3.5844716558991045"
      ]
     },
     "execution_count": 55,
     "metadata": {},
     "output_type": "execute_result"
    }
   ],
   "source": [
    "long_delayed = full_df[full_df['DEP_DELAY'] >= 120]\n",
    "percentage_long_delay = len(long_delayed) / 954255 * 100 \n",
    "percentage_long_delay"
   ]
  },
  {
   "cell_type": "code",
   "execution_count": 56,
   "metadata": {},
   "outputs": [
    {
     "data": {
      "text/plain": [
       "Text(0.5,1,'Percentages of Flights with No Delay, Short Delay and Long Delay')"
      ]
     },
     "execution_count": 56,
     "metadata": {},
     "output_type": "execute_result"
    },
    {
     "data": {
      "image/png": "[encoded data removed]",
      "text/plain": [
       "<matplotlib.figure.Figure at 0x1c2ae20d278>"
      ]
     },
     "metadata": {},
     "output_type": "display_data"
    }
   ],
   "source": [
    "# Create a pie chart to show percentage of delays \n",
    "\n",
    "Delay = ['Not delayed', 'Short delay', 'Long delay']\n",
    "percentage = [percentage_non_delayed, percentage_short_delay, percentage_long_delay]\n",
    "colours = ['lightskyblue', 'lightgreen', 'yellow']\n",
    "\n",
    "plt.pie(percentage, explode = None, labels = Delay, colors = colours, autopct= '%1.1f%%')\n",
    "plt.axis('equal')\n",
    "plt.title('Percentages of Flights with No Delay, Short Delay and Long Delay')"
   ]
  },
  {
   "cell_type": "markdown",
   "metadata": {},
   "source": [
    "### b) CRS_ELAPSED_TIME (SCHEDULED FLIGHT DURATION)"
   ]
  },
  {
   "cell_type": "code",
   "execution_count": 57,
   "metadata": {},
   "outputs": [
    {
     "data": {
      "text/html": [
       "<div>\n",
       "<style scoped>\n",
       "    .dataframe tbody tr th:only-of-type {\n",
       "        vertical-align: middle;\n",
       "    }\n",
       "\n",
       "    .dataframe tbody tr th {\n",
       "        vertical-align: top;\n",
       "    }\n",
       "\n",
       "    .dataframe thead th {\n",
       "        text-align: right;\n",
       "    }\n",
       "</style>\n",
       "<table border=\"1\" class=\"dataframe\">\n",
       "  <thead>\n",
       "    <tr style=\"text-align: right;\">\n",
       "      <th></th>\n",
       "      <th>CRS_ELAPSED_TIME</th>\n",
       "      <th>DISTANCE</th>\n",
       "    </tr>\n",
       "  </thead>\n",
       "  <tbody>\n",
       "    <tr>\n",
       "      <th>count</th>\n",
       "      <td>954255.000000</td>\n",
       "      <td>954255.000000</td>\n",
       "    </tr>\n",
       "    <tr>\n",
       "      <th>mean</th>\n",
       "      <td>191.523094</td>\n",
       "      <td>1025.684277</td>\n",
       "    </tr>\n",
       "    <tr>\n",
       "      <th>std</th>\n",
       "      <td>94.960219</td>\n",
       "      <td>719.473485</td>\n",
       "    </tr>\n",
       "    <tr>\n",
       "      <th>min</th>\n",
       "      <td>24.000000</td>\n",
       "      <td>94.000000</td>\n",
       "    </tr>\n",
       "    <tr>\n",
       "      <th>25%</th>\n",
       "      <td>121.000000</td>\n",
       "      <td>483.000000</td>\n",
       "    </tr>\n",
       "    <tr>\n",
       "      <th>50%</th>\n",
       "      <td>170.000000</td>\n",
       "      <td>765.000000</td>\n",
       "    </tr>\n",
       "    <tr>\n",
       "      <th>75%</th>\n",
       "      <td>233.000000</td>\n",
       "      <td>1389.000000</td>\n",
       "    </tr>\n",
       "    <tr>\n",
       "      <th>max</th>\n",
       "      <td>510.000000</td>\n",
       "      <td>2586.000000</td>\n",
       "    </tr>\n",
       "  </tbody>\n",
       "</table>\n",
       "</div>"
      ],
      "text/plain": [
       "       CRS_ELAPSED_TIME       DISTANCE\n",
       "count     954255.000000  954255.000000\n",
       "mean         191.523094    1025.684277\n",
       "std           94.960219     719.473485\n",
       "min           24.000000      94.000000\n",
       "25%          121.000000     483.000000\n",
       "50%          170.000000     765.000000\n",
       "75%          233.000000    1389.000000\n",
       "max          510.000000    2586.000000"
      ]
     },
     "execution_count": 57,
     "metadata": {},
     "output_type": "execute_result"
    }
   ],
   "source": [
    "full_df[['CRS_ELAPSED_TIME','DISTANCE']].describe()"
   ]
  },
  {
   "cell_type": "code",
   "execution_count": 58,
   "metadata": {},
   "outputs": [
    {
     "data": {
      "text/plain": [
       "<matplotlib.axes._subplots.AxesSubplot at 0x1c2ae20db70>"
      ]
     },
     "execution_count": 58,
     "metadata": {},
     "output_type": "execute_result"
    },
    {
     "data": {
      "image/png": "[encoded data removed]",
      "text/plain": [
       "<matplotlib.figure.Figure at 0x1c2ae1eee10>"
      ]
     },
     "metadata": {},
     "output_type": "display_data"
    }
   ],
   "source": [
    "sns.boxplot(y = full_df['CRS_ELAPSED_TIME'])"
   ]
  },
  {
   "cell_type": "code",
   "execution_count": 59,
   "metadata": {},
   "outputs": [
    {
     "data": {
      "image/png": "[encoded data removed]",
      "text/plain": [
       "<matplotlib.figure.Figure at 0x1c2ae1fd2b0>"
      ]
     },
     "metadata": {},
     "output_type": "display_data"
    }
   ],
   "source": [
    "# Logarithmic-transformed Distribution of Scheduled Flight Duration\n",
    "\n",
    "from math import log\n",
    "#take log to the base 10\n",
    "\n",
    "def logify(x):\n",
    "    return log(x,10) if x else 0\n",
    "\n",
    "plt.hist(full_df['CRS_ELAPSED_TIME'].apply(logify))\n",
    "plt.xlabel('Scheduled Flight Duration')\n",
    "plt.ylabel('Frequency') \n",
    "plt.title('Logarithmic-transformed Distribution of Scheduled Flight Duration')\n",
    "plt.show()"
   ]
  },
  {
   "cell_type": "markdown",
   "metadata": {},
   "source": [
    "### c) FLIGHT DISTANCE"
   ]
  },
  {
   "cell_type": "code",
   "execution_count": 60,
   "metadata": {},
   "outputs": [
    {
     "data": {
      "text/plain": [
       "<matplotlib.axes._subplots.AxesSubplot at 0x1c29e5387f0>"
      ]
     },
     "execution_count": 60,
     "metadata": {},
     "output_type": "execute_result"
    },
    {
     "data": {
      "image/png": "[encoded data removed]",
      "text/plain": [
       "<matplotlib.figure.Figure at 0x1c2ae1fda58>"
      ]
     },
     "metadata": {},
     "output_type": "display_data"
    }
   ],
   "source": [
    "sns.boxplot(y = full_df['DISTANCE'])"
   ]
  },
  {
   "cell_type": "code",
   "execution_count": 61,
   "metadata": {},
   "outputs": [
    {
     "data": {
      "image/png": "[encoded data removed]",
      "text/plain": [
       "<matplotlib.figure.Figure at 0x1c29e5516a0>"
      ]
     },
     "metadata": {},
     "output_type": "display_data"
    }
   ],
   "source": [
    "# Logarithmic-transformed Distribution of Flight distance\n",
    "\n",
    "plt.hist(full_df['DISTANCE'].apply(logify))\n",
    "plt.xlabel('Flight Distance')\n",
    "plt.ylabel('Frequency') \n",
    "plt.title('Logarithmic-transformed Distribution of Flight Distance')\n",
    "plt.show()"
   ]
  },
  {
   "cell_type": "markdown",
   "metadata": {},
   "source": [
    "## ii) Relationship Analysis"
   ]
  },
  {
   "cell_type": "code",
   "execution_count": 62,
   "metadata": {},
   "outputs": [
    {
     "data": {
      "image/png": "[encoded data removed]",
      "text/plain": [
       "<matplotlib.figure.Figure at 0x1c29e551668>"
      ]
     },
     "metadata": {},
     "output_type": "display_data"
    }
   ],
   "source": [
    "# correlation\n",
    "corrMatrix = full_df[['CRS_ELAPSED_TIME', 'DISTANCE','DEP_DELAY']].corr()\n",
    "sns.heatmap(corrMatrix, annot=True)\n",
    "plt.show()"
   ]
  },
  {
   "cell_type": "code",
   "execution_count": 63,
   "metadata": {
    "scrolled": true
   },
   "outputs": [
    {
     "data": {
      "image/png": "[encoded data removed]",
      "text/plain": [
       "<matplotlib.figure.Figure at 0x1c2d64927b8>"
      ]
     },
     "metadata": {},
     "output_type": "display_data"
    }
   ],
   "source": [
    "# Month vs avg delay\n",
    "avg_delay_by_month= pd.DataFrame(full_df.groupby('MONTH').mean()['DEP_DELAY'])\n",
    "sns.barplot(data=avg_delay_by_month, x=avg_delay_by_month.index, y=\"DEP_DELAY\", color='royalblue')\n",
    "plt.xlabel('Month')\n",
    "plt.ylabel('Average Delay(min)')\n",
    "plt.title('Average Monthly Delay')\n",
    "plt.show()"
   ]
  },
  {
   "cell_type": "code",
   "execution_count": 64,
   "metadata": {},
   "outputs": [
    {
     "data": {
      "image/png": "[encoded data removed]",
      "text/plain": [
       "<matplotlib.figure.Figure at 0x1c2d65012b0>"
      ]
     },
     "metadata": {},
     "output_type": "display_data"
    }
   ],
   "source": [
    "# Weekday vs avg delay\n",
    "avg_delay_by_weekday= pd.DataFrame(full_df.groupby('DAY_OF_WEEK').mean()['DEP_DELAY'])\n",
    "sns.barplot(data=avg_delay_by_weekday, x=avg_delay_by_weekday.index, y=\"DEP_DELAY\", color='royalblue')\n",
    "plt.xlabel('Day of Week')\n",
    "plt.ylabel('Average Delay(min)')\n",
    "plt.title('Average Daily Delay')\n",
    "plt.show()"
   ]
  },
  {
   "cell_type": "code",
   "execution_count": 65,
   "metadata": {},
   "outputs": [
    {
     "data": {
      "image/png": "[encoded data removed]",
      "text/plain": [
       "<matplotlib.figure.Figure at 0x1c29f6f77f0>"
      ]
     },
     "metadata": {},
     "output_type": "display_data"
    }
   ],
   "source": [
    "# Hour vs avg delay\n",
    "avg_delay_by_hour= pd.DataFrame(full_df.groupby('CRS_DEP_TIME').mean()['DEP_DELAY'])\n",
    "sns.barplot(data=avg_delay_by_hour, x=avg_delay_by_hour.index, y=\"DEP_DELAY\", color='royalblue')\n",
    "plt.xlabel('Time of day (hrs)')\n",
    "plt.ylabel('Average Delay(min)')\n",
    "plt.title('Average Hourly Delay')\n",
    "plt.show()"
   ]
  },
  {
   "cell_type": "code",
   "execution_count": 66,
   "metadata": {
    "scrolled": true
   },
   "outputs": [
    {
     "data": {
      "image/png": "[encoded data removed]",
      "text/plain": [
       "<matplotlib.figure.Figure at 0x1c2e8250198>"
      ]
     },
     "metadata": {},
     "output_type": "display_data"
    }
   ],
   "source": [
    "# Airline vs avg delay\n",
    "avg_delay_by_carrier= pd.DataFrame(full_df.groupby('OP_CARRIER').mean()['DEP_DELAY'])\n",
    "avg_delay_by_carrier_sorted= avg_delay_by_carrier.sort_values(by=['DEP_DELAY'])\n",
    "sns.barplot(data=avg_delay_by_carrier_sorted, x=avg_delay_by_carrier_sorted.index, y=\"DEP_DELAY\", color='royalblue')\n",
    "plt.xlabel('Carrier')\n",
    "plt.ylabel('Average Delay(min)')\n",
    "plt.title('Average Delay for Different Airline Companies')\n",
    "plt.show()"
   ]
  },
  {
   "cell_type": "code",
   "execution_count": 82,
   "metadata": {},
   "outputs": [
    {
     "name": "stderr",
     "output_type": "stream",
     "text": [
      "/Users/yutinglang/opt/anaconda3/lib/python3.8/site-packages/seaborn/axisgrid.py:2071: UserWarning: The `size` parameter has been renamed to `height`; please update your code.\n",
      "  warnings.warn(msg, UserWarning)\n"
     ]
    },
    {
     "data": {
      "image/png": "[encoded data removed]",
      "text/plain": [
       "<Figure size 343.875x288 with 6 Axes>"
      ]
     },
     "metadata": {},
     "output_type": "display_data"
    }
   ],
   "source": [
    "# The delay of two origins in days of a week\n",
    "sns.set_style(\"whitegrid\");\n",
    "sns.pairplot(full_df[['DAY_OF_WEEK', 'DEP_DELAY', 'ORIGIN']], hue='ORIGIN', size=2);\n",
    "plt.show()"
   ]
  },
  {
   "cell_type": "code",
   "execution_count": 83,
   "metadata": {},
   "outputs": [
    {
     "name": "stderr",
     "output_type": "stream",
     "text": [
      "/Users/yutinglang/opt/anaconda3/lib/python3.8/site-packages/seaborn/axisgrid.py:2071: UserWarning: The `size` parameter has been renamed to `height`; please update your code.\n",
      "  warnings.warn(msg, UserWarning)\n"
     ]
    },
    {
     "data": {
      "image/png": "[encoded data removed]",
      "text/plain": [
       "<Figure size 343.875x288 with 6 Axes>"
      ]
     },
     "metadata": {},
     "output_type": "display_data"
    }
   ],
   "source": [
    "# The delay of two origins in months of a year\n",
    "sns.set_style(\"whitegrid\");\n",
    "sns.pairplot(full_df[['MONTH', 'DEP_DELAY', 'ORIGIN']], hue='ORIGIN', size=2);\n",
    "plt.show()"
   ]
  },
  {
   "cell_type": "code",
   "execution_count": 84,
   "metadata": {},
   "outputs": [],
   "source": [
    "# PCA\n",
    "from sklearn.decomposition import PCA\n",
    "from sklearn.preprocessing import StandardScaler\n",
    "features = list(initial_model_df.drop(['Delay'], axis=1).columns)\n",
    "# Separating out the features\n",
    "x_pca = initial_model_df.loc[:, features].values\n",
    "# Separating out the target\n",
    "y_pca = initial_model_df.loc[:,['Delay']].values\n",
    "# Standardizing the features\n",
    "x_pca = StandardScaler().fit_transform(x_pca)"
   ]
  },
  {
   "cell_type": "code",
   "execution_count": 85,
   "metadata": {},
   "outputs": [],
   "source": [
    "pca = PCA(n_components=2)\n",
    "principalComponents = pca.fit_transform(x_pca)\n",
    "principalDf = pd.DataFrame(data = principalComponents\n",
    "             , columns = ['principal component 1', 'principal component 2'])\n",
    "finalDf = pd.concat([principalDf, initial_model_df[['Delay']]], axis = 1)"
   ]
  },
  {
   "cell_type": "code",
   "execution_count": 87,
   "metadata": {},
   "outputs": [
    {
     "data": {
      "image/png": "[encoded data removed]",
      "text/plain": [
       "<Figure size 576x576 with 1 Axes>"
      ]
     },
     "metadata": {},
     "output_type": "display_data"
    }
   ],
   "source": [
    "fig = plt.figure(figsize = (8,8))\n",
    "ax = fig.add_subplot(1,1,1) \n",
    "ax.set_xlabel('Principal Component 1', fontsize = 15)\n",
    "ax.set_ylabel('Principal Component 2', fontsize = 15)\n",
    "ax.set_title('2 component PCA', fontsize = 20)\n",
    "targets = [0, 1]\n",
    "colors = ['r', 'b']\n",
    "for target, color in zip(targets,colors):\n",
    "    indicesToKeep = finalDf['Delay'] == target\n",
    "    ax.scatter(finalDf.loc[indicesToKeep, 'principal component 1']\n",
    "               , finalDf.loc[indicesToKeep, 'principal component 2']\n",
    "               , c = color\n",
    "               , s = 50)\n",
    "ax.legend(targets)\n",
    "ax.grid()"
   ]
  },
  {
   "cell_type": "markdown",
   "metadata": {},
   "source": [
    "# 5) Modelling"
   ]
  },
  {
   "cell_type": "code",
   "execution_count": 52,
   "metadata": {},
   "outputs": [],
   "source": [
    "# from xgboost import XGBClassifier\n",
    "from sklearn.model_selection import train_test_split\n",
    "from sklearn.metrics import accuracy_score\n",
    "from sklearn.preprocessing import LabelEncoder"
   ]
  },
  {
   "cell_type": "code",
   "execution_count": 53,
   "metadata": {},
   "outputs": [
    {
     "data": {
      "text/html": [
       "<div>\n",
       "<style scoped>\n",
       "    .dataframe tbody tr th:only-of-type {\n",
       "        vertical-align: middle;\n",
       "    }\n",
       "\n",
       "    .dataframe tbody tr th {\n",
       "        vertical-align: top;\n",
       "    }\n",
       "\n",
       "    .dataframe thead th {\n",
       "        text-align: right;\n",
       "    }\n",
       "</style>\n",
       "<table border=\"1\" class=\"dataframe\">\n",
       "  <thead>\n",
       "    <tr style=\"text-align: right;\">\n",
       "      <th></th>\n",
       "      <th>MONTH</th>\n",
       "      <th>DAY_OF_WEEK</th>\n",
       "      <th>Date</th>\n",
       "      <th>OP_CARRIER</th>\n",
       "      <th>ORIGIN</th>\n",
       "      <th>DEST</th>\n",
       "      <th>DEST_STATE_ABR</th>\n",
       "      <th>CRS_DEP_TIME</th>\n",
       "      <th>DEP_DEL15</th>\n",
       "      <th>CRS_ELAPSED_TIME</th>\n",
       "      <th>DISTANCE</th>\n",
       "      <th>Holiday</th>\n",
       "      <th>Conditions</th>\n",
       "    </tr>\n",
       "  </thead>\n",
       "  <tbody>\n",
       "    <tr>\n",
       "      <th>0</th>\n",
       "      <td>11</td>\n",
       "      <td>5</td>\n",
       "      <td>2019-11-29</td>\n",
       "      <td>WN</td>\n",
       "      <td>LGA</td>\n",
       "      <td>ATL</td>\n",
       "      <td>GA</td>\n",
       "      <td>11</td>\n",
       "      <td>0</td>\n",
       "      <td>170</td>\n",
       "      <td>762</td>\n",
       "      <td>0</td>\n",
       "      <td>Clear</td>\n",
       "    </tr>\n",
       "    <tr>\n",
       "      <th>1</th>\n",
       "      <td>11</td>\n",
       "      <td>5</td>\n",
       "      <td>2019-11-29</td>\n",
       "      <td>WN</td>\n",
       "      <td>LGA</td>\n",
       "      <td>ATL</td>\n",
       "      <td>GA</td>\n",
       "      <td>16</td>\n",
       "      <td>0</td>\n",
       "      <td>165</td>\n",
       "      <td>762</td>\n",
       "      <td>0</td>\n",
       "      <td>Clear</td>\n",
       "    </tr>\n",
       "    <tr>\n",
       "      <th>2</th>\n",
       "      <td>11</td>\n",
       "      <td>5</td>\n",
       "      <td>2019-11-29</td>\n",
       "      <td>WN</td>\n",
       "      <td>LGA</td>\n",
       "      <td>ATL</td>\n",
       "      <td>GA</td>\n",
       "      <td>10</td>\n",
       "      <td>0</td>\n",
       "      <td>170</td>\n",
       "      <td>762</td>\n",
       "      <td>0</td>\n",
       "      <td>Clear</td>\n",
       "    </tr>\n",
       "    <tr>\n",
       "      <th>3</th>\n",
       "      <td>11</td>\n",
       "      <td>5</td>\n",
       "      <td>2019-11-29</td>\n",
       "      <td>WN</td>\n",
       "      <td>LGA</td>\n",
       "      <td>ATL</td>\n",
       "      <td>GA</td>\n",
       "      <td>06</td>\n",
       "      <td>0</td>\n",
       "      <td>160</td>\n",
       "      <td>762</td>\n",
       "      <td>0</td>\n",
       "      <td>Clear</td>\n",
       "    </tr>\n",
       "    <tr>\n",
       "      <th>4</th>\n",
       "      <td>11</td>\n",
       "      <td>5</td>\n",
       "      <td>2019-11-29</td>\n",
       "      <td>WN</td>\n",
       "      <td>LGA</td>\n",
       "      <td>ATL</td>\n",
       "      <td>GA</td>\n",
       "      <td>20</td>\n",
       "      <td>0</td>\n",
       "      <td>165</td>\n",
       "      <td>762</td>\n",
       "      <td>0</td>\n",
       "      <td>Clear</td>\n",
       "    </tr>\n",
       "  </tbody>\n",
       "</table>\n",
       "</div>"
      ],
      "text/plain": [
       "   MONTH  DAY_OF_WEEK        Date OP_CARRIER ORIGIN DEST DEST_STATE_ABR  \\\n",
       "0     11            5  2019-11-29         WN    LGA  ATL             GA   \n",
       "1     11            5  2019-11-29         WN    LGA  ATL             GA   \n",
       "2     11            5  2019-11-29         WN    LGA  ATL             GA   \n",
       "3     11            5  2019-11-29         WN    LGA  ATL             GA   \n",
       "4     11            5  2019-11-29         WN    LGA  ATL             GA   \n",
       "\n",
       "  CRS_DEP_TIME  DEP_DEL15  CRS_ELAPSED_TIME  DISTANCE  Holiday Conditions  \n",
       "0           11          0               170       762        0      Clear  \n",
       "1           16          0               165       762        0      Clear  \n",
       "2           10          0               170       762        0      Clear  \n",
       "3           06          0               160       762        0      Clear  \n",
       "4           20          0               165       762        0      Clear  "
      ]
     },
     "execution_count": 53,
     "metadata": {},
     "output_type": "execute_result"
    }
   ],
   "source": [
    "initial_model_df= full_df.drop('DEP_DELAY', axis= 1)\n",
    "initial_model_df.head()"
   ]
  },
  {
   "cell_type": "code",
   "execution_count": 54,
   "metadata": {
    "scrolled": true
   },
   "outputs": [
    {
     "data": {
      "text/html": [
       "<div>\n",
       "<style scoped>\n",
       "    .dataframe tbody tr th:only-of-type {\n",
       "        vertical-align: middle;\n",
       "    }\n",
       "\n",
       "    .dataframe tbody tr th {\n",
       "        vertical-align: top;\n",
       "    }\n",
       "\n",
       "    .dataframe thead th {\n",
       "        text-align: right;\n",
       "    }\n",
       "</style>\n",
       "<table border=\"1\" class=\"dataframe\">\n",
       "  <thead>\n",
       "    <tr style=\"text-align: right;\">\n",
       "      <th></th>\n",
       "      <th>MONTH</th>\n",
       "      <th>DAY_OF_WEEK</th>\n",
       "      <th>Date</th>\n",
       "      <th>OP_CARRIER</th>\n",
       "      <th>ORIGIN</th>\n",
       "      <th>DEST</th>\n",
       "      <th>DEST_STATE_ABR</th>\n",
       "      <th>CRS_DEP_TIME</th>\n",
       "      <th>DEP_DEL15</th>\n",
       "      <th>CRS_ELAPSED_TIME</th>\n",
       "      <th>DISTANCE</th>\n",
       "      <th>Holiday</th>\n",
       "      <th>Conditions</th>\n",
       "      <th>Carrier_cat</th>\n",
       "      <th>Origin_cat</th>\n",
       "      <th>Dest_cat</th>\n",
       "      <th>Dest_state_cat</th>\n",
       "      <th>Condition_cat</th>\n",
       "    </tr>\n",
       "  </thead>\n",
       "  <tbody>\n",
       "    <tr>\n",
       "      <th>0</th>\n",
       "      <td>11</td>\n",
       "      <td>5</td>\n",
       "      <td>2019-11-29</td>\n",
       "      <td>WN</td>\n",
       "      <td>LGA</td>\n",
       "      <td>ATL</td>\n",
       "      <td>GA</td>\n",
       "      <td>11</td>\n",
       "      <td>0</td>\n",
       "      <td>170</td>\n",
       "      <td>762</td>\n",
       "      <td>0</td>\n",
       "      <td>Clear</td>\n",
       "      <td>13</td>\n",
       "      <td>1</td>\n",
       "      <td>3</td>\n",
       "      <td>6</td>\n",
       "      <td>0</td>\n",
       "    </tr>\n",
       "    <tr>\n",
       "      <th>1</th>\n",
       "      <td>11</td>\n",
       "      <td>5</td>\n",
       "      <td>2019-11-29</td>\n",
       "      <td>WN</td>\n",
       "      <td>LGA</td>\n",
       "      <td>ATL</td>\n",
       "      <td>GA</td>\n",
       "      <td>16</td>\n",
       "      <td>0</td>\n",
       "      <td>165</td>\n",
       "      <td>762</td>\n",
       "      <td>0</td>\n",
       "      <td>Clear</td>\n",
       "      <td>13</td>\n",
       "      <td>1</td>\n",
       "      <td>3</td>\n",
       "      <td>6</td>\n",
       "      <td>0</td>\n",
       "    </tr>\n",
       "    <tr>\n",
       "      <th>2</th>\n",
       "      <td>11</td>\n",
       "      <td>5</td>\n",
       "      <td>2019-11-29</td>\n",
       "      <td>WN</td>\n",
       "      <td>LGA</td>\n",
       "      <td>ATL</td>\n",
       "      <td>GA</td>\n",
       "      <td>10</td>\n",
       "      <td>0</td>\n",
       "      <td>170</td>\n",
       "      <td>762</td>\n",
       "      <td>0</td>\n",
       "      <td>Clear</td>\n",
       "      <td>13</td>\n",
       "      <td>1</td>\n",
       "      <td>3</td>\n",
       "      <td>6</td>\n",
       "      <td>0</td>\n",
       "    </tr>\n",
       "    <tr>\n",
       "      <th>3</th>\n",
       "      <td>11</td>\n",
       "      <td>5</td>\n",
       "      <td>2019-11-29</td>\n",
       "      <td>WN</td>\n",
       "      <td>LGA</td>\n",
       "      <td>ATL</td>\n",
       "      <td>GA</td>\n",
       "      <td>06</td>\n",
       "      <td>0</td>\n",
       "      <td>160</td>\n",
       "      <td>762</td>\n",
       "      <td>0</td>\n",
       "      <td>Clear</td>\n",
       "      <td>13</td>\n",
       "      <td>1</td>\n",
       "      <td>3</td>\n",
       "      <td>6</td>\n",
       "      <td>0</td>\n",
       "    </tr>\n",
       "    <tr>\n",
       "      <th>4</th>\n",
       "      <td>11</td>\n",
       "      <td>5</td>\n",
       "      <td>2019-11-29</td>\n",
       "      <td>WN</td>\n",
       "      <td>LGA</td>\n",
       "      <td>ATL</td>\n",
       "      <td>GA</td>\n",
       "      <td>20</td>\n",
       "      <td>0</td>\n",
       "      <td>165</td>\n",
       "      <td>762</td>\n",
       "      <td>0</td>\n",
       "      <td>Clear</td>\n",
       "      <td>13</td>\n",
       "      <td>1</td>\n",
       "      <td>3</td>\n",
       "      <td>6</td>\n",
       "      <td>0</td>\n",
       "    </tr>\n",
       "  </tbody>\n",
       "</table>\n",
       "</div>"
      ],
      "text/plain": [
       "   MONTH  DAY_OF_WEEK        Date OP_CARRIER ORIGIN DEST DEST_STATE_ABR  \\\n",
       "0     11            5  2019-11-29         WN    LGA  ATL             GA   \n",
       "1     11            5  2019-11-29         WN    LGA  ATL             GA   \n",
       "2     11            5  2019-11-29         WN    LGA  ATL             GA   \n",
       "3     11            5  2019-11-29         WN    LGA  ATL             GA   \n",
       "4     11            5  2019-11-29         WN    LGA  ATL             GA   \n",
       "\n",
       "  CRS_DEP_TIME  DEP_DEL15  CRS_ELAPSED_TIME  DISTANCE  Holiday Conditions  \\\n",
       "0           11          0               170       762        0      Clear   \n",
       "1           16          0               165       762        0      Clear   \n",
       "2           10          0               170       762        0      Clear   \n",
       "3           06          0               160       762        0      Clear   \n",
       "4           20          0               165       762        0      Clear   \n",
       "\n",
       "   Carrier_cat  Origin_cat  Dest_cat  Dest_state_cat  Condition_cat  \n",
       "0           13           1         3               6              0  \n",
       "1           13           1         3               6              0  \n",
       "2           13           1         3               6              0  \n",
       "3           13           1         3               6              0  \n",
       "4           13           1         3               6              0  "
      ]
     },
     "execution_count": 54,
     "metadata": {},
     "output_type": "execute_result"
    }
   ],
   "source": [
    "# creating instance of labelencoder\n",
    "labelencoder = LabelEncoder()\n",
    "# Assigning numerical values and storing in another column\n",
    "initial_model_df['Carrier_cat'] = labelencoder.fit_transform(initial_model_df['OP_CARRIER'])\n",
    "initial_model_df['Origin_cat'] = labelencoder.fit_transform(initial_model_df['ORIGIN'])\n",
    "initial_model_df['Dest_cat'] = labelencoder.fit_transform(initial_model_df['DEST'])\n",
    "initial_model_df['Dest_state_cat'] = labelencoder.fit_transform(initial_model_df['DEST_STATE_ABR'])\n",
    "initial_model_df['Condition_cat'] = labelencoder.fit_transform(initial_model_df['Conditions'])\n",
    "initial_model_df.head()"
   ]
  },
  {
   "cell_type": "code",
   "execution_count": 55,
   "metadata": {
    "scrolled": false
   },
   "outputs": [
    {
     "data": {
      "text/html": [
       "<div>\n",
       "<style scoped>\n",
       "    .dataframe tbody tr th:only-of-type {\n",
       "        vertical-align: middle;\n",
       "    }\n",
       "\n",
       "    .dataframe tbody tr th {\n",
       "        vertical-align: top;\n",
       "    }\n",
       "\n",
       "    .dataframe thead th {\n",
       "        text-align: right;\n",
       "    }\n",
       "</style>\n",
       "<table border=\"1\" class=\"dataframe\">\n",
       "  <thead>\n",
       "    <tr style=\"text-align: right;\">\n",
       "      <th></th>\n",
       "      <th>Date</th>\n",
       "      <th>DEP_DEL15</th>\n",
       "      <th>CRS_ELAPSED_TIME</th>\n",
       "      <th>DISTANCE</th>\n",
       "      <th>Holiday</th>\n",
       "      <th>Carrier_cat</th>\n",
       "      <th>Origin_cat</th>\n",
       "      <th>Dest_cat</th>\n",
       "      <th>Dest_state_cat</th>\n",
       "      <th>Condition_cat</th>\n",
       "      <th>...</th>\n",
       "      <th>Dest_state_is_WY</th>\n",
       "      <th>Condition_is_Clear</th>\n",
       "      <th>Condition_is_Overcast</th>\n",
       "      <th>Condition_is_Partially cloudy</th>\n",
       "      <th>Condition_is_Rain</th>\n",
       "      <th>Condition_is_Rain, Overcast</th>\n",
       "      <th>Condition_is_Rain, Partially cloudy</th>\n",
       "      <th>Condition_is_Snow</th>\n",
       "      <th>Condition_is_Snow, Overcast</th>\n",
       "      <th>Condition_is_Snow, Partially cloudy</th>\n",
       "    </tr>\n",
       "  </thead>\n",
       "  <tbody>\n",
       "    <tr>\n",
       "      <th>0</th>\n",
       "      <td>2019-11-29</td>\n",
       "      <td>0</td>\n",
       "      <td>170</td>\n",
       "      <td>762</td>\n",
       "      <td>0</td>\n",
       "      <td>13</td>\n",
       "      <td>1</td>\n",
       "      <td>3</td>\n",
       "      <td>6</td>\n",
       "      <td>0</td>\n",
       "      <td>...</td>\n",
       "      <td>0</td>\n",
       "      <td>1</td>\n",
       "      <td>0</td>\n",
       "      <td>0</td>\n",
       "      <td>0</td>\n",
       "      <td>0</td>\n",
       "      <td>0</td>\n",
       "      <td>0</td>\n",
       "      <td>0</td>\n",
       "      <td>0</td>\n",
       "    </tr>\n",
       "    <tr>\n",
       "      <th>1</th>\n",
       "      <td>2019-11-29</td>\n",
       "      <td>0</td>\n",
       "      <td>165</td>\n",
       "      <td>762</td>\n",
       "      <td>0</td>\n",
       "      <td>13</td>\n",
       "      <td>1</td>\n",
       "      <td>3</td>\n",
       "      <td>6</td>\n",
       "      <td>0</td>\n",
       "      <td>...</td>\n",
       "      <td>0</td>\n",
       "      <td>1</td>\n",
       "      <td>0</td>\n",
       "      <td>0</td>\n",
       "      <td>0</td>\n",
       "      <td>0</td>\n",
       "      <td>0</td>\n",
       "      <td>0</td>\n",
       "      <td>0</td>\n",
       "      <td>0</td>\n",
       "    </tr>\n",
       "    <tr>\n",
       "      <th>2</th>\n",
       "      <td>2019-11-29</td>\n",
       "      <td>0</td>\n",
       "      <td>170</td>\n",
       "      <td>762</td>\n",
       "      <td>0</td>\n",
       "      <td>13</td>\n",
       "      <td>1</td>\n",
       "      <td>3</td>\n",
       "      <td>6</td>\n",
       "      <td>0</td>\n",
       "      <td>...</td>\n",
       "      <td>0</td>\n",
       "      <td>1</td>\n",
       "      <td>0</td>\n",
       "      <td>0</td>\n",
       "      <td>0</td>\n",
       "      <td>0</td>\n",
       "      <td>0</td>\n",
       "      <td>0</td>\n",
       "      <td>0</td>\n",
       "      <td>0</td>\n",
       "    </tr>\n",
       "    <tr>\n",
       "      <th>3</th>\n",
       "      <td>2019-11-29</td>\n",
       "      <td>0</td>\n",
       "      <td>160</td>\n",
       "      <td>762</td>\n",
       "      <td>0</td>\n",
       "      <td>13</td>\n",
       "      <td>1</td>\n",
       "      <td>3</td>\n",
       "      <td>6</td>\n",
       "      <td>0</td>\n",
       "      <td>...</td>\n",
       "      <td>0</td>\n",
       "      <td>1</td>\n",
       "      <td>0</td>\n",
       "      <td>0</td>\n",
       "      <td>0</td>\n",
       "      <td>0</td>\n",
       "      <td>0</td>\n",
       "      <td>0</td>\n",
       "      <td>0</td>\n",
       "      <td>0</td>\n",
       "    </tr>\n",
       "    <tr>\n",
       "      <th>4</th>\n",
       "      <td>2019-11-29</td>\n",
       "      <td>0</td>\n",
       "      <td>165</td>\n",
       "      <td>762</td>\n",
       "      <td>0</td>\n",
       "      <td>13</td>\n",
       "      <td>1</td>\n",
       "      <td>3</td>\n",
       "      <td>6</td>\n",
       "      <td>0</td>\n",
       "      <td>...</td>\n",
       "      <td>0</td>\n",
       "      <td>1</td>\n",
       "      <td>0</td>\n",
       "      <td>0</td>\n",
       "      <td>0</td>\n",
       "      <td>0</td>\n",
       "      <td>0</td>\n",
       "      <td>0</td>\n",
       "      <td>0</td>\n",
       "      <td>0</td>\n",
       "    </tr>\n",
       "  </tbody>\n",
       "</table>\n",
       "<p>5 rows × 225 columns</p>\n",
       "</div>"
      ],
      "text/plain": [
       "         Date  DEP_DEL15  CRS_ELAPSED_TIME  DISTANCE  Holiday  Carrier_cat  \\\n",
       "0  2019-11-29          0               170       762        0           13   \n",
       "1  2019-11-29          0               165       762        0           13   \n",
       "2  2019-11-29          0               170       762        0           13   \n",
       "3  2019-11-29          0               160       762        0           13   \n",
       "4  2019-11-29          0               165       762        0           13   \n",
       "\n",
       "   Origin_cat  Dest_cat  Dest_state_cat  Condition_cat  ...  Dest_state_is_WY  \\\n",
       "0           1         3               6              0  ...                 0   \n",
       "1           1         3               6              0  ...                 0   \n",
       "2           1         3               6              0  ...                 0   \n",
       "3           1         3               6              0  ...                 0   \n",
       "4           1         3               6              0  ...                 0   \n",
       "\n",
       "   Condition_is_Clear  Condition_is_Overcast  Condition_is_Partially cloudy  \\\n",
       "0                   1                      0                              0   \n",
       "1                   1                      0                              0   \n",
       "2                   1                      0                              0   \n",
       "3                   1                      0                              0   \n",
       "4                   1                      0                              0   \n",
       "\n",
       "   Condition_is_Rain  Condition_is_Rain, Overcast  \\\n",
       "0                  0                            0   \n",
       "1                  0                            0   \n",
       "2                  0                            0   \n",
       "3                  0                            0   \n",
       "4                  0                            0   \n",
       "\n",
       "   Condition_is_Rain, Partially cloudy  Condition_is_Snow  \\\n",
       "0                                    0                  0   \n",
       "1                                    0                  0   \n",
       "2                                    0                  0   \n",
       "3                                    0                  0   \n",
       "4                                    0                  0   \n",
       "\n",
       "   Condition_is_Snow, Overcast  Condition_is_Snow, Partially cloudy  \n",
       "0                            0                                    0  \n",
       "1                            0                                    0  \n",
       "2                            0                                    0  \n",
       "3                            0                                    0  \n",
       "4                            0                                    0  \n",
       "\n",
       "[5 rows x 225 columns]"
      ]
     },
     "execution_count": 55,
     "metadata": {},
     "output_type": "execute_result"
    }
   ],
   "source": [
    "# generate binary values using get_dummies\n",
    "initial_model_df['Month']= initial_model_df['MONTH']\n",
    "initial_model_df['Weekday']= initial_model_df['DAY_OF_WEEK']\n",
    "initial_model_df ['Hour']= initial_model_df['CRS_DEP_TIME'].astype(int)\n",
    "initial_model_df = pd.get_dummies(initial_model_df, columns=[\"MONTH\"], prefix=[\"Month_is\"] )\n",
    "initial_model_df = pd.get_dummies(initial_model_df, columns=[\"DAY_OF_WEEK\"], prefix=[\"Weekday_is\"] )\n",
    "initial_model_df = pd.get_dummies(initial_model_df, columns=[\"CRS_DEP_TIME\"], prefix=[\"Hour_is\"] )\n",
    "initial_model_df = pd.get_dummies(initial_model_df, columns=[\"OP_CARRIER\"], prefix=[\"Carrier_is\"] )\n",
    "initial_model_df = pd.get_dummies(initial_model_df, columns=[\"ORIGIN\"], prefix=[\"Origin_is\"] )\n",
    "initial_model_df = pd.get_dummies(initial_model_df, columns=[\"DEST\"], prefix=[\"Dest_is\"] )\n",
    "initial_model_df = pd.get_dummies(initial_model_df, columns=[\"DEST_STATE_ABR\"], prefix=[\"Dest_state_is\"] )\n",
    "initial_model_df = pd.get_dummies(initial_model_df, columns=[\"Conditions\"], prefix=[\"Condition_is\"] )\n",
    "initial_model_df.head()"
   ]
  },
  {
   "cell_type": "code",
   "execution_count": 56,
   "metadata": {
    "scrolled": true
   },
   "outputs": [
    {
     "data": {
      "text/html": [
       "<div>\n",
       "<style scoped>\n",
       "    .dataframe tbody tr th:only-of-type {\n",
       "        vertical-align: middle;\n",
       "    }\n",
       "\n",
       "    .dataframe tbody tr th {\n",
       "        vertical-align: top;\n",
       "    }\n",
       "\n",
       "    .dataframe thead th {\n",
       "        text-align: right;\n",
       "    }\n",
       "</style>\n",
       "<table border=\"1\" class=\"dataframe\">\n",
       "  <thead>\n",
       "    <tr style=\"text-align: right;\">\n",
       "      <th></th>\n",
       "      <th>CRS_ELAPSED_TIME</th>\n",
       "      <th>DISTANCE</th>\n",
       "      <th>Holiday</th>\n",
       "      <th>Carrier_cat</th>\n",
       "      <th>Origin_cat</th>\n",
       "      <th>Dest_cat</th>\n",
       "      <th>Dest_state_cat</th>\n",
       "      <th>Condition_cat</th>\n",
       "      <th>Month</th>\n",
       "      <th>Weekday</th>\n",
       "      <th>...</th>\n",
       "      <th>Condition_is_Clear</th>\n",
       "      <th>Condition_is_Overcast</th>\n",
       "      <th>Condition_is_Partially cloudy</th>\n",
       "      <th>Condition_is_Rain</th>\n",
       "      <th>Condition_is_Rain, Overcast</th>\n",
       "      <th>Condition_is_Rain, Partially cloudy</th>\n",
       "      <th>Condition_is_Snow</th>\n",
       "      <th>Condition_is_Snow, Overcast</th>\n",
       "      <th>Condition_is_Snow, Partially cloudy</th>\n",
       "      <th>Delay</th>\n",
       "    </tr>\n",
       "  </thead>\n",
       "  <tbody>\n",
       "    <tr>\n",
       "      <th>0</th>\n",
       "      <td>170</td>\n",
       "      <td>762</td>\n",
       "      <td>0</td>\n",
       "      <td>13</td>\n",
       "      <td>1</td>\n",
       "      <td>3</td>\n",
       "      <td>6</td>\n",
       "      <td>0</td>\n",
       "      <td>11</td>\n",
       "      <td>5</td>\n",
       "      <td>...</td>\n",
       "      <td>1</td>\n",
       "      <td>0</td>\n",
       "      <td>0</td>\n",
       "      <td>0</td>\n",
       "      <td>0</td>\n",
       "      <td>0</td>\n",
       "      <td>0</td>\n",
       "      <td>0</td>\n",
       "      <td>0</td>\n",
       "      <td>0</td>\n",
       "    </tr>\n",
       "    <tr>\n",
       "      <th>1</th>\n",
       "      <td>165</td>\n",
       "      <td>762</td>\n",
       "      <td>0</td>\n",
       "      <td>13</td>\n",
       "      <td>1</td>\n",
       "      <td>3</td>\n",
       "      <td>6</td>\n",
       "      <td>0</td>\n",
       "      <td>11</td>\n",
       "      <td>5</td>\n",
       "      <td>...</td>\n",
       "      <td>1</td>\n",
       "      <td>0</td>\n",
       "      <td>0</td>\n",
       "      <td>0</td>\n",
       "      <td>0</td>\n",
       "      <td>0</td>\n",
       "      <td>0</td>\n",
       "      <td>0</td>\n",
       "      <td>0</td>\n",
       "      <td>0</td>\n",
       "    </tr>\n",
       "    <tr>\n",
       "      <th>2</th>\n",
       "      <td>170</td>\n",
       "      <td>762</td>\n",
       "      <td>0</td>\n",
       "      <td>13</td>\n",
       "      <td>1</td>\n",
       "      <td>3</td>\n",
       "      <td>6</td>\n",
       "      <td>0</td>\n",
       "      <td>11</td>\n",
       "      <td>5</td>\n",
       "      <td>...</td>\n",
       "      <td>1</td>\n",
       "      <td>0</td>\n",
       "      <td>0</td>\n",
       "      <td>0</td>\n",
       "      <td>0</td>\n",
       "      <td>0</td>\n",
       "      <td>0</td>\n",
       "      <td>0</td>\n",
       "      <td>0</td>\n",
       "      <td>0</td>\n",
       "    </tr>\n",
       "    <tr>\n",
       "      <th>3</th>\n",
       "      <td>160</td>\n",
       "      <td>762</td>\n",
       "      <td>0</td>\n",
       "      <td>13</td>\n",
       "      <td>1</td>\n",
       "      <td>3</td>\n",
       "      <td>6</td>\n",
       "      <td>0</td>\n",
       "      <td>11</td>\n",
       "      <td>5</td>\n",
       "      <td>...</td>\n",
       "      <td>1</td>\n",
       "      <td>0</td>\n",
       "      <td>0</td>\n",
       "      <td>0</td>\n",
       "      <td>0</td>\n",
       "      <td>0</td>\n",
       "      <td>0</td>\n",
       "      <td>0</td>\n",
       "      <td>0</td>\n",
       "      <td>0</td>\n",
       "    </tr>\n",
       "    <tr>\n",
       "      <th>4</th>\n",
       "      <td>165</td>\n",
       "      <td>762</td>\n",
       "      <td>0</td>\n",
       "      <td>13</td>\n",
       "      <td>1</td>\n",
       "      <td>3</td>\n",
       "      <td>6</td>\n",
       "      <td>0</td>\n",
       "      <td>11</td>\n",
       "      <td>5</td>\n",
       "      <td>...</td>\n",
       "      <td>1</td>\n",
       "      <td>0</td>\n",
       "      <td>0</td>\n",
       "      <td>0</td>\n",
       "      <td>0</td>\n",
       "      <td>0</td>\n",
       "      <td>0</td>\n",
       "      <td>0</td>\n",
       "      <td>0</td>\n",
       "      <td>0</td>\n",
       "    </tr>\n",
       "  </tbody>\n",
       "</table>\n",
       "<p>5 rows × 224 columns</p>\n",
       "</div>"
      ],
      "text/plain": [
       "   CRS_ELAPSED_TIME  DISTANCE  Holiday  Carrier_cat  Origin_cat  Dest_cat  \\\n",
       "0               170       762        0           13           1         3   \n",
       "1               165       762        0           13           1         3   \n",
       "2               170       762        0           13           1         3   \n",
       "3               160       762        0           13           1         3   \n",
       "4               165       762        0           13           1         3   \n",
       "\n",
       "   Dest_state_cat  Condition_cat  Month  Weekday  ...  Condition_is_Clear  \\\n",
       "0               6              0     11        5  ...                   1   \n",
       "1               6              0     11        5  ...                   1   \n",
       "2               6              0     11        5  ...                   1   \n",
       "3               6              0     11        5  ...                   1   \n",
       "4               6              0     11        5  ...                   1   \n",
       "\n",
       "   Condition_is_Overcast  Condition_is_Partially cloudy  Condition_is_Rain  \\\n",
       "0                      0                              0                  0   \n",
       "1                      0                              0                  0   \n",
       "2                      0                              0                  0   \n",
       "3                      0                              0                  0   \n",
       "4                      0                              0                  0   \n",
       "\n",
       "   Condition_is_Rain, Overcast  Condition_is_Rain, Partially cloudy  \\\n",
       "0                            0                                    0   \n",
       "1                            0                                    0   \n",
       "2                            0                                    0   \n",
       "3                            0                                    0   \n",
       "4                            0                                    0   \n",
       "\n",
       "   Condition_is_Snow  Condition_is_Snow, Overcast  \\\n",
       "0                  0                            0   \n",
       "1                  0                            0   \n",
       "2                  0                            0   \n",
       "3                  0                            0   \n",
       "4                  0                            0   \n",
       "\n",
       "   Condition_is_Snow, Partially cloudy  Delay  \n",
       "0                                    0      0  \n",
       "1                                    0      0  \n",
       "2                                    0      0  \n",
       "3                                    0      0  \n",
       "4                                    0      0  \n",
       "\n",
       "[5 rows x 224 columns]"
      ]
     },
     "execution_count": 56,
     "metadata": {},
     "output_type": "execute_result"
    }
   ],
   "source": [
    "initial_model_df['Delay']= initial_model_df['DEP_DEL15']\n",
    "initial_model_df= initial_model_df.drop(['DEP_DEL15','Date'], axis = 1)\n",
    "initial_model_df.head()"
   ]
  },
  {
   "cell_type": "code",
   "execution_count": 57,
   "metadata": {},
   "outputs": [
    {
     "data": {
      "text/plain": [
       "(954255, 224)"
      ]
     },
     "execution_count": 57,
     "metadata": {},
     "output_type": "execute_result"
    }
   ],
   "source": [
    "initial_model_df.shape"
   ]
  },
  {
   "cell_type": "markdown",
   "metadata": {},
   "source": [
    "## i) XGBOOST"
   ]
  },
  {
   "cell_type": "code",
   "execution_count": 60,
   "metadata": {},
   "outputs": [],
   "source": [
    "model_df = initial_model_df"
   ]
  },
  {
   "cell_type": "code",
   "execution_count": 61,
   "metadata": {},
   "outputs": [],
   "source": [
    "# split data into X and Y\n",
    "X = model_df.drop(['Delay'], axis=1)\n",
    "Y = model_df['Delay']"
   ]
  },
  {
   "cell_type": "code",
   "execution_count": 62,
   "metadata": {},
   "outputs": [],
   "source": [
    "# split data into train and test sets\n",
    "seed = 30034\n",
    "test_size = 0.3\n",
    "X_train, X_test, y_train, y_test = train_test_split(X, Y, test_size=test_size, random_state=seed)"
   ]
  },
  {
   "cell_type": "code",
   "execution_count": 44,
   "metadata": {},
   "outputs": [
    {
     "data": {
      "text/plain": [
       "XGBClassifier(base_score=0.5, booster='gbtree', colsample_bylevel=1,\n",
       "              colsample_bynode=1, colsample_bytree=1, gamma=0, gpu_id=-1,\n",
       "              importance_type='gain', interaction_constraints='',\n",
       "              learning_rate=0.300000012, max_delta_step=0, max_depth=6,\n",
       "              min_child_weight=1, missing=nan, monotone_constraints='()',\n",
       "              n_estimators=100, n_jobs=0, num_parallel_tree=1,\n",
       "              objective='binary:logistic', random_state=0, reg_alpha=0,\n",
       "              reg_lambda=1, scale_pos_weight=1, subsample=1,\n",
       "              tree_method='exact', validate_parameters=1, verbosity=None)"
      ]
     },
     "execution_count": 44,
     "metadata": {},
     "output_type": "execute_result"
    }
   ],
   "source": [
    "# fit model to training data\n",
    "xgb_model = XGBClassifier()\n",
    "xgb_model.fit(X_train, y_train)"
   ]
  },
  {
   "cell_type": "code",
   "execution_count": 45,
   "metadata": {},
   "outputs": [],
   "source": [
    "# make predictions for test data\n",
    "y_pred = xgb_model.predict(X_test)\n",
    "predictions = [round(value) for value in y_pred]"
   ]
  },
  {
   "cell_type": "code",
   "execution_count": 46,
   "metadata": {},
   "outputs": [
    {
     "name": "stdout",
     "output_type": "stream",
     "text": [
      "Accuracy: 80.30%\n"
     ]
    }
   ],
   "source": [
    "# evaluate predictions\n",
    "accuracy = accuracy_score(y_test, predictions)\n",
    "print(\"Accuracy: %.2f%%\" % (accuracy * 100.0))"
   ]
  },
  {
   "cell_type": "code",
   "execution_count": 72,
   "metadata": {},
   "outputs": [
    {
     "name": "stdout",
     "output_type": "stream",
     "text": [
      "Accuracy: 80.30%\n",
      "AUC: 0.567247\n",
      "Precision: 0.628275\n",
      "Recall: 0.159737\n"
     ]
    }
   ],
   "source": [
    "# evaluate predictions\n",
    "accuracy = accuracy_score(y_test, predictions)\n",
    "print(\"Accuracy: %.2f%%\" % (accuracy * 100.0))\n",
    "auc= roc_auc_score(y_test,y_pred)\n",
    "print('AUC: %f' % auc)\n",
    "# precision tp / (tp + fp)\n",
    "precision = precision_score(y_test, y_pred)\n",
    "print('Precision: %f' % precision)\n",
    "# recall: tp / (tp + fn)\n",
    "recall = recall_score(y_test, y_pred)\n",
    "print('Recall: %f' % recall)"
   ]
  },
  {
   "cell_type": "code",
   "execution_count": 63,
   "metadata": {},
   "outputs": [
    {
     "data": {
      "text/plain": [
       "<matplotlib.axes._subplots.AxesSubplot at 0x20050cbd940>"
      ]
     },
     "execution_count": 63,
     "metadata": {},
     "output_type": "execute_result"
    },
    {
     "data": {
      "image/png": "[encoded data removed]",
      "text/plain": [
       "<Figure size 720x504 with 2 Axes>"
      ]
     },
     "metadata": {
      "needs_background": "light"
     },
     "output_type": "display_data"
    }
   ],
   "source": [
    "array= confusion_matrix(y_test, predictions)/ X_test.shape[0]\n",
    "cm_df = pd.DataFrame(array, index = ['True On Time', 'True Delay'],\n",
    "                  columns = ['Predict On Time', 'Predict Delay'])\n",
    "plt.figure(figsize = (10,7))\n",
    "sns.heatmap(cm_df, annot=True)"
   ]
  },
  {
   "cell_type": "code",
   "execution_count": 70,
   "metadata": {},
   "outputs": [
    {
     "data": {
      "text/plain": [
       "GridSearchCV(cv=5, error_score='raise-deprecating',\n",
       "             estimator=XGBClassifier(base_score=None, booster=None,\n",
       "                                     colsample_bylevel=None,\n",
       "                                     colsample_bynode=None,\n",
       "                                     colsample_bytree=None, gamma=None,\n",
       "                                     gpu_id=None, importance_type='gain',\n",
       "                                     interaction_constraints=None,\n",
       "                                     learning_rate=None, max_delta_step=None,\n",
       "                                     max_depth=None, min_child_weight=None,\n",
       "                                     missing=nan, monotone_constrai...\n",
       "                                     objective='binary:logistic',\n",
       "                                     random_state=None, reg_alpha=None,\n",
       "                                     reg_lambda=None, scale_pos_weight=None,\n",
       "                                     subsample=None, tree_method=None,\n",
       "                                     validate_parameters=None, verbosity=None),\n",
       "             iid=False, n_jobs=4,\n",
       "             param_grid={'max_depth': range(4, 10, 2),\n",
       "                         'n_estimators': range(50, 200, 50)},\n",
       "             pre_dispatch='2*n_jobs', refit=True, return_train_score=False,\n",
       "             scoring='roc_auc', verbose=0)"
      ]
     },
     "execution_count": 70,
     "metadata": {},
     "output_type": "execute_result"
    }
   ],
   "source": [
    "# tuning 'max_depth' and 'n_estimators'\n",
    "from sklearn.model_selection import GridSearchCV\n",
    "param_test1 = {\n",
    " 'max_depth':range(4,10,2),\n",
    " 'n_estimators':range(50,200,50)\n",
    "}\n",
    "gsearch1 = GridSearchCV(estimator = XGBClassifier(), \n",
    " param_grid = param_test1, scoring='roc_auc',n_jobs=4,iid=False, cv=5)\n",
    "gsearch1.fit(X_train, y_train)"
   ]
  },
  {
   "cell_type": "code",
   "execution_count": 71,
   "metadata": {},
   "outputs": [
    {
     "data": {
      "text/plain": [
       "({'max_depth': 8, 'n_estimators': 150}, 0.7406911776052666)"
      ]
     },
     "execution_count": 71,
     "metadata": {},
     "output_type": "execute_result"
    }
   ],
   "source": [
    "gsearch1.best_params_, gsearch1.best_score_"
   ]
  },
  {
   "cell_type": "code",
   "execution_count": 75,
   "metadata": {},
   "outputs": [
    {
     "data": {
      "text/plain": [
       "GridSearchCV(cv=5, error_score='raise-deprecating',\n",
       "             estimator=XGBClassifier(base_score=None, booster=None,\n",
       "                                     colsample_bylevel=None,\n",
       "                                     colsample_bynode=None,\n",
       "                                     colsample_bytree=None, gamma=None,\n",
       "                                     gpu_id=None, importance_type='gain',\n",
       "                                     interaction_constraints=None,\n",
       "                                     learning_rate=None, max_delta_step=None,\n",
       "                                     max_depth=8, min_child_weight=None,\n",
       "                                     missing=nan, monotone_constraints...\n",
       "                                     n_estimators=150, n_jobs=None,\n",
       "                                     num_parallel_tree=None,\n",
       "                                     objective='binary:logistic',\n",
       "                                     random_state=None, reg_alpha=None,\n",
       "                                     reg_lambda=None, scale_pos_weight=None,\n",
       "                                     subsample=None, tree_method=None,\n",
       "                                     validate_parameters=None, verbosity=None),\n",
       "             iid=False, n_jobs=4,\n",
       "             param_grid={'gamma': [0.0, 0.1, 0.2, 0.3, 0.4]},\n",
       "             pre_dispatch='2*n_jobs', refit=True, return_train_score=False,\n",
       "             scoring='roc_auc', verbose=0)"
      ]
     },
     "execution_count": 75,
     "metadata": {},
     "output_type": "execute_result"
    }
   ],
   "source": [
    "# tuning gamma\n",
    "param_test2 = {\n",
    " 'gamma':[i/10.0 for i in range(0,5)]\n",
    "}\n",
    "gsearch2 = GridSearchCV(estimator = XGBClassifier(max_depth= 8, n_estimators= 150), \n",
    " param_grid = param_test2, scoring='roc_auc',n_jobs=4,iid=False, cv=5)\n",
    "gsearch2.fit(X_train, y_train)"
   ]
  },
  {
   "cell_type": "code",
   "execution_count": 76,
   "metadata": {},
   "outputs": [
    {
     "data": {
      "text/plain": [
       "({'gamma': 0.0}, 0.7406911776052666)"
      ]
     },
     "execution_count": 76,
     "metadata": {},
     "output_type": "execute_result"
    }
   ],
   "source": [
    "gsearch2.best_params_, gsearch2.best_score_"
   ]
  },
  {
   "cell_type": "code",
   "execution_count": 73,
   "metadata": {},
   "outputs": [],
   "source": [
    "# fit best parameters\n",
    "xgb_model_tuning1 = XGBClassifier(max_depth= 8, n_estimators= 150)\n",
    "xgb_model_tuning1.fit(X_train, y_train)\n",
    "y_pred = xgb_model_tuning1.predict(X_test)\n",
    "predictions = [round(value) for value in y_pred]"
   ]
  },
  {
   "cell_type": "code",
   "execution_count": 74,
   "metadata": {},
   "outputs": [
    {
     "name": "stdout",
     "output_type": "stream",
     "text": [
      "Accuracy: 80.60%\n",
      "AUC: 0.582740\n",
      "Precision: 0.626987\n",
      "Recall: 0.196742\n"
     ]
    }
   ],
   "source": [
    "# evaluate predictions\n",
    "accuracy = accuracy_score(y_test, predictions)\n",
    "print(\"Accuracy: %.2f%%\" % (accuracy * 100.0))\n",
    "auc= roc_auc_score(y_test,y_pred)\n",
    "print('AUC: %f' % auc)\n",
    "# precision tp / (tp + fp)\n",
    "precision = precision_score(y_test, y_pred)\n",
    "print('Precision: %f' % precision)\n",
    "# recall: tp / (tp + fn)\n",
    "recall = recall_score(y_test, y_pred)\n",
    "print('Recall: %f' % recall)"
   ]
  },
  {
   "cell_type": "code",
   "execution_count": 83,
   "metadata": {},
   "outputs": [
    {
     "name": "stdout",
     "output_type": "stream",
     "text": [
      "Accuracy: 81.74%\n",
      "AUC: 0.599382\n",
      "Precision: 0.708971\n",
      "Recall: 0.223160\n"
     ]
    }
   ],
   "source": [
    "# check over-fitting\n",
    "X_pred = xgb_model_tuning1.predict(X_train)\n",
    "predictions = [round(value) for value in X_pred]\n",
    "# evaluate predictions\n",
    "accuracy = accuracy_score(y_train, predictions)\n",
    "print(\"Accuracy: %.2f%%\" % (accuracy * 100.0))\n",
    "auc= roc_auc_score(y_train,X_pred)\n",
    "print('AUC: %f' % auc)\n",
    "# precision tp / (tp + fp)\n",
    "precision = precision_score(y_train, X_pred)\n",
    "print('Precision: %f' % precision)\n",
    "# recall: tp / (tp + fn)\n",
    "recall = recall_score(y_train, X_pred)\n",
    "print('Recall: %f' % recall)"
   ]
  },
  {
   "cell_type": "code",
   "execution_count": 86,
   "metadata": {},
   "outputs": [
    {
     "name": "stdout",
     "output_type": "stream",
     "text": [
      "[0]\tvalidation_0-auc:0.70561\tvalidation_0-error:0.20525\tvalidation_1-auc:0.70236\tvalidation_1-error:0.20702\n",
      "[1]\tvalidation_0-auc:0.71079\tvalidation_0-error:0.20327\tvalidation_1-auc:0.70769\tvalidation_1-error:0.20466\n",
      "[2]\tvalidation_0-auc:0.71601\tvalidation_0-error:0.20186\tvalidation_1-auc:0.71221\tvalidation_1-error:0.20312\n",
      "[3]\tvalidation_0-auc:0.71904\tvalidation_0-error:0.20152\tvalidation_1-auc:0.71478\tvalidation_1-error:0.20261\n",
      "[4]\tvalidation_0-auc:0.72131\tvalidation_0-error:0.20113\tvalidation_1-auc:0.71660\tvalidation_1-error:0.20203\n",
      "[5]\tvalidation_0-auc:0.72357\tvalidation_0-error:0.20083\tvalidation_1-auc:0.71814\tvalidation_1-error:0.20180\n",
      "[6]\tvalidation_0-auc:0.72588\tvalidation_0-error:0.20008\tvalidation_1-auc:0.71963\tvalidation_1-error:0.20141\n",
      "[7]\tvalidation_0-auc:0.72774\tvalidation_0-error:0.19967\tvalidation_1-auc:0.72108\tvalidation_1-error:0.20107\n",
      "[8]\tvalidation_0-auc:0.73053\tvalidation_0-error:0.19852\tvalidation_1-auc:0.72317\tvalidation_1-error:0.20006\n",
      "[9]\tvalidation_0-auc:0.73220\tvalidation_0-error:0.19819\tvalidation_1-auc:0.72426\tvalidation_1-error:0.19993\n",
      "[10]\tvalidation_0-auc:0.73394\tvalidation_0-error:0.19807\tvalidation_1-auc:0.72534\tvalidation_1-error:0.19988\n",
      "[11]\tvalidation_0-auc:0.73602\tvalidation_0-error:0.19706\tvalidation_1-auc:0.72689\tvalidation_1-error:0.19912\n",
      "[12]\tvalidation_0-auc:0.73718\tvalidation_0-error:0.19676\tvalidation_1-auc:0.72752\tvalidation_1-error:0.19882\n",
      "[13]\tvalidation_0-auc:0.73895\tvalidation_0-error:0.19609\tvalidation_1-auc:0.72906\tvalidation_1-error:0.19833\n",
      "[14]\tvalidation_0-auc:0.74071\tvalidation_0-error:0.19559\tvalidation_1-auc:0.73028\tvalidation_1-error:0.19811\n",
      "[15]\tvalidation_0-auc:0.74194\tvalidation_0-error:0.19544\tvalidation_1-auc:0.73088\tvalidation_1-error:0.19789\n",
      "[16]\tvalidation_0-auc:0.74371\tvalidation_0-error:0.19496\tvalidation_1-auc:0.73196\tvalidation_1-error:0.19761\n",
      "[17]\tvalidation_0-auc:0.74452\tvalidation_0-error:0.19456\tvalidation_1-auc:0.73238\tvalidation_1-error:0.19745\n",
      "[18]\tvalidation_0-auc:0.74512\tvalidation_0-error:0.19449\tvalidation_1-auc:0.73258\tvalidation_1-error:0.19755\n",
      "[19]\tvalidation_0-auc:0.74673\tvalidation_0-error:0.19420\tvalidation_1-auc:0.73368\tvalidation_1-error:0.19737\n",
      "[20]\tvalidation_0-auc:0.74740\tvalidation_0-error:0.19392\tvalidation_1-auc:0.73399\tvalidation_1-error:0.19718\n",
      "[21]\tvalidation_0-auc:0.74798\tvalidation_0-error:0.19379\tvalidation_1-auc:0.73422\tvalidation_1-error:0.19728\n",
      "[22]\tvalidation_0-auc:0.74920\tvalidation_0-error:0.19342\tvalidation_1-auc:0.73492\tvalidation_1-error:0.19686\n",
      "[23]\tvalidation_0-auc:0.74982\tvalidation_0-error:0.19330\tvalidation_1-auc:0.73514\tvalidation_1-error:0.19679\n",
      "[24]\tvalidation_0-auc:0.75070\tvalidation_0-error:0.19306\tvalidation_1-auc:0.73572\tvalidation_1-error:0.19661\n",
      "[25]\tvalidation_0-auc:0.75120\tvalidation_0-error:0.19297\tvalidation_1-auc:0.73584\tvalidation_1-error:0.19657\n",
      "[26]\tvalidation_0-auc:0.75157\tvalidation_0-error:0.19281\tvalidation_1-auc:0.73589\tvalidation_1-error:0.19649\n",
      "[27]\tvalidation_0-auc:0.75290\tvalidation_0-error:0.19250\tvalidation_1-auc:0.73653\tvalidation_1-error:0.19633\n",
      "[28]\tvalidation_0-auc:0.75316\tvalidation_0-error:0.19246\tvalidation_1-auc:0.73658\tvalidation_1-error:0.19630\n",
      "[29]\tvalidation_0-auc:0.75344\tvalidation_0-error:0.19240\tvalidation_1-auc:0.73652\tvalidation_1-error:0.19625\n",
      "[30]\tvalidation_0-auc:0.75403\tvalidation_0-error:0.19233\tvalidation_1-auc:0.73674\tvalidation_1-error:0.19612\n",
      "[31]\tvalidation_0-auc:0.75504\tvalidation_0-error:0.19183\tvalidation_1-auc:0.73732\tvalidation_1-error:0.19579\n",
      "[32]\tvalidation_0-auc:0.75552\tvalidation_0-error:0.19166\tvalidation_1-auc:0.73755\tvalidation_1-error:0.19585\n",
      "[33]\tvalidation_0-auc:0.75588\tvalidation_0-error:0.19159\tvalidation_1-auc:0.73769\tvalidation_1-error:0.19582\n",
      "[34]\tvalidation_0-auc:0.75625\tvalidation_0-error:0.19153\tvalidation_1-auc:0.73788\tvalidation_1-error:0.19583\n",
      "[35]\tvalidation_0-auc:0.75692\tvalidation_0-error:0.19136\tvalidation_1-auc:0.73806\tvalidation_1-error:0.19572\n",
      "[36]\tvalidation_0-auc:0.75714\tvalidation_0-error:0.19131\tvalidation_1-auc:0.73818\tvalidation_1-error:0.19565\n",
      "[37]\tvalidation_0-auc:0.75768\tvalidation_0-error:0.19106\tvalidation_1-auc:0.73839\tvalidation_1-error:0.19567\n",
      "[38]\tvalidation_0-auc:0.75789\tvalidation_0-error:0.19100\tvalidation_1-auc:0.73842\tvalidation_1-error:0.19565\n",
      "[39]\tvalidation_0-auc:0.75800\tvalidation_0-error:0.19091\tvalidation_1-auc:0.73840\tvalidation_1-error:0.19556\n",
      "[40]\tvalidation_0-auc:0.75826\tvalidation_0-error:0.19087\tvalidation_1-auc:0.73845\tvalidation_1-error:0.19559\n",
      "[41]\tvalidation_0-auc:0.75860\tvalidation_0-error:0.19077\tvalidation_1-auc:0.73851\tvalidation_1-error:0.19548\n",
      "[42]\tvalidation_0-auc:0.75899\tvalidation_0-error:0.19061\tvalidation_1-auc:0.73868\tvalidation_1-error:0.19545\n",
      "[43]\tvalidation_0-auc:0.75937\tvalidation_0-error:0.19046\tvalidation_1-auc:0.73873\tvalidation_1-error:0.19539\n",
      "[44]\tvalidation_0-auc:0.75951\tvalidation_0-error:0.19043\tvalidation_1-auc:0.73872\tvalidation_1-error:0.19540\n",
      "[45]\tvalidation_0-auc:0.76012\tvalidation_0-error:0.19025\tvalidation_1-auc:0.73899\tvalidation_1-error:0.19539\n",
      "[46]\tvalidation_0-auc:0.76047\tvalidation_0-error:0.19018\tvalidation_1-auc:0.73909\tvalidation_1-error:0.19531\n",
      "[47]\tvalidation_0-auc:0.76100\tvalidation_0-error:0.19008\tvalidation_1-auc:0.73915\tvalidation_1-error:0.19534\n",
      "[48]\tvalidation_0-auc:0.76134\tvalidation_0-error:0.18999\tvalidation_1-auc:0.73913\tvalidation_1-error:0.19535\n",
      "[49]\tvalidation_0-auc:0.76184\tvalidation_0-error:0.18992\tvalidation_1-auc:0.73918\tvalidation_1-error:0.19534\n",
      "[50]\tvalidation_0-auc:0.76191\tvalidation_0-error:0.18992\tvalidation_1-auc:0.73916\tvalidation_1-error:0.19534\n",
      "[51]\tvalidation_0-auc:0.76206\tvalidation_0-error:0.18984\tvalidation_1-auc:0.73921\tvalidation_1-error:0.19529\n",
      "[52]\tvalidation_0-auc:0.76292\tvalidation_0-error:0.18963\tvalidation_1-auc:0.73960\tvalidation_1-error:0.19522\n",
      "[53]\tvalidation_0-auc:0.76387\tvalidation_0-error:0.18941\tvalidation_1-auc:0.74000\tvalidation_1-error:0.19512\n",
      "[54]\tvalidation_0-auc:0.76411\tvalidation_0-error:0.18933\tvalidation_1-auc:0.73999\tvalidation_1-error:0.19515\n",
      "[55]\tvalidation_0-auc:0.76418\tvalidation_0-error:0.18933\tvalidation_1-auc:0.73998\tvalidation_1-error:0.19517\n",
      "[56]\tvalidation_0-auc:0.76442\tvalidation_0-error:0.18929\tvalidation_1-auc:0.74006\tvalidation_1-error:0.19506\n",
      "[57]\tvalidation_0-auc:0.76459\tvalidation_0-error:0.18931\tvalidation_1-auc:0.74008\tvalidation_1-error:0.19506\n",
      "[58]\tvalidation_0-auc:0.76462\tvalidation_0-error:0.18929\tvalidation_1-auc:0.74006\tvalidation_1-error:0.19506\n",
      "[59]\tvalidation_0-auc:0.76477\tvalidation_0-error:0.18920\tvalidation_1-auc:0.74008\tvalidation_1-error:0.19508\n",
      "[60]\tvalidation_0-auc:0.76512\tvalidation_0-error:0.18908\tvalidation_1-auc:0.74009\tvalidation_1-error:0.19511\n",
      "[61]\tvalidation_0-auc:0.76576\tvalidation_0-error:0.18885\tvalidation_1-auc:0.74035\tvalidation_1-error:0.19496\n",
      "[62]\tvalidation_0-auc:0.76604\tvalidation_0-error:0.18873\tvalidation_1-auc:0.74041\tvalidation_1-error:0.19497\n",
      "[63]\tvalidation_0-auc:0.76649\tvalidation_0-error:0.18868\tvalidation_1-auc:0.74045\tvalidation_1-error:0.19498\n",
      "[64]\tvalidation_0-auc:0.76663\tvalidation_0-error:0.18863\tvalidation_1-auc:0.74052\tvalidation_1-error:0.19496\n",
      "[65]\tvalidation_0-auc:0.76696\tvalidation_0-error:0.18863\tvalidation_1-auc:0.74054\tvalidation_1-error:0.19496\n",
      "[66]\tvalidation_0-auc:0.76706\tvalidation_0-error:0.18860\tvalidation_1-auc:0.74051\tvalidation_1-error:0.19496\n",
      "[67]\tvalidation_0-auc:0.76741\tvalidation_0-error:0.18847\tvalidation_1-auc:0.74053\tvalidation_1-error:0.19497\n",
      "[68]\tvalidation_0-auc:0.76771\tvalidation_0-error:0.18845\tvalidation_1-auc:0.74050\tvalidation_1-error:0.19502\n",
      "[69]\tvalidation_0-auc:0.76783\tvalidation_0-error:0.18839\tvalidation_1-auc:0.74046\tvalidation_1-error:0.19502\n",
      "[70]\tvalidation_0-auc:0.76822\tvalidation_0-error:0.18836\tvalidation_1-auc:0.74044\tvalidation_1-error:0.19504\n",
      "[71]\tvalidation_0-auc:0.76874\tvalidation_0-error:0.18828\tvalidation_1-auc:0.74043\tvalidation_1-error:0.19502\n",
      "[72]\tvalidation_0-auc:0.76928\tvalidation_0-error:0.18818\tvalidation_1-auc:0.74051\tvalidation_1-error:0.19503\n",
      "[73]\tvalidation_0-auc:0.76939\tvalidation_0-error:0.18816\tvalidation_1-auc:0.74052\tvalidation_1-error:0.19506\n",
      "[74]\tvalidation_0-auc:0.76949\tvalidation_0-error:0.18813\tvalidation_1-auc:0.74053\tvalidation_1-error:0.19505\n",
      "[75]\tvalidation_0-auc:0.76983\tvalidation_0-error:0.18803\tvalidation_1-auc:0.74055\tvalidation_1-error:0.19503\n"
     ]
    },
    {
     "name": "stdout",
     "output_type": "stream",
     "text": [
      "[76]\tvalidation_0-auc:0.77011\tvalidation_0-error:0.18797\tvalidation_1-auc:0.74062\tvalidation_1-error:0.19493\n",
      "[77]\tvalidation_0-auc:0.77038\tvalidation_0-error:0.18795\tvalidation_1-auc:0.74053\tvalidation_1-error:0.19492\n",
      "[78]\tvalidation_0-auc:0.77063\tvalidation_0-error:0.18788\tvalidation_1-auc:0.74056\tvalidation_1-error:0.19488\n",
      "[79]\tvalidation_0-auc:0.77072\tvalidation_0-error:0.18788\tvalidation_1-auc:0.74059\tvalidation_1-error:0.19482\n",
      "[80]\tvalidation_0-auc:0.77125\tvalidation_0-error:0.18776\tvalidation_1-auc:0.74082\tvalidation_1-error:0.19483\n",
      "[81]\tvalidation_0-auc:0.77203\tvalidation_0-error:0.18751\tvalidation_1-auc:0.74110\tvalidation_1-error:0.19473\n",
      "[82]\tvalidation_0-auc:0.77256\tvalidation_0-error:0.18737\tvalidation_1-auc:0.74120\tvalidation_1-error:0.19463\n",
      "[83]\tvalidation_0-auc:0.77281\tvalidation_0-error:0.18729\tvalidation_1-auc:0.74123\tvalidation_1-error:0.19465\n",
      "[84]\tvalidation_0-auc:0.77324\tvalidation_0-error:0.18721\tvalidation_1-auc:0.74127\tvalidation_1-error:0.19457\n",
      "[85]\tvalidation_0-auc:0.77361\tvalidation_0-error:0.18711\tvalidation_1-auc:0.74132\tvalidation_1-error:0.19454\n",
      "[86]\tvalidation_0-auc:0.77384\tvalidation_0-error:0.18707\tvalidation_1-auc:0.74129\tvalidation_1-error:0.19463\n",
      "[87]\tvalidation_0-auc:0.77413\tvalidation_0-error:0.18692\tvalidation_1-auc:0.74137\tvalidation_1-error:0.19464\n",
      "[88]\tvalidation_0-auc:0.77441\tvalidation_0-error:0.18683\tvalidation_1-auc:0.74139\tvalidation_1-error:0.19469\n",
      "[89]\tvalidation_0-auc:0.77446\tvalidation_0-error:0.18679\tvalidation_1-auc:0.74137\tvalidation_1-error:0.19470\n",
      "[90]\tvalidation_0-auc:0.77473\tvalidation_0-error:0.18673\tvalidation_1-auc:0.74138\tvalidation_1-error:0.19462\n",
      "[91]\tvalidation_0-auc:0.77484\tvalidation_0-error:0.18667\tvalidation_1-auc:0.74138\tvalidation_1-error:0.19458\n",
      "[92]\tvalidation_0-auc:0.77526\tvalidation_0-error:0.18654\tvalidation_1-auc:0.74153\tvalidation_1-error:0.19453\n",
      "[93]\tvalidation_0-auc:0.77585\tvalidation_0-error:0.18637\tvalidation_1-auc:0.74167\tvalidation_1-error:0.19455\n",
      "[94]\tvalidation_0-auc:0.77622\tvalidation_0-error:0.18627\tvalidation_1-auc:0.74158\tvalidation_1-error:0.19454\n",
      "[95]\tvalidation_0-auc:0.77643\tvalidation_0-error:0.18626\tvalidation_1-auc:0.74157\tvalidation_1-error:0.19457\n",
      "[96]\tvalidation_0-auc:0.77651\tvalidation_0-error:0.18624\tvalidation_1-auc:0.74155\tvalidation_1-error:0.19456\n",
      "[97]\tvalidation_0-auc:0.77664\tvalidation_0-error:0.18616\tvalidation_1-auc:0.74158\tvalidation_1-error:0.19455\n",
      "[98]\tvalidation_0-auc:0.77676\tvalidation_0-error:0.18612\tvalidation_1-auc:0.74156\tvalidation_1-error:0.19454\n",
      "[99]\tvalidation_0-auc:0.77715\tvalidation_0-error:0.18606\tvalidation_1-auc:0.74164\tvalidation_1-error:0.19449\n",
      "[100]\tvalidation_0-auc:0.77764\tvalidation_0-error:0.18601\tvalidation_1-auc:0.74167\tvalidation_1-error:0.19449\n",
      "[101]\tvalidation_0-auc:0.77787\tvalidation_0-error:0.18595\tvalidation_1-auc:0.74167\tvalidation_1-error:0.19448\n",
      "[102]\tvalidation_0-auc:0.77817\tvalidation_0-error:0.18588\tvalidation_1-auc:0.74162\tvalidation_1-error:0.19445\n",
      "[103]\tvalidation_0-auc:0.77843\tvalidation_0-error:0.18578\tvalidation_1-auc:0.74159\tvalidation_1-error:0.19445\n",
      "[104]\tvalidation_0-auc:0.77850\tvalidation_0-error:0.18577\tvalidation_1-auc:0.74159\tvalidation_1-error:0.19444\n",
      "[105]\tvalidation_0-auc:0.77873\tvalidation_0-error:0.18577\tvalidation_1-auc:0.74157\tvalidation_1-error:0.19441\n",
      "[106]\tvalidation_0-auc:0.77884\tvalidation_0-error:0.18577\tvalidation_1-auc:0.74155\tvalidation_1-error:0.19442\n",
      "[107]\tvalidation_0-auc:0.77911\tvalidation_0-error:0.18568\tvalidation_1-auc:0.74154\tvalidation_1-error:0.19449\n",
      "[108]\tvalidation_0-auc:0.77946\tvalidation_0-error:0.18562\tvalidation_1-auc:0.74154\tvalidation_1-error:0.19449\n",
      "[109]\tvalidation_0-auc:0.77974\tvalidation_0-error:0.18552\tvalidation_1-auc:0.74147\tvalidation_1-error:0.19448\n",
      "[110]\tvalidation_0-auc:0.77998\tvalidation_0-error:0.18546\tvalidation_1-auc:0.74144\tvalidation_1-error:0.19445\n",
      "[111]\tvalidation_0-auc:0.78008\tvalidation_0-error:0.18541\tvalidation_1-auc:0.74145\tvalidation_1-error:0.19445\n",
      "[112]\tvalidation_0-auc:0.78032\tvalidation_0-error:0.18542\tvalidation_1-auc:0.74148\tvalidation_1-error:0.19439\n",
      "[113]\tvalidation_0-auc:0.78037\tvalidation_0-error:0.18541\tvalidation_1-auc:0.74147\tvalidation_1-error:0.19439\n",
      "[114]\tvalidation_0-auc:0.78044\tvalidation_0-error:0.18536\tvalidation_1-auc:0.74147\tvalidation_1-error:0.19445\n",
      "[115]\tvalidation_0-auc:0.78072\tvalidation_0-error:0.18529\tvalidation_1-auc:0.74159\tvalidation_1-error:0.19436\n",
      "[116]\tvalidation_0-auc:0.78092\tvalidation_0-error:0.18516\tvalidation_1-auc:0.74160\tvalidation_1-error:0.19441\n",
      "[117]\tvalidation_0-auc:0.78130\tvalidation_0-error:0.18506\tvalidation_1-auc:0.74167\tvalidation_1-error:0.19438\n",
      "[118]\tvalidation_0-auc:0.78158\tvalidation_0-error:0.18504\tvalidation_1-auc:0.74166\tvalidation_1-error:0.19441\n",
      "[119]\tvalidation_0-auc:0.78219\tvalidation_0-error:0.18484\tvalidation_1-auc:0.74198\tvalidation_1-error:0.19440\n",
      "[120]\tvalidation_0-auc:0.78251\tvalidation_0-error:0.18472\tvalidation_1-auc:0.74197\tvalidation_1-error:0.19436\n",
      "[121]\tvalidation_0-auc:0.78298\tvalidation_0-error:0.18460\tvalidation_1-auc:0.74200\tvalidation_1-error:0.19448\n",
      "[122]\tvalidation_0-auc:0.78339\tvalidation_0-error:0.18448\tvalidation_1-auc:0.74220\tvalidation_1-error:0.19436\n",
      "[123]\tvalidation_0-auc:0.78364\tvalidation_0-error:0.18444\tvalidation_1-auc:0.74219\tvalidation_1-error:0.19435\n",
      "[124]\tvalidation_0-auc:0.78394\tvalidation_0-error:0.18431\tvalidation_1-auc:0.74218\tvalidation_1-error:0.19433\n",
      "[125]\tvalidation_0-auc:0.78414\tvalidation_0-error:0.18426\tvalidation_1-auc:0.74219\tvalidation_1-error:0.19428\n",
      "[126]\tvalidation_0-auc:0.78437\tvalidation_0-error:0.18411\tvalidation_1-auc:0.74219\tvalidation_1-error:0.19422\n",
      "[127]\tvalidation_0-auc:0.78461\tvalidation_0-error:0.18404\tvalidation_1-auc:0.74221\tvalidation_1-error:0.19421\n",
      "[128]\tvalidation_0-auc:0.78473\tvalidation_0-error:0.18397\tvalidation_1-auc:0.74220\tvalidation_1-error:0.19425\n",
      "[129]\tvalidation_0-auc:0.78508\tvalidation_0-error:0.18389\tvalidation_1-auc:0.74225\tvalidation_1-error:0.19417\n",
      "[130]\tvalidation_0-auc:0.78537\tvalidation_0-error:0.18388\tvalidation_1-auc:0.74227\tvalidation_1-error:0.19421\n",
      "[131]\tvalidation_0-auc:0.78549\tvalidation_0-error:0.18384\tvalidation_1-auc:0.74225\tvalidation_1-error:0.19416\n",
      "[132]\tvalidation_0-auc:0.78563\tvalidation_0-error:0.18381\tvalidation_1-auc:0.74225\tvalidation_1-error:0.19417\n",
      "[133]\tvalidation_0-auc:0.78579\tvalidation_0-error:0.18370\tvalidation_1-auc:0.74226\tvalidation_1-error:0.19413\n",
      "[134]\tvalidation_0-auc:0.78587\tvalidation_0-error:0.18367\tvalidation_1-auc:0.74227\tvalidation_1-error:0.19415\n",
      "[135]\tvalidation_0-auc:0.78598\tvalidation_0-error:0.18364\tvalidation_1-auc:0.74223\tvalidation_1-error:0.19417\n",
      "[136]\tvalidation_0-auc:0.78621\tvalidation_0-error:0.18358\tvalidation_1-auc:0.74224\tvalidation_1-error:0.19425\n",
      "[137]\tvalidation_0-auc:0.78639\tvalidation_0-error:0.18357\tvalidation_1-auc:0.74221\tvalidation_1-error:0.19425\n",
      "[138]\tvalidation_0-auc:0.78667\tvalidation_0-error:0.18352\tvalidation_1-auc:0.74223\tvalidation_1-error:0.19415\n",
      "[139]\tvalidation_0-auc:0.78709\tvalidation_0-error:0.18331\tvalidation_1-auc:0.74224\tvalidation_1-error:0.19412\n",
      "[140]\tvalidation_0-auc:0.78734\tvalidation_0-error:0.18328\tvalidation_1-auc:0.74228\tvalidation_1-error:0.19413\n",
      "[141]\tvalidation_0-auc:0.78749\tvalidation_0-error:0.18321\tvalidation_1-auc:0.74228\tvalidation_1-error:0.19414\n",
      "[142]\tvalidation_0-auc:0.78777\tvalidation_0-error:0.18314\tvalidation_1-auc:0.74232\tvalidation_1-error:0.19411\n",
      "[143]\tvalidation_0-auc:0.78785\tvalidation_0-error:0.18310\tvalidation_1-auc:0.74231\tvalidation_1-error:0.19413\n",
      "[144]\tvalidation_0-auc:0.78798\tvalidation_0-error:0.18304\tvalidation_1-auc:0.74232\tvalidation_1-error:0.19410\n",
      "[145]\tvalidation_0-auc:0.78833\tvalidation_0-error:0.18297\tvalidation_1-auc:0.74234\tvalidation_1-error:0.19411\n",
      "[146]\tvalidation_0-auc:0.78854\tvalidation_0-error:0.18284\tvalidation_1-auc:0.74236\tvalidation_1-error:0.19417\n",
      "[147]\tvalidation_0-auc:0.78888\tvalidation_0-error:0.18279\tvalidation_1-auc:0.74242\tvalidation_1-error:0.19410\n",
      "[148]\tvalidation_0-auc:0.78900\tvalidation_0-error:0.18274\tvalidation_1-auc:0.74243\tvalidation_1-error:0.19407\n",
      "[149]\tvalidation_0-auc:0.78937\tvalidation_0-error:0.18264\tvalidation_1-auc:0.74250\tvalidation_1-error:0.19399\n"
     ]
    }
   ],
   "source": [
    "# check trade-off between iterations and performance\n",
    "eval_set = [(X_train, y_train), (X_test, y_test)]\n",
    "xgb_model_tuning1 = XGBClassifier(max_depth= 8, n_estimators= 150)\n",
    "xgb_model_tuning1.fit(X_train, y_train, eval_metric=[\"auc\",\"error\"], eval_set=eval_set, verbose=True)\n",
    "# make predictions for test data\n",
    "y_pred = xgb_model_tuning1.predict(X_test)\n",
    "predictions = [round(value) for value in y_pred]\n",
    "\n",
    "# retrieve performance metrics\n",
    "results = xgb_model_tuning1.evals_result()"
   ]
  },
  {
   "cell_type": "code",
   "execution_count": 90,
   "metadata": {
    "scrolled": true
   },
   "outputs": [
    {
     "data": {
      "image/png": "[encoded data removed]",
      "text/plain": [
       "<Figure size 432x288 with 1 Axes>"
      ]
     },
     "metadata": {
      "needs_background": "light"
     },
     "output_type": "display_data"
    },
    {
     "data": {
      "image/png": "[encoded data removed]",
      "text/plain": [
       "<Figure size 432x288 with 1 Axes>"
      ]
     },
     "metadata": {
      "needs_background": "light"
     },
     "output_type": "display_data"
    }
   ],
   "source": [
    "epochs = len(results['validation_0']['auc'])\n",
    "x_axis = range(0, epochs)\n",
    "# plot auc\n",
    "fig, ax = plt.subplots()\n",
    "ax.plot(x_axis, results['validation_0']['auc'], label='Train')\n",
    "ax.plot(x_axis, results['validation_1']['auc'], label='Test')\n",
    "ax.legend()\n",
    "plt.ylabel('AUC')\n",
    "plt.title('XGBoost AUC')\n",
    "plt.show()\n",
    "# plot classification error\n",
    "fig, ax = plt.subplots()\n",
    "ax.plot(x_axis, results['validation_0']['error'], label='Train')\n",
    "ax.plot(x_axis, results['validation_1']['error'], label='Test')\n",
    "ax.legend()\n",
    "plt.ylabel('Classification Error')\n",
    "plt.title('XGBoost Classification Error')\n",
    "plt.show()"
   ]
  },
  {
   "cell_type": "code",
   "execution_count": 94,
   "metadata": {},
   "outputs": [
    {
     "data": {
      "text/plain": [
       "GridSearchCV(cv=5, error_score='raise-deprecating',\n",
       "             estimator=XGBClassifier(base_score=None, booster=None,\n",
       "                                     colsample_bylevel=None,\n",
       "                                     colsample_bynode=None,\n",
       "                                     colsample_bytree=None, gamma=None,\n",
       "                                     gpu_id=None, importance_type='gain',\n",
       "                                     interaction_constraints=None,\n",
       "                                     learning_rate=None, max_delta_step=None,\n",
       "                                     max_depth=8, min_child_weight=None,\n",
       "                                     missing=nan, monotone_constraints...\n",
       "                                     num_parallel_tree=None,\n",
       "                                     objective='binary:logistic',\n",
       "                                     random_state=None, reg_alpha=None,\n",
       "                                     reg_lambda=None, scale_pos_weight=None,\n",
       "                                     subsample=None, tree_method=None,\n",
       "                                     validate_parameters=None, verbosity=None),\n",
       "             iid=False, n_jobs=4,\n",
       "             param_grid={'reg_alpha': [0, 0.001, 0.005, 0.01, 0.05]},\n",
       "             pre_dispatch='2*n_jobs', refit=True, return_train_score=False,\n",
       "             scoring='roc_auc', verbose=0)"
      ]
     },
     "execution_count": 94,
     "metadata": {},
     "output_type": "execute_result"
    }
   ],
   "source": [
    "# tuning regularization parameter\n",
    "param_test3 = {\n",
    " 'reg_alpha':[0, 0.001, 0.005, 0.01, 0.05]\n",
    "}\n",
    "gsearch3 = GridSearchCV(estimator = XGBClassifier(max_depth= 8, n_estimators= 150), \n",
    " param_grid = param_test3, scoring='roc_auc',n_jobs=4,iid=False, cv=5)\n",
    "gsearch3.fit(X_train, y_train)"
   ]
  },
  {
   "cell_type": "code",
   "execution_count": 95,
   "metadata": {},
   "outputs": [
    {
     "data": {
      "text/plain": [
       "({'reg_alpha': 0}, 0.7406911776052666)"
      ]
     },
     "execution_count": 95,
     "metadata": {},
     "output_type": "execute_result"
    }
   ],
   "source": [
    "gsearch3.best_params_, gsearch3.best_score_"
   ]
  },
  {
   "cell_type": "code",
   "execution_count": 98,
   "metadata": {},
   "outputs": [
    {
     "data": {
      "image/png": "[encoded data removed]",
      "text/plain": [
       "<Figure size 432x288 with 1 Axes>"
      ]
     },
     "metadata": {
      "needs_background": "light"
     },
     "output_type": "display_data"
    }
   ],
   "source": [
    "# ROC-AUC PLOT\n",
    "from sklearn.metrics import roc_curve\n",
    "from sklearn.metrics import auc\n",
    "y_pred = xgb_model_tuning1.predict(X_test)\n",
    "\n",
    "# fpr means false-positive-rate\n",
    "# tpr means true-positive-rate\n",
    "fpr, tpr, _ = roc_curve(y_test, y_pred)\n",
    "auc_score = auc(fpr, tpr)\n",
    "\n",
    "# clear current figure\n",
    "plt.clf()\n",
    "\n",
    "plt.title('ROC Curve')\n",
    "plt.plot(fpr, tpr, label='AUC = {:.2f}'.format(auc_score))\n",
    "\n",
    "# it's helpful to add a diagonal to indicate where chance \n",
    "# scores lie (i.e. just flipping a coin)\n",
    "plt.plot([0,1],[0,1],'r--')\n",
    "\n",
    "plt.xlim([-0.1,1.1])\n",
    "plt.ylim([-0.1,1.1])\n",
    "plt.ylabel('True Positive Rate')\n",
    "plt.xlabel('False Positive Rate')\n",
    "\n",
    "plt.legend(loc='lower right')\n",
    "plt.show()"
   ]
  },
  {
   "cell_type": "code",
   "execution_count": 223,
   "metadata": {},
   "outputs": [
    {
     "data": {
      "image/png": "[encoded data removed]",
      "text/plain": [
       "<Figure size 432x288 with 1 Axes>"
      ]
     },
     "metadata": {
      "needs_background": "light"
     },
     "output_type": "display_data"
    }
   ],
   "source": [
    "# plot feature importance\n",
    "from xgboost import plot_importance\n",
    "plot_importance(xgb_model_tuning1, max_num_features= 20)\n",
    "plt.show()"
   ]
  },
  {
   "cell_type": "code",
   "execution_count": 236,
   "metadata": {},
   "outputs": [
    {
     "data": {
      "text/html": [
       "<div>\n",
       "<style scoped>\n",
       "    .dataframe tbody tr th:only-of-type {\n",
       "        vertical-align: middle;\n",
       "    }\n",
       "\n",
       "    .dataframe tbody tr th {\n",
       "        vertical-align: top;\n",
       "    }\n",
       "\n",
       "    .dataframe thead th {\n",
       "        text-align: right;\n",
       "    }\n",
       "</style>\n",
       "<table border=\"1\" class=\"dataframe\">\n",
       "  <thead>\n",
       "    <tr style=\"text-align: right;\">\n",
       "      <th></th>\n",
       "      <th>CRS_ELAPSED_TIME</th>\n",
       "      <th>DISTANCE</th>\n",
       "      <th>Holiday</th>\n",
       "      <th>Carrier_cat</th>\n",
       "      <th>Origin_cat</th>\n",
       "      <th>Dest_cat</th>\n",
       "      <th>Dest_state_cat</th>\n",
       "      <th>Condition_cat</th>\n",
       "      <th>Month</th>\n",
       "      <th>Weekday</th>\n",
       "      <th>...</th>\n",
       "      <th>Condition_is_Clear</th>\n",
       "      <th>Condition_is_Overcast</th>\n",
       "      <th>Condition_is_Partially cloudy</th>\n",
       "      <th>Condition_is_Rain</th>\n",
       "      <th>Condition_is_Rain, Overcast</th>\n",
       "      <th>Condition_is_Rain, Partially cloudy</th>\n",
       "      <th>Condition_is_Snow</th>\n",
       "      <th>Condition_is_Snow, Overcast</th>\n",
       "      <th>Condition_is_Snow, Partially cloudy</th>\n",
       "      <th>Delay</th>\n",
       "    </tr>\n",
       "  </thead>\n",
       "  <tbody>\n",
       "    <tr>\n",
       "      <th>0</th>\n",
       "      <td>170</td>\n",
       "      <td>762</td>\n",
       "      <td>0</td>\n",
       "      <td>13</td>\n",
       "      <td>1</td>\n",
       "      <td>3</td>\n",
       "      <td>6</td>\n",
       "      <td>0</td>\n",
       "      <td>11</td>\n",
       "      <td>5</td>\n",
       "      <td>...</td>\n",
       "      <td>1</td>\n",
       "      <td>0</td>\n",
       "      <td>0</td>\n",
       "      <td>0</td>\n",
       "      <td>0</td>\n",
       "      <td>0</td>\n",
       "      <td>0</td>\n",
       "      <td>0</td>\n",
       "      <td>0</td>\n",
       "      <td>0</td>\n",
       "    </tr>\n",
       "    <tr>\n",
       "      <th>1</th>\n",
       "      <td>165</td>\n",
       "      <td>762</td>\n",
       "      <td>0</td>\n",
       "      <td>13</td>\n",
       "      <td>1</td>\n",
       "      <td>3</td>\n",
       "      <td>6</td>\n",
       "      <td>0</td>\n",
       "      <td>11</td>\n",
       "      <td>5</td>\n",
       "      <td>...</td>\n",
       "      <td>1</td>\n",
       "      <td>0</td>\n",
       "      <td>0</td>\n",
       "      <td>0</td>\n",
       "      <td>0</td>\n",
       "      <td>0</td>\n",
       "      <td>0</td>\n",
       "      <td>0</td>\n",
       "      <td>0</td>\n",
       "      <td>0</td>\n",
       "    </tr>\n",
       "    <tr>\n",
       "      <th>2</th>\n",
       "      <td>170</td>\n",
       "      <td>762</td>\n",
       "      <td>0</td>\n",
       "      <td>13</td>\n",
       "      <td>1</td>\n",
       "      <td>3</td>\n",
       "      <td>6</td>\n",
       "      <td>0</td>\n",
       "      <td>11</td>\n",
       "      <td>5</td>\n",
       "      <td>...</td>\n",
       "      <td>1</td>\n",
       "      <td>0</td>\n",
       "      <td>0</td>\n",
       "      <td>0</td>\n",
       "      <td>0</td>\n",
       "      <td>0</td>\n",
       "      <td>0</td>\n",
       "      <td>0</td>\n",
       "      <td>0</td>\n",
       "      <td>0</td>\n",
       "    </tr>\n",
       "    <tr>\n",
       "      <th>3</th>\n",
       "      <td>160</td>\n",
       "      <td>762</td>\n",
       "      <td>0</td>\n",
       "      <td>13</td>\n",
       "      <td>1</td>\n",
       "      <td>3</td>\n",
       "      <td>6</td>\n",
       "      <td>0</td>\n",
       "      <td>11</td>\n",
       "      <td>5</td>\n",
       "      <td>...</td>\n",
       "      <td>1</td>\n",
       "      <td>0</td>\n",
       "      <td>0</td>\n",
       "      <td>0</td>\n",
       "      <td>0</td>\n",
       "      <td>0</td>\n",
       "      <td>0</td>\n",
       "      <td>0</td>\n",
       "      <td>0</td>\n",
       "      <td>0</td>\n",
       "    </tr>\n",
       "    <tr>\n",
       "      <th>4</th>\n",
       "      <td>165</td>\n",
       "      <td>762</td>\n",
       "      <td>0</td>\n",
       "      <td>13</td>\n",
       "      <td>1</td>\n",
       "      <td>3</td>\n",
       "      <td>6</td>\n",
       "      <td>0</td>\n",
       "      <td>11</td>\n",
       "      <td>5</td>\n",
       "      <td>...</td>\n",
       "      <td>1</td>\n",
       "      <td>0</td>\n",
       "      <td>0</td>\n",
       "      <td>0</td>\n",
       "      <td>0</td>\n",
       "      <td>0</td>\n",
       "      <td>0</td>\n",
       "      <td>0</td>\n",
       "      <td>0</td>\n",
       "      <td>0</td>\n",
       "    </tr>\n",
       "  </tbody>\n",
       "</table>\n",
       "<p>5 rows × 40 columns</p>\n",
       "</div>"
      ],
      "text/plain": [
       "   CRS_ELAPSED_TIME  DISTANCE  Holiday  Carrier_cat  Origin_cat  Dest_cat  \\\n",
       "0               170       762        0           13           1         3   \n",
       "1               165       762        0           13           1         3   \n",
       "2               170       762        0           13           1         3   \n",
       "3               160       762        0           13           1         3   \n",
       "4               165       762        0           13           1         3   \n",
       "\n",
       "   Dest_state_cat  Condition_cat  Month  Weekday  ...  Condition_is_Clear  \\\n",
       "0               6              0     11        5  ...                   1   \n",
       "1               6              0     11        5  ...                   1   \n",
       "2               6              0     11        5  ...                   1   \n",
       "3               6              0     11        5  ...                   1   \n",
       "4               6              0     11        5  ...                   1   \n",
       "\n",
       "   Condition_is_Overcast  Condition_is_Partially cloudy  Condition_is_Rain  \\\n",
       "0                      0                              0                  0   \n",
       "1                      0                              0                  0   \n",
       "2                      0                              0                  0   \n",
       "3                      0                              0                  0   \n",
       "4                      0                              0                  0   \n",
       "\n",
       "   Condition_is_Rain, Overcast  Condition_is_Rain, Partially cloudy  \\\n",
       "0                            0                                    0   \n",
       "1                            0                                    0   \n",
       "2                            0                                    0   \n",
       "3                            0                                    0   \n",
       "4                            0                                    0   \n",
       "\n",
       "   Condition_is_Snow  Condition_is_Snow, Overcast  \\\n",
       "0                  0                            0   \n",
       "1                  0                            0   \n",
       "2                  0                            0   \n",
       "3                  0                            0   \n",
       "4                  0                            0   \n",
       "\n",
       "   Condition_is_Snow, Partially cloudy  Delay  \n",
       "0                                    0      0  \n",
       "1                                    0      0  \n",
       "2                                    0      0  \n",
       "3                                    0      0  \n",
       "4                                    0      0  \n",
       "\n",
       "[5 rows x 40 columns]"
      ]
     },
     "execution_count": 236,
     "metadata": {},
     "output_type": "execute_result"
    }
   ],
   "source": [
    "# feature selection\n",
    "\n",
    "model_df_select= full_df.drop('DEP_DELAY', axis= 1)\n",
    "# creating instance of labelencoder\n",
    "labelencoder = LabelEncoder()\n",
    "# Assigning numerical values and storing in another column\n",
    "model_df_select['Carrier_cat'] = labelencoder.fit_transform(model_df_select['OP_CARRIER'])\n",
    "model_df_select['Origin_cat'] = labelencoder.fit_transform(model_df_select['ORIGIN'])\n",
    "model_df_select['Dest_cat'] = labelencoder.fit_transform(model_df_select['DEST'])\n",
    "model_df_select['Dest_state_cat'] = labelencoder.fit_transform(model_df_select['DEST_STATE_ABR'])\n",
    "model_df_select['Condition_cat'] = labelencoder.fit_transform(model_df_select['Conditions'])\n",
    "# generate binary values using get_dummies\n",
    "model_df_select['Month']= model_df_select['MONTH']\n",
    "model_df_select['Weekday']= model_df_select['DAY_OF_WEEK']\n",
    "model_df_select['Hour']= model_df_select['CRS_DEP_TIME'].astype(int)\n",
    "model_df_select = pd.get_dummies(model_df_select, columns=[\"MONTH\"], prefix=[\"Month_is\"] )\n",
    "model_df_select = pd.get_dummies(model_df_select, columns=[\"DAY_OF_WEEK\"], prefix=[\"Weekday_is\"] )\n",
    "model_df_select = pd.get_dummies(model_df_select, columns=[\"Conditions\"], prefix=[\"Condition_is\"] )\n",
    "\n",
    "model_df_select['Delay']= model_df_select['DEP_DEL15']\n",
    "model_df_select= model_df_select.drop(['DEP_DEL15','Date','CRS_DEP_TIME','OP_CARRIER','ORIGIN','DEST','DEST_STATE_ABR'], axis = 1)\n",
    "model_df_select.head()"
   ]
  },
  {
   "cell_type": "code",
   "execution_count": 239,
   "metadata": {},
   "outputs": [
    {
     "name": "stdout",
     "output_type": "stream",
     "text": [
      "Accuracy: 80.67%\n",
      "AUC: 0.584416\n",
      "Precision: 0.624851\n",
      "Recall: 0.200931\n"
     ]
    }
   ],
   "source": [
    "# Redo the whole model-fitting process\n",
    "\n",
    "# split data into X and Y\n",
    "X = model_df_select.drop(['Delay'], axis=1)\n",
    "Y = model_df_select['Delay']\n",
    "# split data into train and test sets\n",
    "seed = 30034\n",
    "test_size = 0.3\n",
    "X_train, X_test, y_train, y_test = train_test_split(X, Y, test_size=test_size, random_state=seed)\n",
    "# fit best parameters\n",
    "xgb_model_selection = XGBClassifier(max_depth= 8, n_estimators= 150, min_child_weight= 8)\n",
    "xgb_model_selection.fit(X_train, y_train)\n",
    "y_pred = xgb_model_selection.predict(X_test)\n",
    "predictions = [round(value) for value in y_pred]\n",
    "# evaluate predictions\n",
    "accuracy = accuracy_score(y_test, predictions)\n",
    "print(\"Accuracy: %.2f%%\" % (accuracy * 100.0))\n",
    "auc= roc_auc_score(y_test,y_pred)\n",
    "print('AUC: %f' % auc)\n",
    "# precision tp / (tp + fp)\n",
    "precision = precision_score(y_test, y_pred)\n",
    "print('Precision: %f' % precision)\n",
    "# recall: tp / (tp + fn)\n",
    "recall = recall_score(y_test, y_pred)\n",
    "print('Recall: %f' % recall)"
   ]
  },
  {
   "cell_type": "code",
   "execution_count": 233,
   "metadata": {},
   "outputs": [
    {
     "data": {
      "image/png": "[encoded data removed]",
      "text/plain": [
       "<Figure size 432x288 with 1 Axes>"
      ]
     },
     "metadata": {
      "needs_background": "light"
     },
     "output_type": "display_data"
    }
   ],
   "source": [
    "# plot feature importance\n",
    "plot_importance(xgb_model_selection, max_num_features= 20)\n",
    "plt.show()"
   ]
  },
  {
   "cell_type": "markdown",
   "metadata": {},
   "source": [
    "# ii) Logistic Regression"
   ]
  },
  {
   "cell_type": "code",
   "execution_count": 55,
   "metadata": {},
   "outputs": [],
   "source": [
    "# Logistic Regression\n",
    "from sklearn.linear_model import LogisticRegression\n",
    "\n",
    "from sklearn.model_selection import train_test_split\n",
    "from sklearn.metrics import accuracy_score\n",
    "from sklearn.preprocessing import LabelEncoder"
   ]
  },
  {
   "cell_type": "code",
   "execution_count": 56,
   "metadata": {},
   "outputs": [],
   "source": [
    "lr_model= initial_model_df"
   ]
  },
  {
   "cell_type": "code",
   "execution_count": 57,
   "metadata": {},
   "outputs": [],
   "source": [
    "# split data into X and Y\n",
    "X = lr_model.drop(['Delay'], axis=1)\n",
    "Y = lr_model['Delay']"
   ]
  },
  {
   "cell_type": "code",
   "execution_count": 58,
   "metadata": {},
   "outputs": [],
   "source": [
    "# split data into train and test sets\n",
    "seed = 30034\n",
    "test_size = 0.3\n",
    "X_train, X_test, y_train, y_test = train_test_split(X, Y, test_size=test_size, random_state=seed)"
   ]
  },
  {
   "cell_type": "code",
   "execution_count": 59,
   "metadata": {},
   "outputs": [
    {
     "name": "stderr",
     "output_type": "stream",
     "text": [
      "C:\\Users\\miows\\Anaconda3\\lib\\site-packages\\ipykernel_launcher.py:8: SettingWithCopyWarning: \n",
      "A value is trying to be set on a copy of a slice from a DataFrame.\n",
      "Try using .loc[row_indexer,col_indexer] = value instead\n",
      "\n",
      "See the caveats in the documentation: http://pandas.pydata.org/pandas-docs/stable/user_guide/indexing.html#returning-a-view-versus-a-copy\n",
      "  \n",
      "C:\\Users\\miows\\Anaconda3\\lib\\site-packages\\ipykernel_launcher.py:9: SettingWithCopyWarning: \n",
      "A value is trying to be set on a copy of a slice from a DataFrame.\n",
      "Try using .loc[row_indexer,col_indexer] = value instead\n",
      "\n",
      "See the caveats in the documentation: http://pandas.pydata.org/pandas-docs/stable/user_guide/indexing.html#returning-a-view-versus-a-copy\n",
      "  if __name__ == '__main__':\n",
      "C:\\Users\\miows\\Anaconda3\\lib\\site-packages\\ipykernel_launcher.py:12: SettingWithCopyWarning: \n",
      "A value is trying to be set on a copy of a slice from a DataFrame.\n",
      "Try using .loc[row_indexer,col_indexer] = value instead\n",
      "\n",
      "See the caveats in the documentation: http://pandas.pydata.org/pandas-docs/stable/user_guide/indexing.html#returning-a-view-versus-a-copy\n",
      "  if sys.path[0] == '':\n",
      "C:\\Users\\miows\\Anaconda3\\lib\\site-packages\\ipykernel_launcher.py:13: SettingWithCopyWarning: \n",
      "A value is trying to be set on a copy of a slice from a DataFrame.\n",
      "Try using .loc[row_indexer,col_indexer] = value instead\n",
      "\n",
      "See the caveats in the documentation: http://pandas.pydata.org/pandas-docs/stable/user_guide/indexing.html#returning-a-view-versus-a-copy\n",
      "  del sys.path[0]\n"
     ]
    }
   ],
   "source": [
    "# To scale: 'CRS_ELAPSED_TIME','DISTANCE' \n",
    "from sklearn import preprocessing\n",
    "\n",
    "# scale to [0,1] range\n",
    "\n",
    "# FOR TRAINING DATA (X_train)\n",
    "min_max_scaler = preprocessing.MinMaxScaler()\n",
    "X_train['CRS_ELAPSED_TIME'] = min_max_scaler.fit_transform(X_train['CRS_ELAPSED_TIME'].values.reshape(-1,1))\n",
    "X_train['DISTANCE'] = min_max_scaler.fit_transform(X_train['DISTANCE'].values.reshape(-1,1))\n",
    "\n",
    "# FOR TESTING DATA (x_test)\n",
    "X_test['CRS_ELAPSED_TIME'] = min_max_scaler.fit_transform(X_test['CRS_ELAPSED_TIME'].values.reshape(-1,1))\n",
    "X_test['DISTANCE'] = min_max_scaler.fit_transform(X_test['DISTANCE'].values.reshape(-1,1))"
   ]
  },
  {
   "cell_type": "code",
   "execution_count": 60,
   "metadata": {},
   "outputs": [],
   "source": [
    "# Fit model (Logistic Regression)\n",
    "mlr = LogisticRegression(solver = 'lbfgs', max_iter = 10000)\n",
    "mlr_fitting = mlr.fit(X_train, y_train)"
   ]
  },
  {
   "cell_type": "code",
   "execution_count": 61,
   "metadata": {},
   "outputs": [
    {
     "name": "stdout",
     "output_type": "stream",
     "text": [
      "Accuracy Score of Logistic Regression is  79.35845352578097\n",
      "AUC: 0.527575\n",
      "Precision: 0.574607\n",
      "Recall: 0.068678\n"
     ]
    }
   ],
   "source": [
    "y_predict = mlr_fitting.predict(X_test)\n",
    "print(f\"Accuracy Score of Logistic Regression is \", accuracy_score(y_test, y_predict) * 100)\n",
    "\n",
    "auc= roc_auc_score(y_test,y_predict)\n",
    "print('AUC: %f' % auc)\n",
    "\n",
    "# precision tp / (tp + fp)\n",
    "precision = precision_score(y_test, y_predict)\n",
    "print('Precision: %f' % precision)\n",
    "\n",
    "# recall: tp / (tp + fn)\n",
    "recall = recall_score(y_test, y_predict)\n",
    "print('Recall: %f' % recall)"
   ]
  },
  {
   "cell_type": "markdown",
   "metadata": {},
   "source": [
    "# iii) SVM"
   ]
  },
  {
   "cell_type": "code",
   "execution_count": 76,
   "metadata": {},
   "outputs": [],
   "source": [
    "import numpy as np\n",
    "from random import sample\n",
    "from sklearn.svm import SVC\n",
    "from sklearn import metrics\n",
    "from sklearn import preprocessing\n",
    "from sklearn.preprocessing import StandardScaler"
   ]
  },
  {
   "cell_type": "code",
   "execution_count": 68,
   "metadata": {},
   "outputs": [],
   "source": [
    "SVM_df = initial_model_df.sample(10000)"
   ]
  },
  {
   "cell_type": "code",
   "execution_count": 69,
   "metadata": {},
   "outputs": [],
   "source": [
    "X_SVM = SVM_df.drop(['Delay'], axis=1)\n",
    "Y_SVM = SVM_df['Delay']\n",
    "\n",
    "# Normalisation\n",
    "normalized_X = preprocessing.normalize(X_SVM.values)\n",
    "X_SVM = pd.DataFrame(normalized_X, index=X_SVM.index, columns=X_SVM.columns)\n",
    "\n",
    "# Standardization\n",
    "scaler = StandardScaler()\n",
    "X_SVM = scaler.fit_transform(X_SVM)\n",
    "\n",
    "# Train test split\n",
    "X_train_SVM, X_test_SVM, y_train_SVM, y_test_SVM = train_test_split(X_SVM, Y_SVM, \n",
    "                                                                    test_size=0.3, random_state=1234)"
   ]
  },
  {
   "cell_type": "code",
   "execution_count": 70,
   "metadata": {},
   "outputs": [],
   "source": [
    "SVM_model = SVC(kernel=\"linear\", C=0.1, gamma=1)\n",
    "clf = SVM_model.fit(X_train_SVM, y_train_SVM)"
   ]
  },
  {
   "cell_type": "code",
   "execution_count": 71,
   "metadata": {},
   "outputs": [
    {
     "name": "stdout",
     "output_type": "stream",
     "text": [
      "Training Score 0.7935714285714286\n",
      "Test score 0.8023333333333333\n"
     ]
    }
   ],
   "source": [
    "# Check overfitting of the model\n",
    "# Predicting over the Train Set\n",
    "train_pred_SVM = clf.predict(X_train_SVM)\n",
    "train_score = clf.score(X_train_SVM, y_train_SVM)\n",
    "print('Training Score', train_score)\n",
    "\n",
    "# Predicting over the Test Set\n",
    "test_predict = clf.predict(X_SVM)\n",
    "test_score = clf.score(X_test_SVM, y_test_SVM)\n",
    "print('Test score', test_score )\n",
    "#pd.Series(train_pred_SVM).unique()"
   ]
  },
  {
   "cell_type": "code",
   "execution_count": 72,
   "metadata": {},
   "outputs": [
    {
     "name": "stdout",
     "output_type": "stream",
     "text": [
      "Accuracy:  0.7962\n",
      "Precision:  0.4782608695652174\n",
      "Recall:  0.005400098183603338\n",
      "AUC:  0.5019465642242894\n"
     ]
    }
   ],
   "source": [
    "#Train the model using the training sets\n",
    "\n",
    "#Predict the response for the whole sample (n=10000)\n",
    "y_pred_SVM = clf.predict(X_SVM)\n",
    "\n",
    "print('Accuracy: ', metrics.accuracy_score(Y_SVM, y_pred_SVM))\n",
    "print('Precision: ', metrics.precision_score(Y_SVM, y_pred_SVM))\n",
    "print('Recall: ', metrics.recall_score(Y_SVM, y_pred_SVM))\n",
    "print('AUC: ', roc_auc_score(Y_SVM,y_pred_SVM))"
   ]
  },
  {
   "cell_type": "code",
   "execution_count": 77,
   "metadata": {},
   "outputs": [],
   "source": [
    "SVM_model = SVC(kernel=\"rbf\")\n",
    "clf = SVM_model.fit(X_train_SVM, y_train_SVM)"
   ]
  },
  {
   "cell_type": "code",
   "execution_count": 78,
   "metadata": {},
   "outputs": [
    {
     "name": "stderr",
     "output_type": "stream",
     "text": [
      "/Users/yutinglang/opt/anaconda3/lib/python3.8/site-packages/sklearn/svm/_base.py:976: ConvergenceWarning: Liblinear failed to converge, increase the number of iterations.\n",
      "  warnings.warn(\"Liblinear failed to converge, increase \"\n"
     ]
    }
   ],
   "source": [
    "# Try linearSVM\n",
    "from sklearn.svm import LinearSVC\n",
    "svc = LinearSVC()\n",
    "clf1 = svc.fit(X_train_SVM, y_train_SVM)"
   ]
  },
  {
   "cell_type": "code",
   "execution_count": 79,
   "metadata": {},
   "outputs": [
    {
     "name": "stdout",
     "output_type": "stream",
     "text": [
      "Training Score 0.7894285714285715\n",
      "Test score 0.7893333333333333\n"
     ]
    }
   ],
   "source": [
    "# Check overfitting of the model\n",
    "# Predicting over the Train Set\n",
    "train_pred_SVM1 = clf1.predict(X_train_SVM)\n",
    "train_score1 = clf1.score(X_train_SVM, y_train_SVM)\n",
    "print('Training Score', train_score1)\n",
    "\n",
    "# Predicting over the Test Set\n",
    "test_predict1 = clf1.predict(X_SVM)\n",
    "test_score1 = clf1.score(X_test_SVM, y_test_SVM)\n",
    "print('Test score', test_score1 )\n",
    "#pd.Series(train_pred_SVM).unique()"
   ]
  },
  {
   "cell_type": "code",
   "execution_count": 80,
   "metadata": {},
   "outputs": [
    {
     "name": "stdout",
     "output_type": "stream",
     "text": [
      "Accuracy:  0.7894\n",
      "Precision:  0.4148148148148148\n",
      "Recall:  0.08247422680412371\n",
      "AUC:  0.5263557872686949\n"
     ]
    }
   ],
   "source": [
    "#Train the model using the training sets\n",
    "\n",
    "#Predict the response for the whole sample (n=10000)\n",
    "y_pred_SVM1 = clf1.predict(X_SVM)\n",
    "\n",
    "print('Accuracy: ', metrics.accuracy_score(Y_SVM, y_pred_SVM1))\n",
    "print('Precision: ', metrics.precision_score(Y_SVM, y_pred_SVM1))\n",
    "print('Recall: ', metrics.recall_score(Y_SVM, y_pred_SVM1))\n",
    "print('AUC: ', roc_auc_score(Y_SVM,y_pred_SVM1))"
   ]
  },
  {
   "cell_type": "code",
   "execution_count": 81,
   "metadata": {},
   "outputs": [
    {
     "data": {
      "text/plain": [
       "[<matplotlib.lines.Line2D at 0x7ff5bd6bb790>]"
      ]
     },
     "execution_count": 81,
     "metadata": {},
     "output_type": "execute_result"
    },
    {
     "data": {
      "image/png": "[encoded data removed]",
      "text/plain": [
       "<Figure size 432x288 with 1 Axes>"
      ]
     },
     "metadata": {},
     "output_type": "display_data"
    }
   ],
   "source": [
    "# Plot the boundary\n",
    "plt.scatter(X_train_SVM[:, 0], X_train_SVM[:, 1], c=y_train_SVM, cmap='winter');\n",
    "ax = plt.gca()\n",
    "xlim = ax.get_xlim()\n",
    "w = svc.coef_[0]\n",
    "a = -w[0] / w[1]\n",
    "xx = np.linspace(xlim[0], xlim[1])\n",
    "yy = a * xx - svc.intercept_[0] / w[1]\n",
    "plt.plot(xx, yy)\n",
    "yy = a * xx - (svc.intercept_[0] - 1) / w[1]\n",
    "plt.plot(xx, yy, 'k--')\n",
    "yy = a * xx - (svc.intercept_[0] + 1) / w[1]\n",
    "plt.plot(xx, yy, 'k--')"
   ]
  },
  {
   "cell_type": "markdown",
   "metadata": {},
   "source": [
    "# iv) Zero-R (Baseline)"
   ]
  },
  {
   "cell_type": "code",
   "execution_count": 59,
   "metadata": {},
   "outputs": [],
   "source": [
    "from sklearn.dummy import DummyClassifier"
   ]
  },
  {
   "cell_type": "code",
   "execution_count": 60,
   "metadata": {},
   "outputs": [],
   "source": [
    "baseline_model = initial_model_df"
   ]
  },
  {
   "cell_type": "code",
   "execution_count": 61,
   "metadata": {},
   "outputs": [],
   "source": [
    "# split data into X and Y\n",
    "X = baseline_model.drop(['Delay'], axis=1)\n",
    "Y = baseline_model['Delay']"
   ]
  },
  {
   "cell_type": "code",
   "execution_count": 62,
   "metadata": {},
   "outputs": [],
   "source": [
    "# split data into train and test sets\n",
    "seed = 30034\n",
    "test_size = 0.3\n",
    "X_train, X_test, y_train, y_test = train_test_split(X, Y, test_size=test_size, random_state=seed)"
   ]
  },
  {
   "cell_type": "code",
   "execution_count": 63,
   "metadata": {},
   "outputs": [
    {
     "data": {
      "text/plain": [
       "DummyClassifier(constant=None, random_state=None, strategy='most_frequent')"
      ]
     },
     "execution_count": 63,
     "metadata": {},
     "output_type": "execute_result"
    }
   ],
   "source": [
    "# Zero-R classifier\n",
    "dummy_clf = DummyClassifier(strategy=\"most_frequent\")\n",
    "\n",
    "# Fit into Zero-R\n",
    "dummy_clf.fit(X_train, y_train)"
   ]
  },
  {
   "cell_type": "code",
   "execution_count": 64,
   "metadata": {},
   "outputs": [
    {
     "name": "stdout",
     "output_type": "stream",
     "text": [
      "Accuracy Score of Zero-R is  78.98364171763711\n",
      "AUC: 0.500000\n",
      "Precision: 0.000000\n",
      "Recall: 0.000000\n"
     ]
    },
    {
     "name": "stderr",
     "output_type": "stream",
     "text": [
      "C:\\Users\\miows\\Anaconda3\\lib\\site-packages\\sklearn\\metrics\\_classification.py:1272: UndefinedMetricWarning: Precision is ill-defined and being set to 0.0 due to no predicted samples. Use `zero_division` parameter to control this behavior.\n",
      "  _warn_prf(average, modifier, msg_start, len(result))\n"
     ]
    }
   ],
   "source": [
    "y_predict = dummy_clf.predict(X_test)\n",
    "print(f\"Accuracy Score of Zero-R is \", accuracy_score(y_test, y_predict) * 100)\n",
    "\n",
    "auc= roc_auc_score(y_test,y_predict)\n",
    "print('AUC: %f' % auc)\n",
    "\n",
    "# precision tp / (tp + fp)\n",
    "precision = precision_score(y_test, y_predict)\n",
    "print('Precision: %f' % precision)\n",
    "\n",
    "# recall: tp / (tp + fn)\n",
    "recall = recall_score(y_test, y_predict)\n",
    "print('Recall: %f' % recall)"
   ]
  }
 ],
 "metadata": {
  "kernelspec": {
   "display_name": "Python 3",
   "language": "python",
   "name": "python3"
  },
  "language_info": {
   "codemirror_mode": {
    "name": "ipython",
    "version": 3
   },
   "file_extension": ".py",
   "mimetype": "text/x-python",
   "name": "python",
   "nbconvert_exporter": "python",
   "pygments_lexer": "ipython3",
   "version": "3.6.4"
  }
 },
 "nbformat": 4,
 "nbformat_minor": 2
}
