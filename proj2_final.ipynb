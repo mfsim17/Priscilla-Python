{
 "cells": [
  {
   "cell_type": "markdown",
   "metadata": {},
   "source": [
    "Name, Student ID: Miow Fong Sim, 881623"
   ]
  },
  {
   "cell_type": "markdown",
   "metadata": {},
   "source": [
    "# COMP30027 Machine Learning Assignment 2\n",
    "\n",
    "Besides using pre-computed features provided for Assignment 2, Practical Workshop Week 9 was also used as a reference."
   ]
  },
  {
   "cell_type": "markdown",
   "metadata": {},
   "source": [
    "# Import Libraries"
   ]
  },
  {
   "cell_type": "code",
   "execution_count": 1,
   "metadata": {},
   "outputs": [],
   "source": [
    "import numpy as np\n",
    "import pandas as pd\n",
    "\n",
    "# sklearn\n",
    "import sklearn\n",
    "from sklearn.model_selection import cross_val_score, train_test_split \n",
    "from sklearn.feature_selection import SelectKBest, chi2, mutual_info_classif\n",
    "from sklearn.metrics import accuracy_score\n",
    "\n",
    "# Multinomial Naive Bayes\n",
    "from sklearn.naive_bayes import MultinomialNB\n",
    "\n",
    "# Logistic Regression\n",
    "from sklearn.linear_model import LogisticRegression\n",
    "\n",
    "import pickle\n",
    "import scipy"
   ]
  },
  {
   "cell_type": "markdown",
   "metadata": {},
   "source": [
    "# Part 1: Meta Files"
   ]
  },
  {
   "cell_type": "markdown",
   "metadata": {},
   "source": [
    "## Meta Files : 'review_meta_train.csv' and 'review_meta_train.csv'"
   ]
  },
  {
   "cell_type": "code",
   "execution_count": 2,
   "metadata": {},
   "outputs": [],
   "source": [
    "# Read meta training file into dataframe \n",
    "meta_train_dataframe = pd.read_csv('review_meta_train.csv', encoding = 'ISO-8859-1')\n",
    "\n",
    "# TRAINING\n",
    "# Then, remove date, review_id, reviewer_id, business_id columns \n",
    "meta_X_train = meta_train_dataframe.iloc[:, 4:-1]\n",
    "meta_Y_train = meta_train_dataframe.iloc[:, -1]\n",
    "\n",
    "# TESTING \n",
    "# Fit meta testing file into dataframe\n",
    "meta_X_test = pd.read_csv('review_meta_test.csv', encoding = 'ISO-8859-1').iloc[:, 4:]"
   ]
  },
  {
   "cell_type": "markdown",
   "metadata": {},
   "source": [
    "## 1) Multinomial Naive Bayes"
   ]
  },
  {
   "cell_type": "markdown",
   "metadata": {},
   "source": [
    "### 10-fold Cross Validation"
   ]
  },
  {
   "cell_type": "code",
   "execution_count": 3,
   "metadata": {},
   "outputs": [
    {
     "name": "stdout",
     "output_type": "stream",
     "text": [
      "0.6886133485144689\n"
     ]
    }
   ],
   "source": [
    "mnb = MultinomialNB()\n",
    "scores = cross_val_score(mnb, meta_X_train, meta_Y_train, cv = 10, scoring ='accuracy')\n",
    "print(scores.mean())"
   ]
  },
  {
   "cell_type": "markdown",
   "metadata": {},
   "source": [
    "### Meta Test Prediction"
   ]
  },
  {
   "cell_type": "code",
   "execution_count": 4,
   "metadata": {},
   "outputs": [],
   "source": [
    "mnb_classifier = mnb.fit(meta_X_train, meta_Y_train)\n",
    "mnb_prediction = mnb_classifier.predict(meta_X_test)\n",
    "\n",
    "\n",
    "# Store predictions in .csv\n",
    "result = pd.DataFrame(np.arange(1,len(mnb_prediction) +1), columns = ['Instance_id'])\n",
    "result ['rating'] = mnb_prediction\n",
    "\n",
    "result.to_csv(\"MultinomialNB_meta_prediction.csv\", index = False)"
   ]
  },
  {
   "cell_type": "markdown",
   "metadata": {},
   "source": [
    "## 2) Multi-Class Logistic Regression"
   ]
  },
  {
   "cell_type": "markdown",
   "metadata": {},
   "source": [
    "### 10-fold Cross Validation"
   ]
  },
  {
   "cell_type": "code",
   "execution_count": 5,
   "metadata": {},
   "outputs": [
    {
     "name": "stdout",
     "output_type": "stream",
     "text": [
      "0.6915703308676685\n"
     ]
    }
   ],
   "source": [
    "mlr = LogisticRegression(solver = 'lbfgs', multi_class = 'multinomial', max_iter = 1000)\n",
    "scores = cross_val_score(mlr, meta_X_train, meta_Y_train, cv = 10, scoring ='accuracy')\n",
    "print(scores.mean())"
   ]
  },
  {
   "cell_type": "markdown",
   "metadata": {},
   "source": [
    "### Meta Test Prediction\n"
   ]
  },
  {
   "cell_type": "code",
   "execution_count": 6,
   "metadata": {},
   "outputs": [],
   "source": [
    "mlr_classifier = mlr.fit(meta_X_train, meta_Y_train)\n",
    "mlr_prediction = mlr_classifier.predict(meta_X_test)\n",
    "\n",
    "\n",
    "# Store predictions in .csv\n",
    "result = pd.DataFrame(np.arange(1,len(mnb_prediction) +1), columns = ['Instance_id'])\n",
    "result ['rating'] = mlr_prediction\n",
    "\n",
    "result.to_csv(\"MulticlassLR_meta_prediction.csv\", index = False)"
   ]
  },
  {
   "cell_type": "markdown",
   "metadata": {},
   "source": [
    "# Part 2: Text Files "
   ]
  },
  {
   "cell_type": "markdown",
   "metadata": {},
   "source": [
    "## Count Vectoriser Files"
   ]
  },
  {
   "cell_type": "markdown",
   "metadata": {},
   "source": [
    "\n",
    "\n",
    "- train_countvectorizer.pkl\n",
    "- Contains the CountVectorizer extracted using the review text of the\n",
    "  training data.\n"
   ]
  },
  {
   "cell_type": "code",
   "execution_count": 7,
   "metadata": {},
   "outputs": [
    {
     "name": "stderr",
     "output_type": "stream",
     "text": [
      "C:\\Users\\miows\\Anaconda3\\lib\\site-packages\\sklearn\\base.py:318: UserWarning: Trying to unpickle estimator CountVectorizer from version 0.21.3 when using version 0.22.1. This might lead to breaking code or invalid results. Use at your own risk.\n",
      "  UserWarning)\n"
     ]
    }
   ],
   "source": [
    "vocab = pickle.load(open(\"train_countvectorizer.pkl\", \"rb\"))\n",
    "vocab_dict = vocab.vocabulary_"
   ]
  },
  {
   "cell_type": "code",
   "execution_count": 8,
   "metadata": {},
   "outputs": [
    {
     "name": "stdout",
     "output_type": "stream",
     "text": [
      "41648\n"
     ]
    }
   ],
   "source": [
    "print(len(vocab_dict)) # no of possible values"
   ]
  },
  {
   "cell_type": "markdown",
   "metadata": {},
   "source": [
    "- review_text_train_vec.npz\n",
    "- Contains a sparse matrix of the Bag-of-Word representation of the review text for TRAINING data.\n",
    "- [28068 * size of vocabulary]"
   ]
  },
  {
   "cell_type": "code",
   "execution_count": 9,
   "metadata": {},
   "outputs": [],
   "source": [
    "X_train = scipy.sparse.load_npz('review_text_train_vec.npz')"
   ]
  },
  {
   "cell_type": "markdown",
   "metadata": {},
   "source": [
    "- review_text_test_vec.npz\n",
    "- contains a sparse matrix of the Bag-of-Word representation of the review text for TEST data\n",
    "- [7018 * size of vocabulary]"
   ]
  },
  {
   "cell_type": "code",
   "execution_count": 10,
   "metadata": {},
   "outputs": [],
   "source": [
    "X_test = scipy.sparse.load_npz('review_text_test_vec.npz')"
   ]
  },
  {
   "cell_type": "markdown",
   "metadata": {},
   "source": [
    "### Multinomial Naive Bayes"
   ]
  },
  {
   "cell_type": "markdown",
   "metadata": {},
   "source": [
    "#### 10-fold Cross Validation Using 41648 features"
   ]
  },
  {
   "cell_type": "code",
   "execution_count": 11,
   "metadata": {},
   "outputs": [
    {
     "name": "stdout",
     "output_type": "stream",
     "text": [
      "Multinomial NB average accuracy using 41648 features is  0.8390337159849587\n"
     ]
    }
   ],
   "source": [
    "# Using 41648 features\n",
    "text_mnb_classifier = mnb.fit(X_train.todense(), meta_Y_train)\n",
    "text_accuracy_scores_mnb = cross_val_score(text_mnb_classifier, X_train, meta_Y_train, cv = 10, scoring ='accuracy')\n",
    "print(f\"Multinomial NB average accuracy using 41648 features is \",text_accuracy_scores_mnb.mean())"
   ]
  },
  {
   "cell_type": "markdown",
   "metadata": {},
   "source": [
    "#### Prediction of X_test"
   ]
  },
  {
   "cell_type": "code",
   "execution_count": 12,
   "metadata": {},
   "outputs": [],
   "source": [
    "text_mnb_prediction = text_mnb_classifier.predict(X_test.todense())"
   ]
  },
  {
   "cell_type": "code",
   "execution_count": 14,
   "metadata": {},
   "outputs": [
    {
     "data": {
      "text/plain": [
       "array([5, 5, 1, ..., 5, 5, 5], dtype=int64)"
      ]
     },
     "execution_count": 14,
     "metadata": {},
     "output_type": "execute_result"
    }
   ],
   "source": [
    "text_mnb_prediction"
   ]
  },
  {
   "cell_type": "code",
   "execution_count": 15,
   "metadata": {},
   "outputs": [
    {
     "data": {
      "text/plain": [
       "7018"
      ]
     },
     "execution_count": 15,
     "metadata": {},
     "output_type": "execute_result"
    }
   ],
   "source": [
    "len(text_mnb_prediction)"
   ]
  },
  {
   "cell_type": "code",
   "execution_count": 16,
   "metadata": {},
   "outputs": [],
   "source": [
    "# Store predictions in .csv\n",
    "result = pd.DataFrame(np.arange(1,len(mnb_prediction) +1), columns = ['Instance_id'])\n",
    "result ['rating'] = text_mnb_prediction\n",
    "\n",
    "result.to_csv(\"MultinomialNB_text_prediction.csv\", index = False)"
   ]
  },
  {
   "cell_type": "markdown",
   "metadata": {},
   "source": [
    "### Multi-class Logistic Regression"
   ]
  },
  {
   "cell_type": "code",
   "execution_count": 17,
   "metadata": {},
   "outputs": [],
   "source": [
    "# 10-fold Cross Validation is not carried out for 41468 features"
   ]
  },
  {
   "cell_type": "markdown",
   "metadata": {},
   "source": [
    "#### 90-10 holdout"
   ]
  },
  {
   "cell_type": "code",
   "execution_count": 18,
   "metadata": {},
   "outputs": [],
   "source": [
    "mlr_X_train, mlr_X_test, mlr_Y_train, mlr_Y_test = train_test_split(X_train, meta_Y_train, test_size = 0.1, random_state = 20)"
   ]
  },
  {
   "cell_type": "code",
   "execution_count": 19,
   "metadata": {},
   "outputs": [],
   "source": [
    "mlr_holdout = mlr.fit(mlr_X_train, mlr_Y_train)"
   ]
  },
  {
   "cell_type": "code",
   "execution_count": 20,
   "metadata": {},
   "outputs": [
    {
     "name": "stdout",
     "output_type": "stream",
     "text": [
      "Accuracy Score of Multi-class Logistic Regression using 41648 features is  0.8457427858924118\n"
     ]
    }
   ],
   "source": [
    "mlr_Y_predict = mlr_holdout.predict(mlr_X_test)\n",
    "print(f\"Accuracy Score of Multi-class Logistic Regression using 41648 features is \", accuracy_score(mlr_Y_test, mlr_Y_predict))"
   ]
  },
  {
   "cell_type": "markdown",
   "metadata": {},
   "source": [
    "#### Prediction of X_test"
   ]
  },
  {
   "cell_type": "code",
   "execution_count": 21,
   "metadata": {},
   "outputs": [],
   "source": [
    "text_mlr_classifier = mlr.fit(X_train, meta_Y_train)"
   ]
  },
  {
   "cell_type": "code",
   "execution_count": 22,
   "metadata": {},
   "outputs": [],
   "source": [
    "text_mlr_prediction = text_mlr_classifier.predict(X_test)"
   ]
  },
  {
   "cell_type": "code",
   "execution_count": 23,
   "metadata": {},
   "outputs": [
    {
     "data": {
      "text/plain": [
       "array([5, 5, 1, ..., 3, 5, 5], dtype=int64)"
      ]
     },
     "execution_count": 23,
     "metadata": {},
     "output_type": "execute_result"
    }
   ],
   "source": [
    "text_mlr_prediction"
   ]
  },
  {
   "cell_type": "code",
   "execution_count": 24,
   "metadata": {},
   "outputs": [
    {
     "data": {
      "text/plain": [
       "7018"
      ]
     },
     "execution_count": 24,
     "metadata": {},
     "output_type": "execute_result"
    }
   ],
   "source": [
    "len(text_mlr_prediction)"
   ]
  },
  {
   "cell_type": "code",
   "execution_count": 25,
   "metadata": {},
   "outputs": [],
   "source": [
    "# Store predictions in .csv\n",
    "result = pd.DataFrame(np.arange(1,len(mnb_prediction) +1), columns = ['Instance_id'])\n",
    "result ['rating'] = text_mlr_prediction\n",
    "\n",
    "result.to_csv(\"MulticlassLR_text_prediction.csv\", index = False)"
   ]
  },
  {
   "cell_type": "markdown",
   "metadata": {},
   "source": [
    "# Feature Selection"
   ]
  },
  {
   "cell_type": "markdown",
   "metadata": {},
   "source": [
    "## 50, 100, 150 features using Chi-Squared"
   ]
  },
  {
   "cell_type": "code",
   "execution_count": 26,
   "metadata": {},
   "outputs": [],
   "source": [
    "# 50 features\n",
    "x2_50features = SelectKBest(chi2, k = 50)\n",
    "x2_50features.fit(X_train, meta_Y_train)\n",
    "\n",
    "X_train_50_x2 = x2_50features.transform(X_train)\n",
    "X_test_50_x2 = x2_50features.transform(X_test)\n",
    "\n",
    "# 100 features\n",
    "x2_100features = SelectKBest(chi2, k = 100)\n",
    "x2_100features.fit(X_train, meta_Y_train)\n",
    "\n",
    "X_train_100_x2 = x2_100features.transform(X_train)\n",
    "X_test_100_x2 = x2_100features.transform(X_test)\n",
    "\n",
    "# 200 features\n",
    "x2_200features = SelectKBest(chi2, k = 200)\n",
    "x2_200features.fit(X_train, meta_Y_train)\n",
    "\n",
    "X_train_200_x2 = x2_200features.transform(X_train)\n",
    "X_test_200_x2 = x2_200features.transform(X_test)"
   ]
  },
  {
   "cell_type": "markdown",
   "metadata": {},
   "source": [
    "## 50, 100, 150 features using Mutual Information"
   ]
  },
  {
   "cell_type": "code",
   "execution_count": 27,
   "metadata": {},
   "outputs": [],
   "source": [
    "# 50 features\n",
    "mi_50features = SelectKBest(score_func = mutual_info_classif, k = 50)\n",
    "mi_50features.fit(X_train, meta_Y_train)\n",
    "\n",
    "X_train_50_mi = mi_50features.transform(X_train)\n",
    "X_test_50_mi = mi_50features.transform(X_test)"
   ]
  },
  {
   "cell_type": "code",
   "execution_count": 28,
   "metadata": {},
   "outputs": [],
   "source": [
    "# 100 features\n",
    "mi_100features = SelectKBest(score_func = mutual_info_classif, k = 100)\n",
    "mi_100features.fit(X_train, meta_Y_train)\n",
    "\n",
    "X_train_100_mi = mi_100features.transform(X_train)\n",
    "X_test_100_mi = mi_100features.transform(X_test)"
   ]
  },
  {
   "cell_type": "code",
   "execution_count": 29,
   "metadata": {},
   "outputs": [],
   "source": [
    "# 200 features\n",
    "mi_200features = SelectKBest(score_func = mutual_info_classif, k = 200)\n",
    "mi_200features.fit(X_train, meta_Y_train)\n",
    "\n",
    "X_train_200_mi = mi_200features.transform(X_train)\n",
    "X_test_200_mi = mi_200features.transform(X_test)"
   ]
  },
  {
   "cell_type": "markdown",
   "metadata": {},
   "source": [
    "## Multinomial Naive Bayes"
   ]
  },
  {
   "cell_type": "markdown",
   "metadata": {},
   "source": [
    "#### ii) 50, 100, 200 features according to Chi-Squared"
   ]
  },
  {
   "cell_type": "code",
   "execution_count": 30,
   "metadata": {},
   "outputs": [
    {
     "name": "stdout",
     "output_type": "stream",
     "text": [
      "Multinomial NB average accuracy using 50 features according to chi-squared is  0.7803910953702191\n",
      "Multinomial NB average accuracy using 100 features according to chi-squared is  0.7961027707688318\n",
      "Multinomial NB average accuracy using 200 features according to chi-squared is  0.812705165606501\n"
     ]
    }
   ],
   "source": [
    "# Using 50 features\n",
    "text_mnb_classifier_50_x2 = mnb.fit(X_train_50_x2.todense(), meta_Y_train)\n",
    "text_mnb_accuracy_scores_50_x2 = cross_val_score(text_mnb_classifier_50_x2, X_train_50_x2, meta_Y_train, cv = 10, scoring ='accuracy')\n",
    "print(f\"Multinomial NB average accuracy using 50 features according to chi-squared is \",text_mnb_accuracy_scores_50_x2.mean())\n",
    "\n",
    "# Using 100 features\n",
    "text_mnb_classifier_100_x2 = mnb.fit(X_train_100_x2.todense(), meta_Y_train)\n",
    "text_mnb_accuracy_scores_100_x2 = cross_val_score(text_mnb_classifier_100_x2, X_train_100_x2, meta_Y_train, cv = 10, scoring ='accuracy')\n",
    "print(f\"Multinomial NB average accuracy using 100 features according to chi-squared is \",text_mnb_accuracy_scores_100_x2.mean())\n",
    "\n",
    "# Using 200 features\n",
    "text_mnb_classifier_200_x2 = mnb.fit(X_train_200_x2.todense(), meta_Y_train)\n",
    "text_mnb_accuracy_scores_200_x2 = cross_val_score(text_mnb_classifier_200_x2, X_train_200_x2, meta_Y_train, cv = 10, scoring ='accuracy')\n",
    "print(f\"Multinomial NB average accuracy using 200 features according to chi-squared is \",text_mnb_accuracy_scores_200_x2.mean())\n"
   ]
  },
  {
   "cell_type": "markdown",
   "metadata": {},
   "source": [
    "#### iii) 50,100,200 features according to Mutual Information"
   ]
  },
  {
   "cell_type": "code",
   "execution_count": 31,
   "metadata": {},
   "outputs": [
    {
     "name": "stdout",
     "output_type": "stream",
     "text": [
      "Multinomial NB average accuracy using 50 features according to mutual information is  0.7888344889735747\n",
      "Multinomial NB average accuracy using 100 features according to mutual information is  0.8012331837141694\n",
      "Multinomial NB average accuracy using 200 features according to mutual information is  0.8159474798392472\n"
     ]
    }
   ],
   "source": [
    "# Using 50 features\n",
    "text_mnb_classifier_50_mi = mnb.fit(X_train_50_mi.todense(), meta_Y_train)\n",
    "text_mnb_accuracy_scores_50_mi = cross_val_score(text_mnb_classifier_50_mi, X_train_50_mi, meta_Y_train, cv = 10, scoring ='accuracy')\n",
    "print(f\"Multinomial NB average accuracy using 50 features according to mutual information is \",text_mnb_accuracy_scores_50_mi.mean())\n",
    "\n",
    "# Using 100 features\n",
    "text_mnb_classifier_100_mi = mnb.fit(X_train_100_mi.todense(), meta_Y_train)\n",
    "text_mnb_accuracy_scores_100_mi = cross_val_score(text_mnb_classifier_100_mi, X_train_100_mi, meta_Y_train, cv = 10, scoring ='accuracy')\n",
    "print(f\"Multinomial NB average accuracy using 100 features according to mutual information is \",text_mnb_accuracy_scores_100_mi.mean())\n",
    "\n",
    "# Using 200 features\n",
    "text_mnb_classifier_200_mi = mnb.fit(X_train_200_mi.todense(), meta_Y_train)\n",
    "text_mnb_accuracy_scores_200_mi = cross_val_score(text_mnb_classifier_200_mi, X_train_200_mi, meta_Y_train, cv = 10, scoring ='accuracy')\n",
    "print(f\"Multinomial NB average accuracy using 200 features according to mutual information is \",text_mnb_accuracy_scores_200_mi.mean())\n"
   ]
  },
  {
   "cell_type": "markdown",
   "metadata": {},
   "source": [
    "## Multi-class Logistic Regression"
   ]
  },
  {
   "cell_type": "markdown",
   "metadata": {},
   "source": [
    "#### i) 50, 100, 200 features according to Chi-Squared"
   ]
  },
  {
   "cell_type": "code",
   "execution_count": 32,
   "metadata": {},
   "outputs": [
    {
     "name": "stdout",
     "output_type": "stream",
     "text": [
      "Multi-class Logistic Regression average accuracy using 50 features according to chi-squared is  0.7878014083008547\n",
      "Multi-class Logistic Regression average accuracy using 100 features according to chi-squared is  0.8034776743103039\n",
      "Multi-class Logistic Regression average accuracy using 200 features according to chi-squared is  0.8238567363284082\n"
     ]
    }
   ],
   "source": [
    "# Using 50 features\n",
    "text_mlr_classifier_50_x2 = mlr.fit(X_train_50_x2.todense(), meta_Y_train)\n",
    "text_mlr_accuracy_scores_50_x2 = cross_val_score(text_mlr_classifier_50_x2, X_train_50_x2, meta_Y_train, cv = 10, scoring ='accuracy')\n",
    "print(f\"Multi-class Logistic Regression average accuracy using 50 features according to chi-squared is \",text_mlr_accuracy_scores_50_x2.mean())\n",
    "\n",
    "# Using 100 features\n",
    "text_mlr_classifier_100_x2 = mlr.fit(X_train_100_x2.todense(), meta_Y_train)\n",
    "text_mlr_accuracy_scores_100_x2 = cross_val_score(text_mlr_classifier_100_x2, X_train_100_x2, meta_Y_train, cv = 10, scoring ='accuracy')\n",
    "print(f\"Multi-class Logistic Regression average accuracy using 100 features according to chi-squared is \",text_mlr_accuracy_scores_100_x2.mean())\n",
    "\n",
    "# Using 200 features\n",
    "text_mlr_classifier_200_x2 = mlr.fit(X_train_200_x2.todense(), meta_Y_train)\n",
    "text_mlr_accuracy_scores_200_x2 = cross_val_score(text_mlr_classifier_200_x2, X_train_200_x2, meta_Y_train, cv = 10, scoring ='accuracy')\n",
    "print(f\"Multi-class Logistic Regression average accuracy using 200 features according to chi-squared is \",text_mlr_accuracy_scores_200_x2.mean())\n"
   ]
  },
  {
   "cell_type": "markdown",
   "metadata": {},
   "source": [
    "#### ii) 50,100,200 features according to Mutual Information"
   ]
  },
  {
   "cell_type": "code",
   "execution_count": 33,
   "metadata": {},
   "outputs": [
    {
     "name": "stdout",
     "output_type": "stream",
     "text": [
      "Multi-class Logistic Regression average accuracy using 50 features according to mutual information is  0.7920767270297934\n",
      "Multi-class Logistic Regression average accuracy using 100 features according to mutual information is  0.8109240060423222\n",
      "Multi-class Logistic Regression average accuracy using 200 features according to mutual information is  0.8292366400971403\n"
     ]
    }
   ],
   "source": [
    "# Using 50 features\n",
    "text_mlr_classifier_50_mi = mlr.fit(X_train_50_mi.todense(), meta_Y_train)\n",
    "text_mlr_accuracy_scores_50_mi = cross_val_score(text_mlr_classifier_50_mi, X_train_50_mi, meta_Y_train, cv = 10, scoring ='accuracy')\n",
    "print(f\"Multi-class Logistic Regression average accuracy using 50 features according to mutual information is \",text_mlr_accuracy_scores_50_mi.mean())\n",
    "\n",
    "# Using 100 features\n",
    "text_mlr_classifier_100_mi = mlr.fit(X_train_100_mi.todense(), meta_Y_train)\n",
    "text_mlr_accuracy_scores_100_mi = cross_val_score(text_mlr_classifier_100_mi, X_train_100_mi, meta_Y_train, cv = 10, scoring ='accuracy')\n",
    "print(f\"Multi-class Logistic Regression average accuracy using 100 features according to mutual information is \",text_mlr_accuracy_scores_100_mi.mean())\n",
    "\n",
    "# Using 200 features\n",
    "text_mlr_classifier_200_mi = mlr.fit(X_train_200_mi.todense(), meta_Y_train)\n",
    "text_mlr_accuracy_scores_200_mi = cross_val_score(text_mlr_classifier_200_mi, X_train_200_mi, meta_Y_train, cv = 10, scoring ='accuracy')\n",
    "print(f\"Multi-class Logistic Regression average accuracy using 200 features according to mutual information is \",text_mlr_accuracy_scores_200_mi.mean())\n"
   ]
  }
 ],
 "metadata": {
  "kernelspec": {
   "display_name": "Python 3",
   "language": "python",
   "name": "python3"
  },
  "language_info": {
   "codemirror_mode": {
    "name": "ipython",
    "version": 3
   },
   "file_extension": ".py",
   "mimetype": "text/x-python",
   "name": "python",
   "nbconvert_exporter": "python",
   "pygments_lexer": "ipython3",
   "version": "3.6.4"
  }
 },
 "nbformat": 4,
 "nbformat_minor": 4
}
